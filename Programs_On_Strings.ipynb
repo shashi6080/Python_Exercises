{
 "cells": [
  {
   "cell_type": "markdown",
   "metadata": {},
   "source": [
    " Program 1 : String comparison\n",
    " 1. Take two strings as input from user\n",
    " 2. Compare strings and output the result"
   ]
  },
  {
   "cell_type": "code",
   "execution_count": 2,
   "metadata": {},
   "outputs": [
    {
     "name": "stdout",
     "output_type": "stream",
     "text": [
      "Enter first number \n",
      "abc\n",
      "Enter second input \n",
      "abc\n",
      "Strings are equal\n"
     ]
    }
   ],
   "source": [
    "a = input('Enter first number \\n')\n",
    "b = input('Enter second input \\n')\n",
    "if a == b:\n",
    "    print(\"Strings are equal\")\n",
    "else:\n",
    "    print(\"Strings are not equal\")  "
   ]
  },
  {
   "cell_type": "markdown",
   "metadata": {},
   "source": [
    "________________________________________________________________________________________________________________________________________________________________________________________________________________________________________________________________\n",
    "Program 2 : Substring check\n",
    "    1. Receive a string from user\n",
    "    2. Check if user entered string is substring of existing string"
   ]
  },
  {
   "cell_type": "code",
   "execution_count": 3,
   "metadata": {},
   "outputs": [
    {
     "name": "stdout",
     "output_type": "stream",
     "text": [
      "Enter substring to check : \n",
      "abc\n",
      "Substring found\n"
     ]
    }
   ],
   "source": [
    "main_string = \"abcdefxyz\"\n",
    "sub_string = input('Enter substring to check : \\n')\n",
    "if sub_string in main_string:\n",
    "    print('Substring found')\n",
    "else:\n",
    "    print('Substring not found')"
   ]
  },
  {
   "cell_type": "markdown",
   "metadata": {},
   "source": [
    "________________________________________________________________________________________________________________________________\n",
    "Program 3 : Count number of occurrences of each character in a string\n",
    "1.  Receive a string from the user\n",
    "2.  Count each character occurrences in the string"
   ]
  },
  {
   "cell_type": "code",
   "execution_count": 4,
   "metadata": {},
   "outputs": [
    {
     "name": "stdout",
     "output_type": "stream",
     "text": [
      "Enter the string \n",
      "shashidhar\n",
      "Count of all characters in GeeksforGeeks is :\n",
      " {'s': 2, 'h': 3, 'a': 2, 'i': 1, 'd': 1, 'r': 1}\n"
     ]
    }
   ],
   "source": [
    "input_str = input('Enter the string \\n')\n",
    "# using naive method to get count  \n",
    "# of each element in string  \n",
    "all_freq = {} \n",
    "  \n",
    "for i in input_str: \n",
    "    if i in all_freq: \n",
    "        all_freq[i] += 1\n",
    "    else: \n",
    "        all_freq[i] = 1\n",
    "print (\"Count of all characters in GeeksforGeeks is :\\n \"+  str(all_freq)) "
   ]
  },
  {
   "cell_type": "code",
   "execution_count": null,
   "metadata": {},
   "outputs": [],
   "source": []
  }
 ],
 "metadata": {
  "kernelspec": {
   "display_name": "Python 3",
   "language": "python",
   "name": "python3"
  },
  "language_info": {
   "codemirror_mode": {
    "name": "ipython",
    "version": 3
   },
   "file_extension": ".py",
   "mimetype": "text/x-python",
   "name": "python",
   "nbconvert_exporter": "python",
   "pygments_lexer": "ipython3",
   "version": "3.6.5"
  }
 },
 "nbformat": 4,
 "nbformat_minor": 2
}
