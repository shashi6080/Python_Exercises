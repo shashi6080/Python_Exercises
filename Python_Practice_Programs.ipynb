{
 "cells": [
  {
   "cell_type": "markdown",
   "metadata": {},
   "source": [
    "<b> Program 1 : Character Input</b>                                                                                                               \n",
    "Create a program that asks the user to enter their name and their age. Print out a message addressed to them that tells them the year that they will turn 100 years old."
   ]
  },
  {
   "cell_type": "code",
   "execution_count": 33,
   "metadata": {},
   "outputs": [
    {
     "name": "stdout",
     "output_type": "stream",
     "text": [
      "Enter your Name :John\n",
      "Enter your Age :32\n",
      "Hi John you will turn to 100 in the year 2086 \n"
     ]
    }
   ],
   "source": [
    "name = input(\"Enter your Name :\")\n",
    "age = int(input(\"Enter your Age :\"))\n",
    "turn_100 = 2018+(100-age)\n",
    "print(\"Hi %s you will turn to 100 in the year %d \" %(name, turn_100))"
   ]
  },
  {
   "cell_type": "markdown",
   "metadata": {},
   "source": [
    "<b>Program 2 : Odd or Even</b>                                                                                                  \n",
    "Ask the user for a number. Depending on whether the number is even or odd, print out an appropriate message to the user."
   ]
  },
  {
   "cell_type": "code",
   "execution_count": 23,
   "metadata": {},
   "outputs": [
    {
     "name": "stdout",
     "output_type": "stream",
     "text": [
      "Enter a number, without decimal point : 31\n",
      "Number is odd\n"
     ]
    }
   ],
   "source": [
    "num = int(float(input(\"Enter a number, without decimal point : \")))\n",
    "if (num % 2) == 0:\n",
    "    print(\"Number is even\")\n",
    "else:\n",
    "    print(\"Number is odd\")   "
   ]
  },
  {
   "cell_type": "markdown",
   "metadata": {},
   "source": [
    "<b>Program 3 : List Operation </b>                                                                                           <br>                                                                                                                           Take a list and write a program that prints out all the elements of the list that are less than 10."
   ]
  },
  {
   "cell_type": "code",
   "execution_count": 38,
   "metadata": {},
   "outputs": [
    {
     "name": "stdout",
     "output_type": "stream",
     "text": [
      "2 9 4 3 6 8 "
     ]
    }
   ],
   "source": [
    "lst = [2, 60, 31, 9, 4, 16, 16, 3, 6, 8, 10]\n",
    "for i in lst:\n",
    "    if i < 10:\n",
    "        print(i, end=' ') # to print in the same line"
   ]
  },
  {
   "cell_type": "markdown",
   "metadata": {},
   "source": [
    "<b> Pragram 4 : List Operation</b>\n",
    "<br>\n",
    "Take a list and print sum of all even numbers and sum of all odd numbers."
   ]
  },
  {
   "cell_type": "code",
   "execution_count": 21,
   "metadata": {},
   "outputs": [
    {
     "name": "stdout",
     "output_type": "stream",
     "text": [
      "Total count of Even numbers is : 46 \n",
      "Total count of odd numbers is : 150 \n"
     ]
    }
   ],
   "source": [
    "lst = [2, 3, 7, 32, 9 ,12 , 45 , 65, 21]\n",
    "even_count = 0\n",
    "odd_count = 0\n",
    "for i in lst :\n",
    "    if i%2==0:\n",
    "        even_count+=i\n",
    "    else:\n",
    "        odd_count+=i\n",
    "print(\"Total count of Even numbers is : %d \" %(even_count))\n",
    "print(\"Total count of odd numbers is : %d \" %(odd_count))"
   ]
  },
  {
   "cell_type": "markdown",
   "metadata": {},
   "source": [
    "<b> Program 5 : List Operation </b>\n",
    "<br>\n",
    "Take a list and multiply all values with 2"
   ]
  },
  {
   "cell_type": "code",
   "execution_count": 26,
   "metadata": {},
   "outputs": [
    {
     "name": "stdout",
     "output_type": "stream",
     "text": [
      "[16, 4, 12, 20, 12, 4, 18, 40]\n"
     ]
    }
   ],
   "source": [
    "# first way \n",
    "lst = [8, 2, 6, 10, 6, 2, 9, 20]\n",
    "for index, item in enumerate(lst):\n",
    "    lst[index]=item*2\n",
    "print(lst)"
   ]
  },
  {
   "cell_type": "code",
   "execution_count": 27,
   "metadata": {},
   "outputs": [
    {
     "name": "stdout",
     "output_type": "stream",
     "text": [
      "[16, 4, 12, 20, 12, 4, 18, 40]\n"
     ]
    }
   ],
   "source": [
    "# second way using list comprehension method\n",
    "lst = [8, 2, 6, 10, 6, 2, 9, 20]\n",
    "new_lst = [i*2 for i in lst]\n",
    "print(new_lst)"
   ]
  },
  {
   "cell_type": "markdown",
   "metadata": {},
   "source": [
    "<b> Program 6 : </b>\n",
    "<br>\n",
    "Take two lists and add values of first list to second list.(Values should be added which are at same index)"
   ]
  },
  {
   "cell_type": "code",
   "execution_count": 42,
   "metadata": {},
   "outputs": [
    {
     "name": "stdout",
     "output_type": "stream",
     "text": [
      "[10, 10, 10, 10, 10, 10, 10, 10]\n"
     ]
    }
   ],
   "source": [
    "# add values from second list to first one\n",
    "lst1 = [4, 4, 4, 4, 4, 4, 4, 4]\n",
    "lst2 = [6, 6, 6, 6, 6, 6, 6, 6]\n",
    "for index, value in enumerate(lst2):\n",
    "    lst1[index] = lst1[index] + value\n",
    "print(lst1)"
   ]
  },
  {
   "cell_type": "code",
   "execution_count": 44,
   "metadata": {},
   "outputs": [
    {
     "name": "stdout",
     "output_type": "stream",
     "text": [
      "[10, 10, 10, 10, 10, 10, 10, 10]\n"
     ]
    }
   ],
   "source": [
    "# second method using zip method and list comprehension\n",
    "lst1 = [4, 4, 4, 4, 4, 4, 4, 4]\n",
    "lst2 = [6, 6, 6, 6, 6, 6, 6, 6]\n",
    "new_list = [x + y for x, y in zip(lst1, lst2)] # zip method helps in iterating over two lists\n",
    "print(new_list)"
   ]
  },
  {
   "cell_type": "markdown",
   "metadata": {},
   "source": [
    "<b> Program 7 : String</b>\n",
    "<br>\n",
    "From alpha numeric string extract each digit and print sum of them"
   ]
  },
  {
   "cell_type": "code",
   "execution_count": 49,
   "metadata": {},
   "outputs": [
    {
     "name": "stdout",
     "output_type": "stream",
     "text": [
      "77\n"
     ]
    }
   ],
   "source": [
    "# first way of program\n",
    "str = \"abc23xyz45p9\"\n",
    "str_list = re.findall('\\d+', str) #extract numbers into list\n",
    "sum = 0\n",
    "for i in str_list:\n",
    "    sum+=int(i) #add all numbers\n",
    "print(sum)"
   ]
  },
  {
   "cell_type": "code",
   "execution_count": 72,
   "metadata": {},
   "outputs": [
    {
     "name": "stdout",
     "output_type": "stream",
     "text": [
      "77\n"
     ]
    }
   ],
   "source": [
    "# second way of program\n",
    "import functools  # in python3 its no more built-in need to import\n",
    "\n",
    "str = \"abc23xyz45p9\"\n",
    "str_list = re.findall('\\d+', str) #extract numbers into list\n",
    "lst = [int(x) for x in str_list]\n",
    "add = functools.reduce(lambda x,y: x+y, lst) #reduce function \n",
    "print(add)"
   ]
  },
  {
   "cell_type": "code",
   "execution_count": null,
   "metadata": {},
   "outputs": [],
   "source": []
  }
 ],
 "metadata": {
  "kernelspec": {
   "display_name": "Python 3",
   "language": "python",
   "name": "python3"
  },
  "language_info": {
   "codemirror_mode": {
    "name": "ipython",
    "version": 3
   },
   "file_extension": ".py",
   "mimetype": "text/x-python",
   "name": "python",
   "nbconvert_exporter": "python",
   "pygments_lexer": "ipython3",
   "version": "3.6.5"
  }
 },
 "nbformat": 4,
 "nbformat_minor": 2
}
