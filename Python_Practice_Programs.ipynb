{
 "cells": [
  {
   "cell_type": "markdown",
   "metadata": {},
   "source": [
    "<b> Program 1: Keyboard input </b>\n",
    "<br>\n",
    "Accept a string, character, integer, float from the keyboard and display them"
   ]
  },
  {
   "cell_type": "code",
   "execution_count": 28,
   "metadata": {},
   "outputs": [
    {
     "name": "stdout",
     "output_type": "stream",
     "text": [
      "Enter a string :abcde\n",
      "Entered String is : abcde\n",
      "Enter a char :a\n",
      "Entered char is : a\n",
      "Enter number :12345\n",
      "Entered integer is :  12345\n",
      "Enter float :12.6\n",
      "Entered float is : 12.6\n"
     ]
    }
   ],
   "source": [
    "strng = input('Enter a string :')\n",
    "print('Entered String is :', strng)\n",
    "\n",
    "ch = input('Enter a char :')\n",
    "print('Entered char is :', ch)\n",
    "\n",
    "itgr = int(input('Enter number :'))\n",
    "print('Entered integer is : ', itgr)\n",
    "\n",
    "flt = float(input('Enter float :'))\n",
    "print('Entered float is :', flt)"
   ]
  },
  {
   "cell_type": "markdown",
   "metadata": {},
   "source": [
    "<b> Program 2: 'eval' fun for keyboard input </b>\n",
    "<br>\n",
    "Accept a list and tuple from the keyboard"
   ]
  },
  {
   "cell_type": "code",
   "execution_count": 30,
   "metadata": {},
   "outputs": [
    {
     "name": "stdout",
     "output_type": "stream",
     "text": [
      "Enter a list : ['a', 'b', 'c', 'd']\n",
      "['a', 'b', 'c', 'd']\n",
      "Enter a tuple : (1, 2, 3, 4)\n",
      "(1, 2, 3, 4)\n"
     ]
    }
   ],
   "source": [
    "lst = eval(input('Enter a list : '))\n",
    "print(lst)\n",
    "\n",
    "tple = eval(input('Enter a tuple : '))\n",
    "print(tple)"
   ]
  },
  {
   "cell_type": "markdown",
   "metadata": {},
   "source": [
    "<b> Program 3: 'math' module </b>\n",
    "<br>\n",
    "Program to calculate area of a circle"
   ]
  },
  {
   "cell_type": "code",
   "execution_count": 42,
   "metadata": {},
   "outputs": [
    {
     "name": "stdout",
     "output_type": "stream",
     "text": [
      "Enter the radius of the circle : 14\n",
      "Area of the circle for the radius 14 is 615.752160\n"
     ]
    }
   ],
   "source": [
    "import math\n",
    "\n",
    "r = float(input('Enter the radius of the circle : '))\n",
    "area = math.pi * r**2\n",
    "print('Area of the circle for the radius %d is %f'%(r, area))"
   ]
  },
  {
   "cell_type": "markdown",
   "metadata": {},
   "source": [
    "<b> Program 4 : 'range' function</b>                                                                                                               \n",
    "Program to display numbers from 10 to 1 in descending order"
   ]
  },
  {
   "cell_type": "code",
   "execution_count": 44,
   "metadata": {},
   "outputs": [
    {
     "name": "stdout",
     "output_type": "stream",
     "text": [
      "10 9 8 7 6 5 4 3 2 1 "
     ]
    }
   ],
   "source": [
    "for x in range(10, 0, -1):\n",
    "    print(x, end=\" \")"
   ]
  },
  {
   "cell_type": "markdown",
   "metadata": {},
   "source": [
    "<b> Program 5 : Nested loops </b>\n",
    "<br>\n",
    "Program to display stars in right angled tringular form using nested loops"
   ]
  },
  {
   "cell_type": "code",
   "execution_count": 47,
   "metadata": {},
   "outputs": [
    {
     "name": "stdout",
     "output_type": "stream",
     "text": [
      "* \n",
      "* * \n",
      "* * * \n",
      "* * * * \n",
      "* * * * * \n",
      "* * * * * * \n",
      "* * * * * * * \n",
      "* * * * * * * * \n",
      "* * * * * * * * * \n",
      "* * * * * * * * * * \n"
     ]
    }
   ],
   "source": [
    "for i in range(1, 11):\n",
    "    for j in range(1, i+1):\n",
    "        print('* ', end='')\n",
    "    print()"
   ]
  },
  {
   "cell_type": "markdown",
   "metadata": {},
   "source": [
    "<b>Program 6 : Odd or Even</b>                                                                                                  \n",
    "Ask the user for a number. Depending on whether the number is even or odd, print out an appropriate message to the user."
   ]
  },
  {
   "cell_type": "code",
   "execution_count": 23,
   "metadata": {},
   "outputs": [
    {
     "name": "stdout",
     "output_type": "stream",
     "text": [
      "Enter a number, without decimal point : 31\n",
      "Number is odd\n"
     ]
    }
   ],
   "source": [
    "num = int(float(input(\"Enter a number, without decimal point : \")))\n",
    "if (num % 2) == 0:\n",
    "    print(\"Number is even\")\n",
    "else:\n",
    "    print(\"Number is odd\")   "
   ]
  },
  {
   "cell_type": "markdown",
   "metadata": {},
   "source": [
    "<b>Program 7 : List Operation </b>                                                                                           <br>                                                                                                                           Take a list and write a program that prints out all the elements of the list that are less than 10."
   ]
  },
  {
   "cell_type": "code",
   "execution_count": 38,
   "metadata": {},
   "outputs": [
    {
     "name": "stdout",
     "output_type": "stream",
     "text": [
      "2 9 4 3 6 8 "
     ]
    }
   ],
   "source": [
    "lst = [2, 60, 31, 9, 4, 16, 16, 3, 6, 8, 10]\n",
    "for i in lst:\n",
    "    if i < 10:\n",
    "        print(i, end=' ') # to print in the same line"
   ]
  },
  {
   "cell_type": "markdown",
   "metadata": {},
   "source": [
    "<b> Pragram 8 : List Operation</b>\n",
    "<br>\n",
    "Take a list and print sum of all even numbers and sum of all odd numbers."
   ]
  },
  {
   "cell_type": "code",
   "execution_count": 21,
   "metadata": {},
   "outputs": [
    {
     "name": "stdout",
     "output_type": "stream",
     "text": [
      "Total count of Even numbers is : 46 \n",
      "Total count of odd numbers is : 150 \n"
     ]
    }
   ],
   "source": [
    "lst = [2, 3, 7, 32, 9 ,12 , 45 , 65, 21]\n",
    "even_count = 0\n",
    "odd_count = 0\n",
    "for i in lst :\n",
    "    if i%2==0:\n",
    "        even_count+=i\n",
    "    else:\n",
    "        odd_count+=i\n",
    "print(\"Total count of Even numbers is : %d \" %(even_count))\n",
    "print(\"Total count of odd numbers is : %d \" %(odd_count))"
   ]
  },
  {
   "cell_type": "markdown",
   "metadata": {},
   "source": [
    "<b> Program 9 : List Operation </b>\n",
    "<br>\n",
    "Take a list and multiply all values with 2"
   ]
  },
  {
   "cell_type": "code",
   "execution_count": 26,
   "metadata": {},
   "outputs": [
    {
     "name": "stdout",
     "output_type": "stream",
     "text": [
      "[16, 4, 12, 20, 12, 4, 18, 40]\n"
     ]
    }
   ],
   "source": [
    "# first way \n",
    "lst = [8, 2, 6, 10, 6, 2, 9, 20]\n",
    "for index, item in enumerate(lst):\n",
    "    lst[index]=item*2\n",
    "print(lst)"
   ]
  },
  {
   "cell_type": "code",
   "execution_count": 27,
   "metadata": {},
   "outputs": [
    {
     "name": "stdout",
     "output_type": "stream",
     "text": [
      "[16, 4, 12, 20, 12, 4, 18, 40]\n"
     ]
    }
   ],
   "source": [
    "# second way using list comprehension method\n",
    "lst = [8, 2, 6, 10, 6, 2, 9, 20]\n",
    "new_lst = [i*2 for i in lst]\n",
    "print(new_lst)"
   ]
  },
  {
   "cell_type": "markdown",
   "metadata": {},
   "source": [
    "<b> Program 10 : List Operation </b>\n",
    "<br>\n",
    "Take two lists and add values of first list to second list.(Values should be added which are at same index)"
   ]
  },
  {
   "cell_type": "code",
   "execution_count": 42,
   "metadata": {},
   "outputs": [
    {
     "name": "stdout",
     "output_type": "stream",
     "text": [
      "[10, 10, 10, 10, 10, 10, 10, 10]\n"
     ]
    }
   ],
   "source": [
    "# add values from second list to first one\n",
    "lst1 = [4, 4, 4, 4, 4, 4, 4, 4]\n",
    "lst2 = [6, 6, 6, 6, 6, 6, 6, 6]\n",
    "for index, value in enumerate(lst2):\n",
    "    lst1[index] = lst1[index] + value\n",
    "print(lst1)"
   ]
  },
  {
   "cell_type": "code",
   "execution_count": 44,
   "metadata": {},
   "outputs": [
    {
     "name": "stdout",
     "output_type": "stream",
     "text": [
      "[10, 10, 10, 10, 10, 10, 10, 10]\n"
     ]
    }
   ],
   "source": [
    "# second method using zip method and list comprehension\n",
    "lst1 = [4, 4, 4, 4, 4, 4, 4, 4]\n",
    "lst2 = [6, 6, 6, 6, 6, 6, 6, 6]\n",
    "new_list = [x + y for x, y in zip(lst1, lst2)] # zip method helps in iterating over two lists\n",
    "print(new_list)"
   ]
  },
  {
   "cell_type": "markdown",
   "metadata": {},
   "source": [
    "<b> Program 11 : String</b>\n",
    "<br>\n",
    "From alpha numeric string extract each digit and print sum of them"
   ]
  },
  {
   "cell_type": "code",
   "execution_count": 49,
   "metadata": {},
   "outputs": [
    {
     "name": "stdout",
     "output_type": "stream",
     "text": [
      "77\n"
     ]
    }
   ],
   "source": [
    "# first way of program\n",
    "str = \"abc23xyz45p9\"\n",
    "str_list = re.findall('\\d+', str) #extract numbers into list\n",
    "sum = 0\n",
    "for i in str_list:\n",
    "    sum+=int(i) #add all numbers\n",
    "print(sum)"
   ]
  },
  {
   "cell_type": "code",
   "execution_count": 72,
   "metadata": {},
   "outputs": [
    {
     "name": "stdout",
     "output_type": "stream",
     "text": [
      "77\n"
     ]
    }
   ],
   "source": [
    "# second way of program\n",
    "import functools  # in python3 its no more built-in need to import\n",
    "\n",
    "str = \"abc23xyz45p9\"\n",
    "str_list = re.findall('\\d+', str) #extract numbers into list\n",
    "lst = [int(x) for x in str_list]\n",
    "add = functools.reduce(lambda x,y: x+y, lst) #reduce function \n",
    "print(add)"
   ]
  },
  {
   "cell_type": "markdown",
   "metadata": {},
   "source": [
    "<b> Program 12 : String palindrome </b>\n",
    "<br>\n",
    "Given a string check if it is palindrome or not"
   ]
  },
  {
   "cell_type": "code",
   "execution_count": 74,
   "metadata": {},
   "outputs": [
    {
     "name": "stdout",
     "output_type": "stream",
     "text": [
      "The given string abcdcba is palindrome\n",
      "The given string abcdefg not palindrome\n"
     ]
    }
   ],
   "source": [
    "lst = [\"abcdcba\", \"abcdefg\"] # given list of strings\n",
    "for item in lst:\n",
    "    if item == item[::-1]: #here just reversed string and compared with original(oops so quick :))\n",
    "        print(\"The given string %s is palindrome\" %(item))\n",
    "    else:\n",
    "        print(\"The given string %s not palindrome\" %(item))\n",
    "    "
   ]
  },
  {
   "cell_type": "markdown",
   "metadata": {},
   "source": [
    "<b> Program 13 : String Operation </b>\n",
    "<br>\n",
    "Given a alphanumeric string remove digits/numbers from string"
   ]
  },
  {
   "cell_type": "code",
   "execution_count": 77,
   "metadata": {},
   "outputs": [
    {
     "name": "stdout",
     "output_type": "stream",
     "text": [
      "alphabetagamma\n"
     ]
    }
   ],
   "source": [
    "a = \"alpha123beta56gamma7\"\n",
    "b = \"\".join([i for i in a if not i.isdigit()])\n",
    "print(b)"
   ]
  },
  {
   "cell_type": "markdown",
   "metadata": {},
   "source": [
    "<b> Program 14 : List Operation </b>\n",
    "<br>\n",
    "Given a list of numbers and delete numbers which are less than 10"
   ]
  },
  {
   "cell_type": "code",
   "execution_count": 82,
   "metadata": {},
   "outputs": [
    {
     "name": "stdout",
     "output_type": "stream",
     "text": [
      "[12, 12, 10, 15, 19]\n"
     ]
    }
   ],
   "source": [
    "lst = [2, 12, 5, 12, 10, 5, 7, 15, 19, 2, 4]\n",
    "lst_new = list(filter(lambda x: (x>=10), lst)) # filter function filters values based on applied logic\n",
    "print(lst_new)"
   ]
  },
  {
   "cell_type": "markdown",
   "metadata": {},
   "source": [
    "<b> Program 15 : List Operation </b>\n",
    "<br>\n",
    "From given list remove duplicate numbers from list"
   ]
  },
  {
   "cell_type": "code",
   "execution_count": 83,
   "metadata": {},
   "outputs": [
    {
     "name": "stdout",
     "output_type": "stream",
     "text": [
      "[2, 4, 5, 6, 7, 9]\n"
     ]
    }
   ],
   "source": [
    "# The following program does operation but won't maintain order\n",
    "lst = [2, 5, 6, 7, 2, 4, 5, 7, 9, 6, 7]\n",
    "lst_new = list(set(lst))  # use set to remove duplicates and again convert into list\n",
    "print(lst_new)"
   ]
  },
  {
   "cell_type": "code",
   "execution_count": 84,
   "metadata": {},
   "outputs": [
    {
     "name": "stdout",
     "output_type": "stream",
     "text": [
      "[2, 5, 6, 7, 4, 9]\n"
     ]
    }
   ],
   "source": [
    "# This program does operation with maintaining order\n",
    "lst = [2, 5, 6, 7, 2, 4, 5, 7, 9, 6, 7]\n",
    "lst_new = []\n",
    "for i in lst:\n",
    "    if i not in lst_new:\n",
    "        lst_new.append(i)\n",
    "print(lst_new)"
   ]
  },
  {
   "cell_type": "markdown",
   "metadata": {},
   "source": [
    "<b> Program 16 : List Operation (Prime numbers) </b>\n",
    "<br>\n",
    "From given list print the numers which are prime numbers"
   ]
  },
  {
   "cell_type": "code",
   "execution_count": 86,
   "metadata": {},
   "outputs": [
    {
     "name": "stdout",
     "output_type": "stream",
     "text": [
      "12 is not prime number\n",
      "2 is a prime number\n",
      "5 is a prime number\n",
      "15 is not prime number\n",
      "16 is not prime number\n",
      "19 is a prime number\n",
      "1 is not a prime number\n",
      "3 is a prime number\n",
      "8 is not prime number\n"
     ]
    }
   ],
   "source": [
    "lst = [12, 2, 5, 15, 16, 19, 1, 3, 8]\n",
    "for item in lst:\n",
    "    if item > 1:\n",
    "        for i in range(2, item):\n",
    "            if (item % i) == 0:\n",
    "                print(\"%d is not prime number\" %(item))\n",
    "                break\n",
    "        else:\n",
    "            print(\"%d is a prime number\" %(item))\n",
    "    else:\n",
    "        print(\"%d is not a prime number\" %(item))"
   ]
  },
  {
   "cell_type": "markdown",
   "metadata": {},
   "source": [
    "<b> Program 17 : (String) </b>\n",
    "<br>\n",
    "Write a Python program to get a string made of the first 2 and the last 2 chars from a given a string.\n",
    "If the string length is less than 2, return instead of the empty string"
   ]
  },
  {
   "cell_type": "code",
   "execution_count": 1,
   "metadata": {},
   "outputs": [
    {
     "name": "stdout",
     "output_type": "stream",
     "text": [
      "abgh\n"
     ]
    }
   ],
   "source": [
    "str1 = \"abcdefgh\"\n",
    "req_str = str1[:2] + str1[-2:]\n",
    "print(req_str)"
   ]
  },
  {
   "cell_type": "markdown",
   "metadata": {},
   "source": [
    "<b> Program 18 : (String, List) </b>\n",
    "<br>\n",
    "From a given string separate digits into one list and characters into other list"
   ]
  },
  {
   "cell_type": "code",
   "execution_count": 2,
   "metadata": {},
   "outputs": [
    {
     "name": "stdout",
     "output_type": "stream",
     "text": [
      "[1, 2, 9, 1, 7, 8]\n",
      "['a', 'b', 'c', 'l', 'p', 'm', 's', 'e']\n"
     ]
    }
   ],
   "source": [
    "str_a = \"abc12lp9m178se\"\n",
    "\n",
    "list_digits = []\n",
    "list_chars = []\n",
    "for i in str_a:\n",
    "    if i.isdigit():\n",
    "        list_digits.append(int(i))\n",
    "    else:\n",
    "        list_chars.append(i)\n",
    "print(list_digits)\n",
    "print(list_chars)"
   ]
  },
  {
   "cell_type": "markdown",
   "metadata": {},
   "source": [
    "<b> Program 19 : (String) </b>\n",
    "<br>\n",
    "Write a Python program to get a string from a given string where all occurrences of its first char have been changed to dollar symbol.\n",
    "except the first char itself.\n",
    "Example bombay -> bom(dollar symbol)ay"
   ]
  },
  {
   "cell_type": "code",
   "execution_count": 3,
   "metadata": {},
   "outputs": [
    {
     "name": "stdout",
     "output_type": "stream",
     "text": [
      "this is $o $es$ replace chars wi$h o$her char\n"
     ]
    }
   ],
   "source": [
    "def replace_chars(str1):\n",
    "    first_char = str1[0];\n",
    "    str1 = str1.replace(first_char, \"$\")\n",
    "    str1 = first_char + str1[1:]\n",
    "    return str1\n",
    "\n",
    "print(replace_chars(\"this is to test replace chars with other char\"))\n"
   ]
  },
  {
   "cell_type": "markdown",
   "metadata": {},
   "source": [
    "<b> Program 20 : (String) </b>\n",
    "<br>add\n",
    "Write a Python program to  'ing' at the end of a given string (length should be at least 3)\n",
    "If the given string already ends with 'ing' then add 'ly' instead\n",
    "If the string length of the given string is less than 3, leave it unchanged"
   ]
  },
  {
   "cell_type": "code",
   "execution_count": 5,
   "metadata": {},
   "outputs": [
    {
     "name": "stdout",
     "output_type": "stream",
     "text": [
      "xy\n",
      "xyzing\n",
      "cleaningly\n"
     ]
    }
   ],
   "source": [
    "def str_alter(str1):\n",
    "    if len(str1) > 2:\n",
    "        if str1[-3:] == \"ing\":\n",
    "            str1+=\"ly\"\n",
    "        else:\n",
    "            str1+=\"ing\"\n",
    "    return str1\n",
    "\n",
    "print(str_alter(\"xy\"))\n",
    "print(str_alter(\"xyz\"))\n",
    "print(str_alter(\"cleaning\"))"
   ]
  },
  {
   "cell_type": "markdown",
   "metadata": {},
   "source": [
    "<b> Program 21 : (Filter Function) </b>\n",
    "<br>\n",
    "Filter vowels from the sentense"
   ]
  },
  {
   "cell_type": "code",
   "execution_count": 9,
   "metadata": {},
   "outputs": [
    {
     "name": "stdout",
     "output_type": "stream",
     "text": [
      "['i', 'i', 'e', 'e', 'a', 'o', 'u', 'i', 'o', 'i', 'o', 'e']\n"
     ]
    }
   ],
   "source": [
    "# function which filters vowels\n",
    "def filt_vowels(variable):\n",
    "    letters = ['a', 'e', 'i', 'o', 'u']\n",
    "    if variable in letters:\n",
    "        return True\n",
    "    else:\n",
    "        return False\n",
    "    \n",
    "sequense = 'this is the test I am conducting to print vowels'\n",
    "filtered = list(filter(filt_vowels, sequense))\n",
    "print(filtered)"
   ]
  },
  {
   "cell_type": "markdown",
   "metadata": {},
   "source": [
    "<b> Program 22 : (Filter Fun) </b>\n",
    "<br>\n",
    "Filter numbers from list which are greater than 5 and less than 10"
   ]
  },
  {
   "cell_type": "code",
   "execution_count": 11,
   "metadata": {},
   "outputs": [
    {
     "name": "stdout",
     "output_type": "stream",
     "text": [
      "[6, 8, 9, 7]\n"
     ]
    }
   ],
   "source": [
    "def filt_num(number):\n",
    "    if number>5 and number<10:\n",
    "        return True\n",
    "    else:\n",
    "        return False\n",
    "lst = [5, 6, 4, 8, 2, 11, 9, 7, 18, 1, 0, 21]\n",
    "filtered = list(filter(filt_num, lst))\n",
    "print(filtered)"
   ]
  },
  {
   "cell_type": "markdown",
   "metadata": {},
   "source": [
    "<b> Program 23 : (Reduce Fun) </b>\n",
    "<br>\n",
    "a) Compute the sum of the elements in the list\n",
    "<br>\n",
    "b) Find largest element in the list"
   ]
  },
  {
   "cell_type": "code",
   "execution_count": 12,
   "metadata": {},
   "outputs": [
    {
     "name": "stdout",
     "output_type": "stream",
     "text": [
      "Sum of the elements in the list is  60\n",
      "Largest element in the list is  11\n"
     ]
    }
   ],
   "source": [
    "import functools\n",
    "\n",
    "lst = [5, 2, 7, 9, 11, 4, 7 ,2, 10, 3]\n",
    "\n",
    "print(\"Sum of the elements in the list is \", end=\" \")\n",
    "print(functools.reduce(lambda a,b: a+b, lst))\n",
    "print(\"Largest element in the list is \", end=\" \")\n",
    "print(functools.reduce(lambda a,b: a if a>b else b, lst))"
   ]
  },
  {
   "cell_type": "markdown",
   "metadata": {},
   "source": [
    "<b> Program 24 : (Map Fun) </b>\n",
    "<br>\n",
    "Given list of numbers double values by adding with same"
   ]
  },
  {
   "cell_type": "code",
   "execution_count": 17,
   "metadata": {},
   "outputs": [
    {
     "name": "stdout",
     "output_type": "stream",
     "text": [
      "[8, 14, 2, 12, 4, 18]\n"
     ]
    }
   ],
   "source": [
    "def addition(n):\n",
    "    return n+n\n",
    "\n",
    "lst = [4, 7, 1, 6, 2 ,9]\n",
    "\n",
    "print(list(map(addition, lst)))"
   ]
  },
  {
   "cell_type": "markdown",
   "metadata": {},
   "source": [
    "<b> Program 25 : (Unpacking sequence) </b>\n",
    "<br>\n",
    "From a given list of numbers, add sum of 2nd and 4th number"
   ]
  },
  {
   "cell_type": "code",
   "execution_count": 1,
   "metadata": {},
   "outputs": [
    {
     "name": "stdout",
     "output_type": "stream",
     "text": [
      "13\n"
     ]
    }
   ],
   "source": [
    "lst = [2, 5, 7, 8]\n",
    "first, second, third, fourth = lst\n",
    "print(second+fourth)"
   ]
  },
  {
   "cell_type": "markdown",
   "metadata": {},
   "source": [
    "<b> Program 26 : (Use of * in unpacking sequence)</b>\n",
    "<br>\n",
    "Unpack a list of arbitrary length. Unpack with 3 variables."
   ]
  },
  {
   "cell_type": "code",
   "execution_count": 2,
   "metadata": {},
   "outputs": [
    {
     "name": "stdout",
     "output_type": "stream",
     "text": [
      "2\n",
      "[5, 7, 8, 6, 1, 3, 9, 12, 14, 67]\n",
      "34\n"
     ]
    }
   ],
   "source": [
    "lst = [2, 5, 7, 8, 6 ,1, 3, 9, 12, 14, 67 ,34]\n",
    "first, *second, third= lst\n",
    "print(first)\n",
    "print(second)\n",
    "print(third)"
   ]
  },
  {
   "cell_type": "markdown",
   "metadata": {},
   "source": [
    "<b> Program 27 : (List) </b>\n",
    "<br>\n",
    "Given list find largest and smallest 'n' numbers   "
   ]
  },
  {
   "cell_type": "code",
   "execution_count": 2,
   "metadata": {},
   "outputs": [
    {
     "name": "stdout",
     "output_type": "stream",
     "text": [
      "[46, 39, 24]\n",
      "[-5, 1, 2]\n"
     ]
    }
   ],
   "source": [
    "import heapq #this module has the methods which is exactly required by us\n",
    "numbers = [2, 7, 3, 22, 8, -5, 17, 24, 46, 39, 1]\n",
    "print(heapq.nlargest(3, numbers))\n",
    "print(heapq.nsmallest(3, numbers))"
   ]
  },
  {
   "cell_type": "markdown",
   "metadata": {},
   "source": [
    "<b> Program 28 : (Dictionary) </b>\n",
    "<br>\n",
    "Create a dictionary which maps keys to more than one value(so called multidict) "
   ]
  },
  {
   "cell_type": "code",
   "execution_count": 6,
   "metadata": {},
   "outputs": [
    {
     "name": "stdout",
     "output_type": "stream",
     "text": [
      "defaultdict(<class 'list'>, {'a': [1, 2, 3, 1]})\n",
      "defaultdict(<class 'set'>, {'a': {1, 2, 3}})\n"
     ]
    }
   ],
   "source": [
    "from collections import defaultdict\n",
    "\n",
    "d1 = defaultdict(list)  # initialize such dictionary\n",
    "d1['a'].append(1)\n",
    "d1['a'].append(2)\n",
    "d1['a'].append(3)\n",
    "d1['a'].append(1)\n",
    "print(d1)\n",
    "\n",
    "d2 = defaultdict(set)\n",
    "d2['a'].add(1)\n",
    "d2['a'].add(2)\n",
    "d2['a'].add(3)\n",
    "d2['a'].add(1)\n",
    "print(d2)"
   ]
  },
  {
   "cell_type": "markdown",
   "metadata": {},
   "source": [
    "<b> Program 29 : (Dictionary) </b>\n",
    "<br>\n",
    "Given different dictionaries concatenate them and create new dictionary"
   ]
  },
  {
   "cell_type": "code",
   "execution_count": 9,
   "metadata": {},
   "outputs": [
    {
     "name": "stdout",
     "output_type": "stream",
     "text": [
      "{1: 10, 2: 20, 3: 'abc', 4: 'xyz', 5: 90, 6: 80}\n"
     ]
    }
   ],
   "source": [
    "dic1 = {1:10, 2:20}\n",
    "dic2 = {3:'abc', 4:'xyz'}\n",
    "dic3 = {5:90, 6:80}\n",
    "\n",
    "dic4 = {}  # create an empty dictionary\n",
    "\n",
    "for d in (dic1, dic2, dic3):\n",
    "    dic4.update(d)\n",
    "print(dic4)"
   ]
  },
  {
   "cell_type": "markdown",
   "metadata": {},
   "source": [
    "<b> Program 30 : (Dictionary) </b>\n",
    "<br>\n",
    "Given different dictionaries check if given key is present in the dictionary"
   ]
  },
  {
   "cell_type": "code",
   "execution_count": 12,
   "metadata": {},
   "outputs": [
    {
     "name": "stdout",
     "output_type": "stream",
     "text": [
      "Key is present in the dictionary  5\n",
      "Key is not present in the dictionary  10\n"
     ]
    }
   ],
   "source": [
    "d = {1:10, 2:20, 3:30, 4:40, 5:50}\n",
    "\n",
    "def is_key_present(x):\n",
    "    if x in d:\n",
    "        print('Key is present in the dictionary ',x)\n",
    "    else:\n",
    "        print('Key is not present in the dictionary ',x)\n",
    "        \n",
    "is_key_present(5)\n",
    "is_key_present(10)"
   ]
  },
  {
   "cell_type": "markdown",
   "metadata": {},
   "source": [
    "<b> Program 31 : (Dictionary) </b>\n",
    "<br>\n",
    "Given a dictionary iterate over all keys and corresponding values"
   ]
  },
  {
   "cell_type": "code",
   "execution_count": 17,
   "metadata": {},
   "outputs": [
    {
     "name": "stdout",
     "output_type": "stream",
     "text": [
      "Key is : abc . And value is : 1\n",
      "Key is : xyz . And value is : 2\n",
      "Key is : def . And value is : 3\n"
     ]
    }
   ],
   "source": [
    "d = {'abc' : 1, 'xyz' : 2, 'def' : 3}\n",
    "\n",
    "for key, value in d.items():\n",
    "    print('Key is :', key, '. And value is :', value)"
   ]
  },
  {
   "cell_type": "markdown",
   "metadata": {},
   "source": [
    "<b> Program 32 : (Dictionary) </b>\n",
    "<br>\n",
    "Given a dictionary sum all the keys and values"
   ]
  },
  {
   "cell_type": "code",
   "execution_count": 22,
   "metadata": {},
   "outputs": [
    {
     "name": "stdout",
     "output_type": "stream",
     "text": [
      "6\n",
      "60\n"
     ]
    }
   ],
   "source": [
    "d = {10 : 1, 20 : 2, 30 : 3}\n",
    "print(sum(d.values()))\n",
    "print(sum(d.keys()))"
   ]
  },
  {
   "cell_type": "markdown",
   "metadata": {},
   "source": [
    "<b> Program 33 : (Dictionary) </b>\n",
    "<br>\n",
    "Given a dictionary remove a key from it"
   ]
  },
  {
   "cell_type": "code",
   "execution_count": 23,
   "metadata": {},
   "outputs": [
    {
     "name": "stdout",
     "output_type": "stream",
     "text": [
      "{'a': 1, 'c': 3, 'd': 4}\n"
     ]
    }
   ],
   "source": [
    "d = {'a':1,'b':2,'c':3,'d':4}\n",
    "del d['b']\n",
    "print(d)"
   ]
  },
  {
   "cell_type": "markdown",
   "metadata": {},
   "source": [
    "<b> Program 34 : (Dictionary) </b>\n",
    "<br>\n",
    "Given two lists map them into a dictionary"
   ]
  },
  {
   "cell_type": "code",
   "execution_count": 25,
   "metadata": {},
   "outputs": [
    {
     "name": "stdout",
     "output_type": "stream",
     "text": [
      "{1: 'a', 2: 'b', 3: 'c', 4: 'd'}\n"
     ]
    }
   ],
   "source": [
    "l1 = [1, 2, 3, 4]\n",
    "l2 = ['a', 'b', 'c', 'd']\n",
    "\n",
    "d = dict(zip(l1, l2))\n",
    "print(d)"
   ]
  },
  {
   "cell_type": "markdown",
   "metadata": {},
   "source": [
    "<b> Program 35 : (List - Most frequent items) </b>\n",
    "<br>\n",
    "Program to determine most frequently occuring items in a sequence"
   ]
  },
  {
   "cell_type": "code",
   "execution_count": 4,
   "metadata": {},
   "outputs": [
    {
     "name": "stdout",
     "output_type": "stream",
     "text": [
      "[('look', 5), ('see', 3), ('army', 3)]\n"
     ]
    }
   ],
   "source": [
    "words = ['look', 'eye', 'see', 'never', 'look', 'my', 'look', 'eye', 'look', 'see', 'army', 'target'\n",
    "        , 'target', 'begin', 'forward', 'army', 'think', 'taegrt', 'see', 'my', 'look', 'army' ]\n",
    "\n",
    "from collections import Counter\n",
    "word_counts = Counter(words)\n",
    "top_three = word_counts.most_common(3)\n",
    "print(top_three)"
   ]
  },
  {
   "cell_type": "markdown",
   "metadata": {},
   "source": [
    "<b> Program 36 : (Dictionary - subset) </b>\n",
    "<br>\n",
    "Program to create dictionary which is subset of another dictionary"
   ]
  },
  {
   "cell_type": "code",
   "execution_count": 5,
   "metadata": {},
   "outputs": [
    {
     "name": "stdout",
     "output_type": "stream",
     "text": [
      "{'b': 30, 'c': 25, 'e': 40, 'f': 55, 'i': 50, 'j': 65}\n",
      "{'a': 20, 'd': 15, 'e': 40, 'g': 5, 'i': 50, 'j': 65}\n"
     ]
    }
   ],
   "source": [
    "my_dict = {'a':20, 'b':30, 'c':25 , 'd':15, 'e':40, 'f':55, 'g':5, 'i':50, 'j':65}\n",
    "\n",
    "#create a dictionary having values over 20\n",
    "dict1 = {key:value for key,value in my_dict.items() if value>20}\n",
    "print(dict1)\n",
    "\n",
    "#referring value from a set\n",
    "my_set = {'a', 'd', 'e', 'r', 'g', 'i', 'z', 'j'}\n",
    "dict2 = {key:value for key, value in my_dict.items() if key in my_set}\n",
    "print(dict2)"
   ]
  },
  {
   "cell_type": "markdown",
   "metadata": {},
   "source": [
    "<b> Program 37 : (String - matching substring) </b>\n",
    "<br>\n",
    "Program to check start or end of a specific string pattern."
   ]
  },
  {
   "cell_type": "code",
   "execution_count": 14,
   "metadata": {},
   "outputs": [
    {
     "name": "stdout",
     "output_type": "stream",
     "text": [
      "True\n",
      "['.ipynb_checkpoints', 'Python_Practice_Programs.ipynb']\n",
      "['Python_Practice_Programs.ipynb']\n",
      "True\n"
     ]
    },
    {
     "data": {
      "text/plain": [
       "True"
      ]
     },
     "execution_count": 14,
     "metadata": {},
     "output_type": "execute_result"
    }
   ],
   "source": [
    "import os\n",
    "\n",
    "filename = 'prices.txt'\n",
    "print(filename.startswith('prices')) # to check any file name starts with given condition\n",
    "filenames = os.listdir('.') # lists files in working folder\n",
    "print(filenames)\n",
    "\n",
    "names = [name for name in filenames if name.endswith('ipynb')] #store filenames in list which match to the condition\n",
    "print(names)\n",
    "names1 = any(name.endswith('.ipynb') for name in filenames) #check for any file matching the condition\n",
    "print(names1)\n",
    "\n",
    "url = 'https://www.python.org/'\n",
    "url.startswith('https')"
   ]
  },
  {
   "cell_type": "markdown",
   "metadata": {},
   "source": [
    "### Programs on Reduce Function"
   ]
  },
  {
   "cell_type": "markdown",
   "metadata": {},
   "source": [
    "The reduce(fun,seq) function is used to apply a particular function passed in its argument to all of the list elements mentioned in the sequence passed along.This function is defined in “functools” module."
   ]
  },
  {
   "cell_type": "markdown",
   "metadata": {},
   "source": [
    "<b>Program 38</b>"
   ]
  },
  {
   "cell_type": "markdown",
   "metadata": {},
   "source": [
    "Find the Sum, max and min element in the given list"
   ]
  },
  {
   "cell_type": "code",
   "execution_count": 6,
   "metadata": {},
   "outputs": [
    {
     "name": "stdout",
     "output_type": "stream",
     "text": [
      "Sum of the list elements is :  37\n",
      "Sum using operator function :  37\n"
     ]
    }
   ],
   "source": [
    "import functools\n",
    "import operator\n",
    "\n",
    "lst = [2, 6, 3, 8, 4, 9, 5]\n",
    "\n",
    "# finding sum of all the elements using lambda function\n",
    "print('Sum of the list elements is : ',end=' ')  # \"end=' '\" is used to print next print statement at the same line\n",
    "print(functools.reduce(lambda a,b : a+b, lst)) # lambda workd as a function\n",
    "\n",
    "# finding sum using 'operator' function\n",
    "print('Sum using operator function : ',end=' ')\n",
    "print(functools.reduce(operator.add,lst))"
   ]
  },
  {
   "cell_type": "code",
   "execution_count": 4,
   "metadata": {},
   "outputs": [
    {
     "name": "stdout",
     "output_type": "stream",
     "text": [
      "Maximun element is :  9\n"
     ]
    }
   ],
   "source": [
    "# finding maximum element from the list\n",
    "print('Maximun element is : ',end=' ')\n",
    "print(functools.reduce(lambda a,b : a if a>b else b, lst))"
   ]
  },
  {
   "cell_type": "code",
   "execution_count": 5,
   "metadata": {},
   "outputs": [
    {
     "name": "stdout",
     "output_type": "stream",
     "text": [
      "Minimum element is : 2\n"
     ]
    }
   ],
   "source": [
    "# finding minimum element from the list\n",
    "print('Minimum element is :', end=' ')\n",
    "print(functools.reduce(lambda a,b : a if a<b else b, lst))"
   ]
  },
  {
   "cell_type": "markdown",
   "metadata": {},
   "source": [
    "<b>Program 39</b>"
   ]
  },
  {
   "cell_type": "code",
   "execution_count": 7,
   "metadata": {},
   "outputs": [
    {
     "name": "stdout",
     "output_type": "stream",
     "text": [
      "30\n"
     ]
    }
   ],
   "source": [
    "#defined function separately\n",
    "\n",
    "def do_mul(a, b):\n",
    "    return a*b\n",
    "\n",
    "lst = [2, 1, 3, 5]\n",
    "print(functools.reduce(do_mul, lst))"
   ]
  },
  {
   "cell_type": "markdown",
   "metadata": {},
   "source": [
    "### Programs on Map function"
   ]
  },
  {
   "cell_type": "markdown",
   "metadata": {},
   "source": [
    "Python map() function is used to apply a function on all the elements of specified iterable and return map object. Python map object is an iterator, so we can iterate over its elements. We can also convert map object to sequence objects such as list, tuple etc. using their factory functions.\n",
    "\n",
    "map(function, iterable, ...)"
   ]
  },
  {
   "cell_type": "markdown",
   "metadata": {},
   "source": [
    "<b>Program 40</b>"
   ]
  },
  {
   "cell_type": "code",
   "execution_count": 10,
   "metadata": {},
   "outputs": [
    {
     "name": "stdout",
     "output_type": "stream",
     "text": [
      "<map object at 0x00000293B89C3860>\n",
      "A B C D "
     ]
    }
   ],
   "source": [
    "#defining fuction for map\n",
    "def to_upper_case(a):\n",
    "    return str(a).upper()\n",
    "\n",
    "# map function returns map object\n",
    "map_object = map(to_upper_case, 'abcd')\n",
    "print(map_object)\n",
    "\n",
    "#extracting elements of map object\n",
    "for x in map_object:\n",
    "    print(x,end=' ')"
   ]
  },
  {
   "cell_type": "code",
   "execution_count": 25,
   "metadata": {},
   "outputs": [
    {
     "name": "stdout",
     "output_type": "stream",
     "text": [
      "X A C \n"
     ]
    }
   ],
   "source": [
    "def print_iterator(it):\n",
    "    for x in it:\n",
    "        print(x, end=' ')\n",
    "    print('')  # for new line\n",
    "    \n",
    "\n",
    "# map() with tuple\n",
    "map_iterator = map(to_upper_case, ('x', 'a', 'c'))\n",
    "print_iterator(map_iterator)"
   ]
  },
  {
   "cell_type": "code",
   "execution_count": 12,
   "metadata": {},
   "outputs": [
    {
     "name": "stdout",
     "output_type": "stream",
     "text": [
      "X A ABC \n"
     ]
    }
   ],
   "source": [
    "# map() with list\n",
    "map_iterator = map(to_upper_case, ['x', 'a', 'abc'])\n",
    "print_iterator(map_iterator)"
   ]
  },
  {
   "cell_type": "code",
   "execution_count": 22,
   "metadata": {},
   "outputs": [
    {
     "name": "stdout",
     "output_type": "stream",
     "text": [
      "8 4 2 10 6 14 \n"
     ]
    }
   ],
   "source": [
    "# map with lambda function\n",
    "\n",
    "lst = [4, 2, 1, 5, 3, 7]\n",
    "\n",
    "my_map = map(lambda x: x*2, lst)\n",
    "print_iterator(my_map)"
   ]
  },
  {
   "cell_type": "code",
   "execution_count": 26,
   "metadata": {},
   "outputs": [
    {
     "name": "stdout",
     "output_type": "stream",
     "text": [
      "2 12 30 72 \n"
     ]
    }
   ],
   "source": [
    "# map with multiple arguments\n",
    "\n",
    "lst = [2, 4, 6, 8]\n",
    "tpl = (1, 3, 5 ,9)\n",
    "a = map(lambda x,y : x*y, lst,tpl)\n",
    "print_iterator(a)"
   ]
  },
  {
   "cell_type": "markdown",
   "metadata": {},
   "source": [
    "### Programs on Filter function"
   ]
  },
  {
   "cell_type": "markdown",
   "metadata": {},
   "source": [
    "The filter() method filters the given sequence with the help of a function that tests each element in the sequence to be true or not."
   ]
  },
  {
   "cell_type": "code",
   "execution_count": 35,
   "metadata": {},
   "outputs": [
    {
     "name": "stdout",
     "output_type": "stream",
     "text": [
      "e a \n",
      "e a \n"
     ]
    }
   ],
   "source": [
    "# defining a function\n",
    "def fun(variable):\n",
    "    letters = ['a', 'e', 'i', 'o', 'u']\n",
    "    if (variable in letters):\n",
    "        return True\n",
    "    else:\n",
    "        return False\n",
    "    \n",
    "sequence = ['f', 'e', 'a', 'l', 'p']\n",
    "filtered = filter(fun, sequence)\n",
    "print_iterator(filtered)\n",
    "\n",
    "#same using lambda function\n",
    "print_iterator(filter(lambda x: x in ['a', 'e', 'i', 'o', 'u'],sequence))"
   ]
  },
  {
   "cell_type": "code",
   "execution_count": 29,
   "metadata": {},
   "outputs": [
    {
     "name": "stdout",
     "output_type": "stream",
     "text": [
      "2 6 8 4 \n"
     ]
    }
   ],
   "source": [
    "# using lambda function\n",
    "seq = [2, 5, 3, 6, 8, 7, 4]\n",
    "result = filter(lambda x: x%2==0, seq)\n",
    "print_iterator(result)"
   ]
  },
  {
   "cell_type": "code",
   "execution_count": 37,
   "metadata": {},
   "outputs": [
    {
     "name": "stdout",
     "output_type": "stream",
     "text": [
      "[-5, -4, -3, -2, -1]\n"
     ]
    }
   ],
   "source": [
    "a = range(-5, 5)\n",
    "less_than_zero = list(filter(lambda x : x<0, a))\n",
    "print(less_than_zero)"
   ]
  },
  {
   "cell_type": "code",
   "execution_count": null,
   "metadata": {},
   "outputs": [],
   "source": []
  }
 ],
 "metadata": {
  "kernelspec": {
   "display_name": "Python 3",
   "language": "python",
   "name": "python3"
  },
  "language_info": {
   "codemirror_mode": {
    "name": "ipython",
    "version": 3
   },
   "file_extension": ".py",
   "mimetype": "text/x-python",
   "name": "python",
   "nbconvert_exporter": "python",
   "pygments_lexer": "ipython3",
   "version": "3.6.5"
  }
 },
 "nbformat": 4,
 "nbformat_minor": 2
}
