{
 "cells": [
  {
   "cell_type": "code",
   "execution_count": 1,
   "metadata": {},
   "outputs": [
    {
     "name": "stdout",
     "output_type": "stream",
     "text": [
      "36\n"
     ]
    }
   ],
   "source": [
    "# 1. Sum all the items in the list using sum() function\n",
    "a = [1, 2, 3, 4, 5, 6, 7, 8]\n",
    "print(sum(a))"
   ]
  },
  {
   "cell_type": "code",
   "execution_count": 2,
   "metadata": {},
   "outputs": [
    {
     "name": "stdout",
     "output_type": "stream",
     "text": [
      "36\n"
     ]
    }
   ],
   "source": [
    "# 2. Sum all items in a list using looping logic\n",
    "a = [1, 2, 3, 4, 5, 6, 7, 8]\n",
    "sum = 0\n",
    "for i in a:\n",
    "    sum = sum+i\n",
    "print(sum)"
   ]
  },
  {
   "cell_type": "code",
   "execution_count": 3,
   "metadata": {},
   "outputs": [
    {
     "name": "stdout",
     "output_type": "stream",
     "text": [
      "120\n"
     ]
    }
   ],
   "source": [
    "# 3. Multiply all the items in the list\n",
    "import numpy as np\n",
    "a = [1, 2, 3, 4, 5]\n",
    "print(np.prod(a))"
   ]
  },
  {
   "cell_type": "code",
   "execution_count": 4,
   "metadata": {},
   "outputs": [
    {
     "name": "stdout",
     "output_type": "stream",
     "text": [
      "9\n"
     ]
    }
   ],
   "source": [
    "# 4. Print largest number from the list\n",
    "a = [2, 4, 5, 6, 7, 9]\n",
    "print(max(a))"
   ]
  },
  {
   "cell_type": "code",
   "execution_count": 5,
   "metadata": {},
   "outputs": [
    {
     "name": "stdout",
     "output_type": "stream",
     "text": [
      "1\n"
     ]
    }
   ],
   "source": [
    "# 5. Print the smallest number from the list\n",
    "a = [4, 5, 6, 7, 2, 7, 9, 1, 55]\n",
    "print(min(a))"
   ]
  },
  {
   "cell_type": "code",
   "execution_count": 7,
   "metadata": {},
   "outputs": [
    {
     "name": "stdout",
     "output_type": "stream",
     "text": [
      "2\n"
     ]
    }
   ],
   "source": [
    "# 6. Write a Python program to count the number of strings where the string length is 2 or more \n",
    "# and the first and last character are same from a given list of strings\n",
    "count = 0\n",
    "a = ['abc', 'xyz', 'aba', '1221']\n",
    "for i in a:\n",
    "    if len(i)>= 2:\n",
    "        if i[0]==i[-1]:\n",
    "            count+=1\n",
    "print(count)"
   ]
  },
  {
   "cell_type": "code",
   "execution_count": 11,
   "metadata": {},
   "outputs": [
    {
     "name": "stdout",
     "output_type": "stream",
     "text": [
      "Palindrom\n"
     ]
    }
   ],
   "source": [
    "# 7. Check if the string is palindrom\n",
    "a = \"malayalam\"\n",
    "b = \"geeks\"\n",
    "\n",
    "if (a == a[::-1]):\n",
    "    print(\"Palindrom\")\n",
    "else:\n",
    "    print(\"Not Palindrom\")"
   ]
  },
  {
   "cell_type": "code",
   "execution_count": 14,
   "metadata": {},
   "outputs": [
    {
     "name": "stdout",
     "output_type": "stream",
     "text": [
      "[(2, 1), (1, 2), (2, 3), (4, 4), (2, 5)]\n"
     ]
    }
   ],
   "source": [
    "# 8. Sort based on second item in the tuples from the list\n",
    "def last(n): \n",
    "    return n[-1]\n",
    "\n",
    "def sort_list_last(tuples):\n",
    "  return sorted(tuples, key=last)\n",
    "\n",
    "print(sort_list_last([(2, 5), (1, 2), (4, 4), (2, 3), (2, 1)]))"
   ]
  },
  {
   "cell_type": "code",
   "execution_count": 16,
   "metadata": {},
   "outputs": [
    {
     "name": "stdout",
     "output_type": "stream",
     "text": [
      "[10, 20, 30, 50, 60, 40, 80]\n"
     ]
    }
   ],
   "source": [
    "# 9. Remove duplicate numbers from the list\n",
    "a = [10,20,30,20,10,50,60,40,80,50,40]\n",
    "b = []\n",
    "for i in a:\n",
    "    if i not in b:\n",
    "        b.append(i)\n",
    "print(b)"
   ]
  },
  {
   "cell_type": "code",
   "execution_count": 19,
   "metadata": {},
   "outputs": [
    {
     "name": "stdout",
     "output_type": "stream",
     "text": [
      "List is empty\n"
     ]
    }
   ],
   "source": [
    "# 10. Write a Python program to check a list is empty or not.\n",
    "a = []\n",
    "if not a:\n",
    "    print(\"List is empty\")"
   ]
  },
  {
   "cell_type": "code",
   "execution_count": 22,
   "metadata": {},
   "outputs": [
    {
     "name": "stdout",
     "output_type": "stream",
     "text": [
      "List b is :  [10, 20, 30, 40, 50]\n",
      "List c is :  [10, 20, 30, 40, 50]\n",
      "List d is : [10, 20, 30, 40, 50]\n"
     ]
    }
   ],
   "source": [
    "# 11. Write a Python program to clone or copy a list\n",
    "a = [10, 20, 30, 40, 50]\n",
    "b = a\n",
    "c = a.copy()\n",
    "d = list(a)\n",
    "print(\"List b is : \", end=\" \")\n",
    "print(b)\n",
    "print(\"List c is : \", end=\" \")\n",
    "print(c)\n",
    "print(\"List d is :\", end=\" \")\n",
    "print(d)"
   ]
  },
  {
   "cell_type": "code",
   "execution_count": 23,
   "metadata": {},
   "outputs": [
    {
     "name": "stdout",
     "output_type": "stream",
     "text": [
      "List b is : [10, 20, 30, 40, 50, 60]\n",
      "List c is : [10, 20, 30, 40, 50]\n",
      "List d is : [10, 20, 30, 40, 50]\n"
     ]
    }
   ],
   "source": [
    "a.append(60)\n",
    "print(\"List b is :\", end=\" \")\n",
    "print(b)\n",
    "print(\"List c is :\", end=\" \")\n",
    "print(c)\n",
    "print(\"List d is :\", end=\" \")\n",
    "print(d)"
   ]
  },
  {
   "cell_type": "code",
   "execution_count": 24,
   "metadata": {},
   "outputs": [
    {
     "name": "stdout",
     "output_type": "stream",
     "text": [
      "['deff', 'fkgi', 'sjsjsj', 'frfeere']\n"
     ]
    }
   ],
   "source": [
    "# 12. Write a Python program to find the list of words that are longer than n from a given list of words\n",
    "def find(string, n):\n",
    "    a = []\n",
    "    for i in string:\n",
    "        if len(i) > n:\n",
    "            a.append(i)\n",
    "    return a\n",
    "\n",
    "b = find([\"abc\", \"deff\", \"fkgi\", \"a\", \"sjsjsj\", \"frfeere\", \"sd\", \"sdw\"], 3)\n",
    "print(b)"
   ]
  },
  {
   "cell_type": "code",
   "execution_count": 26,
   "metadata": {},
   "outputs": [
    {
     "name": "stdout",
     "output_type": "stream",
     "text": [
      "False\n"
     ]
    }
   ],
   "source": [
    "# 13. Write a Python function that takes two lists and returns True if they have at least one common member\n",
    "def find(lst1, lst2):\n",
    "    for i in lst1:\n",
    "        if i in lst2:\n",
    "            return True\n",
    "    return False\n",
    "\n",
    "a = find([1, 2, 3, 4], [9, 7, 5, 8])\n",
    "print(a)"
   ]
  },
  {
   "cell_type": "code",
   "execution_count": 31,
   "metadata": {},
   "outputs": [
    {
     "name": "stdout",
     "output_type": "stream",
     "text": [
      "['Red', 'Pink', 'Yellow']\n"
     ]
    }
   ],
   "source": [
    "# 14. Write a Python program to print a specified list after removing the 0th, 4th and 5th elements\n",
    "a =  ['Red', 'Green', 'White', 'Black', 'Pink', 'Yellow']\n",
    "b =  [0, 4, 5]\n",
    "c = []\n",
    "for i in b:\n",
    "    c.append(a[i])\n",
    "print(c)"
   ]
  },
  {
   "cell_type": "code",
   "execution_count": 32,
   "metadata": {},
   "outputs": [
    {
     "name": "stdout",
     "output_type": "stream",
     "text": [
      "['Green', 'White', 'Black']\n"
     ]
    }
   ],
   "source": [
    "color = ['Red', 'Green', 'White', 'Black', 'Pink', 'Yellow']\n",
    "color = [x for (i,x) in enumerate(color) if i not in (0,4,5)]\n",
    "print(color)"
   ]
  },
  {
   "cell_type": "code",
   "execution_count": 34,
   "metadata": {},
   "outputs": [
    {
     "name": "stdout",
     "output_type": "stream",
     "text": [
      "[[['*', '*', '*', '*', '*', '*'], ['*', '*', '*', '*', '*', '*'], ['*', '*', '*', '*', '*', '*'], ['*', '*', '*', '*', '*', '*']], [['*', '*', '*', '*', '*', '*'], ['*', '*', '*', '*', '*', '*'], ['*', '*', '*', '*', '*', '*'], ['*', '*', '*', '*', '*', '*']], [['*', '*', '*', '*', '*', '*'], ['*', '*', '*', '*', '*', '*'], ['*', '*', '*', '*', '*', '*'], ['*', '*', '*', '*', '*', '*']]]\n"
     ]
    }
   ],
   "source": [
    "# 15. Write a Python program to generate a 3*4*6 3D array whose each element is *.\n",
    "a = [[[\"*\" for i in range(6)] for j in range(4)] for k in range(3)]\n",
    "print(a)"
   ]
  },
  {
   "cell_type": "code",
   "execution_count": 35,
   "metadata": {},
   "outputs": [
    {
     "name": "stdout",
     "output_type": "stream",
     "text": [
      "[8, 12, 54, 90]\n"
     ]
    }
   ],
   "source": [
    "# Write a Python program to print the numbers of a specified list after removing even numbers from it.\n",
    "a = [1, 8, 5, 12, 23, 54, 29, 49, 90]\n",
    "b = [i for i in a if i%2==0]\n",
    "print(b)"
   ]
  },
  {
   "cell_type": "code",
   "execution_count": 48,
   "metadata": {},
   "outputs": [
    {
     "name": "stdout",
     "output_type": "stream",
     "text": [
      "[4, 1, 3, 5, 2]\n"
     ]
    }
   ],
   "source": [
    "# 16. Write a Python program to shuffle and print a specified list.\n",
    "from random import shuffle\n",
    "a = [1, 2, 3, 4, 5]\n",
    "shuffle(a)\n",
    "print(a)"
   ]
  },
  {
   "cell_type": "code",
   "execution_count": 50,
   "metadata": {},
   "outputs": [
    {
     "name": "stdout",
     "output_type": "stream",
     "text": [
      "[1, 4, 9, 16, 25]\n",
      "[256, 289, 324, 361, 400]\n"
     ]
    }
   ],
   "source": [
    "# 17. Write a Python program to generate and print a list of first and last 5 elements \n",
    "# where the values are square of numbers between 1 and 30\n",
    "def print_values():\n",
    "    l = list()\n",
    "    for i in range(1, 21):\n",
    "        l.append(i**2)\n",
    "    print(l[:5])\n",
    "    print(l[-5:])\n",
    "print_values()"
   ]
  },
  {
   "cell_type": "code",
   "execution_count": 58,
   "metadata": {},
   "outputs": [
    {
     "name": "stdout",
     "output_type": "stream",
     "text": [
      "[1, 4, 9, 16, 25, 36, 49, 64, 81, 100, 121, 144, 169, 196, 225, 256, 289, 324, 361, 400, 441, 484, 529, 576, 625, 676, 729, 784, 841, 900]\n",
      "----------------------------\n",
      "[36, 49, 64, 81, 100, 121, 144, 169, 196, 225, 256, 289, 324, 361, 400, 441, 484, 529, 576, 625, 676, 729, 784, 841, 900]\n"
     ]
    }
   ],
   "source": [
    "# 18. Write a Python program to generate and print a list except for the first 5 elements, \n",
    "# where the values are square of numbers between 1 and 30 (both included)\n",
    "def print_values():\n",
    "    a = []\n",
    "    for i in range(1, 31):\n",
    "        a.append(i**2)\n",
    "    return a\n",
    "a = print_values()\n",
    "print(a)\n",
    "print(\"----------------------------\")\n",
    "print(a[5:])"
   ]
  },
  {
   "cell_type": "code",
   "execution_count": 63,
   "metadata": {},
   "outputs": [
    {
     "name": "stdout",
     "output_type": "stream",
     "text": [
      "[(1, 2, 3), (1, 3, 2), (2, 1, 3), (2, 3, 1), (3, 1, 2), (3, 2, 1)]\n"
     ]
    }
   ],
   "source": [
    "# 19. Write a Python program to generate all permutations of a list in Python.\n",
    "import itertools\n",
    "print(list(itertools.permutations([1, 2, 3])))"
   ]
  },
  {
   "cell_type": "code",
   "execution_count": 64,
   "metadata": {},
   "outputs": [
    {
     "name": "stdout",
     "output_type": "stream",
     "text": [
      "[3, 4]\n"
     ]
    }
   ],
   "source": [
    "# 20. Write a Python program to get the difference between the two lists. \n",
    "a = [1, 2, 3, 4]\n",
    "b = [1, 2]\n",
    "\n",
    "print(list(set(a)-set(b)))"
   ]
  },
  {
   "cell_type": "code",
   "execution_count": 67,
   "metadata": {},
   "outputs": [
    {
     "name": "stdout",
     "output_type": "stream",
     "text": [
      "0 4\n",
      "1 6\n",
      "2 8\n",
      "3 9\n",
      "4 10\n"
     ]
    }
   ],
   "source": [
    "#  21. Write a Python program access the index of a list.\n",
    "a = [4, 6, 8, 9, 10]\n",
    "for i, j in enumerate(a):\n",
    "    print(i, j)"
   ]
  },
  {
   "cell_type": "code",
   "execution_count": 68,
   "metadata": {},
   "outputs": [
    {
     "name": "stdout",
     "output_type": "stream",
     "text": [
      "abcde\n"
     ]
    }
   ],
   "source": [
    "# 22. Write a Python program to convert a list of characters into a string.\n",
    "a = [\"a\", \"b\", \"c\", \"d\", \"e\"]\n",
    "b = \"\".join(a)\n",
    "print(b)"
   ]
  },
  {
   "cell_type": "code",
   "execution_count": 69,
   "metadata": {},
   "outputs": [
    {
     "name": "stdout",
     "output_type": "stream",
     "text": [
      "3\n"
     ]
    }
   ],
   "source": [
    "# 23. Write a Python program to find the index of an item in a specified list. \n",
    "def find(lst, item):\n",
    "    if item in lst:\n",
    "        return lst.index(item)\n",
    "\n",
    "a = find([1, 2, 3, 4, 5, 6], 4)\n",
    "print(a)"
   ]
  },
  {
   "cell_type": "code",
   "execution_count": 80,
   "metadata": {},
   "outputs": [
    {
     "name": "stdout",
     "output_type": "stream",
     "text": [
      "[1, 2, 4, 5, 6, 8, 9, 10, 20]\n",
      "Second smallest : 2\n",
      "Second largest : 10\n"
     ]
    }
   ],
   "source": [
    "# 24. Write a program to get second largest and second smallest item from the list\n",
    "a = [5, 2, 4, 6, 8, 9, 10, 1, 20]\n",
    "a.sort()\n",
    "print(a)\n",
    "print(\"Second smallest :\", end=\" \")\n",
    "print(a[1])\n",
    "print(\"Second largest :\", end=\" \")\n",
    "print(a[-2])"
   ]
  },
  {
   "cell_type": "code",
   "execution_count": 81,
   "metadata": {},
   "outputs": [
    {
     "name": "stdout",
     "output_type": "stream",
     "text": [
      "[1, 2, 4, 5, 6, 7, 8, 9]\n"
     ]
    }
   ],
   "source": [
    "# 25. Write a Python program to get unique values from a list.\n",
    "a = [1, 2, 4, 6, 2, 1, 8, 5, 9, 4, 7, 2, 1]\n",
    "print(list(set(a)))"
   ]
  },
  {
   "cell_type": "code",
   "execution_count": 85,
   "metadata": {},
   "outputs": [
    {
     "name": "stdout",
     "output_type": "stream",
     "text": [
      "Counter({1: 3, 2: 3, 4: 2, 6: 1, 8: 1, 5: 1, 9: 1, 7: 1})\n"
     ]
    }
   ],
   "source": [
    "# 26. Write a Python program to get the frequency of the elements in a list.\n",
    "import collections\n",
    "a = [1, 2, 4, 6, 2, 1, 8, 5, 9, 4, 7, 2, 1]\n",
    "count = collections.Counter(a)\n",
    "print(count)"
   ]
  },
  {
   "cell_type": "code",
   "execution_count": 3,
   "metadata": {},
   "outputs": [
    {
     "name": "stdout",
     "output_type": "stream",
     "text": [
      "['p1', 'q1', 'p2', 'q2', 'p3', 'q3', 'p4', 'q4']\n"
     ]
    }
   ],
   "source": [
    "# 27. Write a Python program to create a list by concatenating a given list which range goes from 1 to n\n",
    "# Sample list : ['p', 'q']\n",
    "# n =5\n",
    "# Sample Output : ['p1', 'q1', 'p2', 'q2', 'p3', 'q3', 'p4', 'q4', 'p5', 'q5']\n",
    "\n",
    "a = ['p', 'q']\n",
    "n = 5\n",
    "b = []\n",
    "for i in range(1, 5):\n",
    "    for j in a:\n",
    "        b.append(j+str(i))\n",
    "print(b)"
   ]
  },
  {
   "cell_type": "code",
   "execution_count": 6,
   "metadata": {},
   "outputs": [
    {
     "name": "stdout",
     "output_type": "stream",
     "text": [
      "[1, 2, 6]\n"
     ]
    }
   ],
   "source": [
    "# 28. Write a Python program to find common items from two lists.\n",
    "\n",
    "a = [1, 2, 3, 5, 6]\n",
    "b = [1, 4, 2, 6, 4]\n",
    "print(list(set(a) & set(b)))"
   ]
  },
  {
   "cell_type": "code",
   "execution_count": 25,
   "metadata": {},
   "outputs": [
    {
     "name": "stdout",
     "output_type": "stream",
     "text": [
      "[1, 0, 3, 2, 5, 4]\n"
     ]
    }
   ],
   "source": [
    "# 29. Write a Python program to change the position of every n-th value with the (n+1)th in a list.\n",
    "# Sample list: [0,1,2,3,4,5]\n",
    "# Expected Output: [1, 0, 3, 2, 5, 4]\n",
    "a = [0, 1, 2, 3, 4, 5]\n",
    "i = 0\n",
    "while(i<len(a)-1):\n",
    "    temp = a[i]\n",
    "    a[i] = a[i+1]\n",
    "    a[i+1] = temp\n",
    "    i = i + 2\n",
    "print(a)"
   ]
  },
  {
   "cell_type": "code",
   "execution_count": 26,
   "metadata": {},
   "outputs": [
    {
     "name": "stdout",
     "output_type": "stream",
     "text": [
      "112250\n"
     ]
    }
   ],
   "source": [
    "# 30. Write a Python program to convert a list of multiple integers into a single integer.\n",
    "# Sample list: [11, 33, 50]\n",
    "# Expected Output: 113350\n",
    "a = [11, 22, 50]\n",
    "b = \"\"\n",
    "for i in a:\n",
    "    b = b + str(i)\n",
    "print(b)"
   ]
  },
  {
   "cell_type": "code",
   "execution_count": 30,
   "metadata": {},
   "outputs": [
    {
     "name": "stdout",
     "output_type": "stream",
     "text": [
      "112250\n"
     ]
    }
   ],
   "source": [
    "x = int(\"\".join(map(str, a)))\n",
    "print(x)"
   ]
  },
  {
   "cell_type": "code",
   "execution_count": 33,
   "metadata": {},
   "outputs": [
    {
     "name": "stdout",
     "output_type": "stream",
     "text": [
      "Missing values in b : [1, 2]\n",
      "Additional values in b : [6, 7]\n"
     ]
    }
   ],
   "source": [
    "# 31. Write a Python program to find missing and additional values in two lists.\n",
    "# Sample data : Missing values in second list: b,a,c\n",
    "# Additional values in second list: g,h\n",
    "a = [1, 2, 3, 4, 5]\n",
    "b = [3, 4, 5, 6, 7]\n",
    "print(\"Missing values in b :\", list(set(a)-set(b)))\n",
    "print(\"Additional values in b :\", list(set(b)-set(a)))\n"
   ]
  },
  {
   "cell_type": "code",
   "execution_count": 34,
   "metadata": {},
   "outputs": [
    {
     "name": "stdout",
     "output_type": "stream",
     "text": [
      "[[1, 2, 3, 4, 5], [6, 7, 8, 9, 10], [11, 12, 13, 14, 15], [16, 17, 18, 19, 20], [21, 22, 23, 24, 25]]\n"
     ]
    }
   ],
   "source": [
    "l = [[5*i+j for j in range(1, 6)] for i in range(5)]\n",
    "print(l)"
   ]
  },
  {
   "cell_type": "code",
   "execution_count": 40,
   "metadata": {},
   "outputs": [
    {
     "name": "stdout",
     "output_type": "stream",
     "text": [
      "0\n",
      "1\n",
      "2\n",
      "3\n",
      "['a', 'john', 'a', 'tina', 'a', 'donald', 'a', 'tim']\n"
     ]
    }
   ],
   "source": [
    "#32. Write a Python program to insert an element before each element of a list.\n",
    "a = [\"john\", \"tina\", \"donald\", \"tim\"]\n",
    "b = []\n",
    "for i in range(len(a)):\n",
    "    b.append(\"a\")\n",
    "    b.append(a[i])\n",
    "    print(i)\n",
    "print(b)"
   ]
  },
  {
   "cell_type": "code",
   "execution_count": 42,
   "metadata": {},
   "outputs": [
    {
     "name": "stdout",
     "output_type": "stream",
     "text": [
      "[{1: 'abc'}, {2: 'def'}, {3: 'ghi'}, {4: 'klm'}]\n"
     ]
    }
   ],
   "source": [
    "# 33. Write a Python program to convert list to list of dictionaries.\n",
    "a = [1, 2, 3, 4]\n",
    "b = [\"abc\", \"def\", \"ghi\", \"klm\"]\n",
    "c = dict()\n",
    "print([{i : j} for i,j in zip(a, b)])"
   ]
  },
  {
   "cell_type": "code",
   "execution_count": 44,
   "metadata": {},
   "outputs": [
    {
     "name": "stdout",
     "output_type": "stream",
     "text": [
      "{1: 'abc', 2: 'def', 3: 'ghi', 4: 'klm'}\n"
     ]
    }
   ],
   "source": [
    "print({i : j for i, j in zip(a, b) })"
   ]
  },
  {
   "cell_type": "code",
   "execution_count": null,
   "metadata": {},
   "outputs": [],
   "source": []
  }
 ],
 "metadata": {
  "kernelspec": {
   "display_name": "Python 3",
   "language": "python",
   "name": "python3"
  },
  "language_info": {
   "codemirror_mode": {
    "name": "ipython",
    "version": 3
   },
   "file_extension": ".py",
   "mimetype": "text/x-python",
   "name": "python",
   "nbconvert_exporter": "python",
   "pygments_lexer": "ipython3",
   "version": "3.6.5"
  }
 },
 "nbformat": 4,
 "nbformat_minor": 4
}
