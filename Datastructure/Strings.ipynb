{
 "cells": [
  {
   "cell_type": "code",
   "execution_count": 1,
   "metadata": {},
   "outputs": [
    {
     "name": "stdout",
     "output_type": "stream",
     "text": [
      "10\n"
     ]
    }
   ],
   "source": [
    "# 1. Write a Python program to calculate the length of a string.\n",
    "a = \"shashidhar\"\n",
    "print(len(a))"
   ]
  },
  {
   "cell_type": "code",
   "execution_count": 3,
   "metadata": {},
   "outputs": [
    {
     "name": "stdout",
     "output_type": "stream",
     "text": [
      "{'g': 2, 'o': 3, 'l': 1, 'e': 1, '.': 1, 'c': 1, 'm': 1}\n"
     ]
    }
   ],
   "source": [
    "# 2. Write a Python program to count the number of characters (character frequency) in a string.\n",
    "# Sample String : google.com'\n",
    "# Expected Result : {'o': 3, 'g': 2, '.': 1, 'e': 1, 'l': 1, 'm': 1, 'c': 1}\n",
    "a = \"google.com\"\n",
    "b = dict()\n",
    "count=0\n",
    "for i in a:\n",
    "    count=0\n",
    "    for j in a:\n",
    "        if i == j:\n",
    "            count+=1\n",
    "        b[i] = count\n",
    "print(b)"
   ]
  },
  {
   "cell_type": "code",
   "execution_count": 5,
   "metadata": {},
   "outputs": [
    {
     "name": "stdout",
     "output_type": "stream",
     "text": [
      "w3ce\n",
      "w3w3\n",
      "\n"
     ]
    }
   ],
   "source": [
    "# 3. Write a Python program to get a string made of the first 2 and the last 2 chars from a given a string. \n",
    "# If the string length is less than 2, return instead of the empty string.\n",
    "# Sample String : 'w3resource'\n",
    "# Expected Result : 'w3ce'\n",
    "# Sample String : 'w3'\n",
    "# Expected Result : 'w3w3'\n",
    "# Sample String : ' w'\n",
    "# Expected Result : Empty String\n",
    "\n",
    "def mod_string(a):\n",
    "    if (len(a)<2):\n",
    "        return \"\"\n",
    "    else:\n",
    "        return a[:2]+a[-2:]\n",
    "\n",
    "print(mod_string(\"w3resource\"))\n",
    "print(mod_string(\"w3\"))\n",
    "print(mod_string(\"w\"))"
   ]
  },
  {
   "cell_type": "code",
   "execution_count": 15,
   "metadata": {},
   "outputs": [
    {
     "name": "stdout",
     "output_type": "stream",
     "text": [
      "retu$n\n"
     ]
    }
   ],
   "source": [
    "# 4. Write a Python program to get a string from a given string where all occurrences of its first char have been changed to '$', \n",
    "# except the first char itself.\n",
    "# Sample String : 'restart'\n",
    "# Expected Result : 'resta$t'\n",
    "def change(string):\n",
    "    a = string[0]\n",
    "    b = string[1:].replace(a, \"$\")\n",
    "    b = a + b\n",
    "    return b\n",
    "print(change(\"return\"))"
   ]
  },
  {
   "cell_type": "code",
   "execution_count": 18,
   "metadata": {},
   "outputs": [
    {
     "name": "stdout",
     "output_type": "stream",
     "text": [
      "xyc abz\n"
     ]
    }
   ],
   "source": [
    "# 5. Write a Python program to get a single string from two given strings, \n",
    "# separated by a space and swap the first two characters of each string.\n",
    "# Sample String : 'abc', 'xyz'\n",
    "# Expected Result : 'xyc abz'\n",
    "def join_strings(str1, str2):\n",
    "    a = str1.replace(str1[:2], str2[:2])\n",
    "    b = str2.replace(str2[:2], str1[:2])\n",
    "    return a+\" \"+b\n",
    "print(join_strings(\"abc\", \"xyz\"))"
   ]
  },
  {
   "cell_type": "code",
   "execution_count": 25,
   "metadata": {},
   "outputs": [
    {
     "name": "stdout",
     "output_type": "stream",
     "text": [
      "abc :  abcing\n",
      "abcing : abcly\n",
      "string :  strly\n",
      "ab : ab\n"
     ]
    }
   ],
   "source": [
    "# 6. Write a Python program to add 'ing' at the end of a given string (length should be at least 3). \n",
    "# If the given string already ends with 'ing' then add 'ly' instead. \n",
    "# If the string length of the given string is less than 3, leave it unchanged.\n",
    "# Sample String : 'abc'\n",
    "# Expected Result : 'abcing'\n",
    "# Sample String : 'string'\n",
    "# Expected Result : 'stringly'\n",
    "\n",
    "def update_text(text):\n",
    "    if (len(text)<3):\n",
    "        return text\n",
    "    elif (len(text)>=3):\n",
    "        if (text[-3:] == \"ing\"):\n",
    "            text = text.replace(\"ing\", \"ly\")\n",
    "        else:\n",
    "            text = text+\"ing\"\n",
    "        return text\n",
    "    \n",
    "print(\"abc : \",update_text(\"abc\"))\n",
    "print(\"abcing :\", update_text(\"abcing\"))\n",
    "print(\"string : \", update_text(\"string\"))\n",
    "print(\"ab :\", update_text(\"ab\"))"
   ]
  },
  {
   "cell_type": "code",
   "execution_count": null,
   "metadata": {},
   "outputs": [],
   "source": []
  }
 ],
 "metadata": {
  "kernelspec": {
   "display_name": "Python 3",
   "language": "python",
   "name": "python3"
  },
  "language_info": {
   "codemirror_mode": {
    "name": "ipython",
    "version": 3
   },
   "file_extension": ".py",
   "mimetype": "text/x-python",
   "name": "python",
   "nbconvert_exporter": "python",
   "pygments_lexer": "ipython3",
   "version": "3.6.5"
  }
 },
 "nbformat": 4,
 "nbformat_minor": 4
}
