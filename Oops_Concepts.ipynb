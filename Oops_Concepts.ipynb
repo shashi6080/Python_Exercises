{
 "cells": [
  {
   "cell_type": "code",
   "execution_count": 1,
   "metadata": {},
   "outputs": [
    {
     "name": "stdout",
     "output_type": "stream",
     "text": [
      "Hello\n"
     ]
    }
   ],
   "source": [
    "print(\"Hello\")"
   ]
  },
  {
   "cell_type": "markdown",
   "metadata": {},
   "source": [
    "### Variable Scope"
   ]
  },
  {
   "cell_type": "code",
   "execution_count": 5,
   "metadata": {},
   "outputs": [
    {
     "name": "stdout",
     "output_type": "stream",
     "text": [
      "Local x,Local y\n",
      "Global x\n"
     ]
    }
   ],
   "source": [
    "x = \"Global x\"\n",
    "\n",
    "def test():\n",
    "    y = \"Local y\"\n",
    "    x = \"Local x\"\n",
    "    print(x +\",\" + y)\n",
    "\n",
    "if __name__ == '__main__':\n",
    "          test()\n",
    "          print(x)"
   ]
  },
  {
   "cell_type": "markdown",
   "metadata": {},
   "source": [
    "### Class Definition"
   ]
  },
  {
   "cell_type": "code",
   "execution_count": 9,
   "metadata": {},
   "outputs": [
    {
     "name": "stdout",
     "output_type": "stream",
     "text": [
      "<__main__.MyFirstClass object at 0x067CA330>\n",
      "10\n",
      "<__main__.MyFirstClass object at 0x067CA410>\n",
      "10\n"
     ]
    }
   ],
   "source": [
    "class MyFirstClass():\n",
    "    var = 10\n",
    "\n",
    "firstObject = MyFirstClass()\n",
    "print(firstObject)\n",
    "print(firstObject.var)\n",
    "\n",
    "secondObject = MyFirstClass()\n",
    "print(secondObject)\n",
    "print(secondObject.var)"
   ]
  },
  {
   "cell_type": "markdown",
   "metadata": {},
   "source": [
    "### Instance Methods"
   ]
  },
  {
   "cell_type": "code",
   "execution_count": 10,
   "metadata": {},
   "outputs": [
    {
     "name": "stdout",
     "output_type": "stream",
     "text": [
      "<__main__.Vehicle object at 0x067CA370>\n",
      "<__main__.Vehicle object at 0x067CA370>\n",
      "I have a type\n"
     ]
    }
   ],
   "source": [
    "class Vehicle():\n",
    "    def type(self):\n",
    "        print(self)\n",
    "        print(\"I have a type\")\n",
    "        \n",
    "car = Vehicle()\n",
    "print(car)\n",
    "car.type()"
   ]
  },
  {
   "cell_type": "markdown",
   "metadata": {},
   "source": [
    "### Instance Attributes"
   ]
  },
  {
   "cell_type": "code",
   "execution_count": 13,
   "metadata": {},
   "outputs": [
    {
     "name": "stdout",
     "output_type": "stream",
     "text": [
      "8\n"
     ]
    }
   ],
   "source": [
    "import random\n",
    "class Vehicle():\n",
    "    def type(self):\n",
    "        self.randomValue = random.randint(1, 10)\n",
    "        \n",
    "car = Vehicle()\n",
    "car.type()\n",
    "print(car.randomValue)"
   ]
  },
  {
   "cell_type": "markdown",
   "metadata": {},
   "source": [
    "### Init Constructor"
   ]
  },
  {
   "cell_type": "code",
   "execution_count": 14,
   "metadata": {},
   "outputs": [
    {
     "name": "stdout",
     "output_type": "stream",
     "text": [
      "Calling init\n",
      "First obj value:  0\n"
     ]
    }
   ],
   "source": [
    "class Vehicle():\n",
    "    #__init__ is used to set values as soon as new object is created\n",
    "    #__init__ is a keyword hence it has to be named like it is\n",
    "    def __init__(self):\n",
    "        print(\"Calling init\")\n",
    "        self.val = 0\n",
    "        self.cost = 10000\n",
    "        \n",
    "    def incrementVehicle(self):\n",
    "        self.val += 1\n",
    "car = Vehicle()\n",
    "print(\"First obj value: \", car.val)"
   ]
  },
  {
   "cell_type": "code",
   "execution_count": 15,
   "metadata": {},
   "outputs": [
    {
     "name": "stdout",
     "output_type": "stream",
     "text": [
      "First obj value after incrementing: 2\n"
     ]
    }
   ],
   "source": [
    "car.incrementVehicle()\n",
    "car.incrementVehicle()\n",
    "print(\"First obj value after incrementing:\",car.val)"
   ]
  },
  {
   "cell_type": "code",
   "execution_count": 16,
   "metadata": {},
   "outputs": [
    {
     "name": "stdout",
     "output_type": "stream",
     "text": [
      "Calling init\n",
      "Second obj value: 0\n"
     ]
    }
   ],
   "source": [
    "bike = Vehicle()\n",
    "print(\"Second obj value:\",bike.val)"
   ]
  },
  {
   "cell_type": "markdown",
   "metadata": {},
   "source": [
    "### OOP Program"
   ]
  },
  {
   "cell_type": "code",
   "execution_count": 19,
   "metadata": {},
   "outputs": [
    {
     "name": "stdout",
     "output_type": "stream",
     "text": [
      "['Hey', 'Hello', 'Hi', \"Let's'\", 'Go']\n",
      "['Hey', 'Hello', \"Let's\", 'Go']\n"
     ]
    }
   ],
   "source": [
    "class MaxSizeList(object):\n",
    "    def __init__(self, value):\n",
    "        self.myList = []\n",
    "        self.value = value\n",
    "    \n",
    "    def push(self, String):\n",
    "        try:\n",
    "            String = str(String)\n",
    "            self.myList.append(String)\n",
    "        except ValueError:\n",
    "            print(\"You can only push strings\")\n",
    "            \n",
    "    def getList(self):\n",
    "        print(self.myList)\n",
    "            \n",
    "if __name__ == \"__main__\":\n",
    "    a = MaxSizeList(3)\n",
    "    b = MaxSizeList(1)\n",
    "    \n",
    "    a.push(\"Hey\")\n",
    "    a.push(\"Hello\")\n",
    "    a.push(\"Hi\")\n",
    "    a.push(\"Let\\'s'\")\n",
    "    a.push(\"Go\")\n",
    "    \n",
    "    b.push(\"Hey\")\n",
    "    b.push(\"Hello\")\n",
    "    b.push(\"Let\\'s\")\n",
    "    b.push(\"Go\")\n",
    "    \n",
    "    a.getList()\n",
    "    b.getList()"
   ]
  },
  {
   "cell_type": "markdown",
   "metadata": {},
   "source": [
    "### Inheritance"
   ]
  },
  {
   "cell_type": "code",
   "execution_count": 21,
   "metadata": {},
   "outputs": [
    {
     "name": "stdout",
     "output_type": "stream",
     "text": [
      "In data!\n",
      "In Time!\n",
      "In data!\n"
     ]
    }
   ],
   "source": [
    "class Data(object):\n",
    "    def getData(self):\n",
    "        print(\"In data!\")\n",
    "        \n",
    "class Time(Data):\n",
    "    def getTime(self):\n",
    "        print(\"In Time!\")\n",
    "    \n",
    "if __name__ == \"__main__\":\n",
    "    data = Data()\n",
    "    time = Time()\n",
    "    \n",
    "    data.getData()\n",
    "    time.getTime()\n",
    "    time.getData()"
   ]
  },
  {
   "cell_type": "markdown",
   "metadata": {},
   "source": [
    "### More on Inheritance"
   ]
  },
  {
   "cell_type": "code",
   "execution_count": 22,
   "metadata": {},
   "outputs": [
    {
     "name": "stdout",
     "output_type": "stream",
     "text": [
      "Time :  20\n",
      "Data:  10\n",
      "Time :  20\n",
      "[<class '__main__.Time'>, <class '__main__.Data'>, <class 'object'>]\n"
     ]
    }
   ],
   "source": [
    "class Data(object):\n",
    "    def __init__(self, data):\n",
    "        self.data = data\n",
    "        \n",
    "    def getData(self):\n",
    "        print(\"Data: \", self.data)\n",
    "        \n",
    "class Time(Data):\n",
    "    def getData(self):\n",
    "        print(\"Time : \",self.data)\n",
    "        \n",
    "if __name__ == \"__main__\":\n",
    "    data = Data(10)\n",
    "    time = Time(20)\n",
    "    \n",
    "    time.getData()\n",
    "    data.getData()\n",
    "    time.getData()\n",
    "    \n",
    "    print(Time.mro())"
   ]
  },
  {
   "cell_type": "markdown",
   "metadata": {},
   "source": [
    "### Multiple Inheritance"
   ]
  },
  {
   "cell_type": "code",
   "execution_count": 24,
   "metadata": {},
   "outputs": [
    {
     "name": "stdout",
     "output_type": "stream",
     "text": [
      "Doing this in A\n",
      "[<class '__main__.D'>, <class '__main__.B'>, <class '__main__.A'>, <class 'object'>]\n"
     ]
    }
   ],
   "source": [
    "class A(object):\n",
    "    def doThis(self):\n",
    "        print(\"Doing this in A\")\n",
    "        \n",
    "class B(A):\n",
    "    pass\n",
    "\n",
    "class C(object):\n",
    "    def doThis(self):\n",
    "        print(\"DOing this in C\")\n",
    "        \n",
    "class D(B, A):\n",
    "    pass\n",
    "\n",
    "if __name__ == \"__main__\":\n",
    "    dObj = D()\n",
    "    dObj.doThis()\n",
    "    print(D.mro())"
   ]
  },
  {
   "cell_type": "markdown",
   "metadata": {},
   "source": [
    "### Bank Account Implementation using OOPS"
   ]
  },
  {
   "cell_type": "code",
   "execution_count": 25,
   "metadata": {},
   "outputs": [
    {
     "name": "stdout",
     "output_type": "stream",
     "text": [
      "1500\n",
      "1300\n"
     ]
    }
   ],
   "source": [
    "class BankAccount(object):\n",
    "    defaultAccNumber = 1  # class attribute\n",
    "    \n",
    "    def __init__(self, name, balance=0):\n",
    "        self.name = name\n",
    "        self.balance = balance\n",
    "        self.accountNumber = BankAccount.defaultAccNumber\n",
    "        BankAccount.defaultAccNumber = BankAccount.defaultAccNumber + 1\n",
    "        \n",
    "    def deposit(self, amount):\n",
    "        self.balance += amount\n",
    "        \n",
    "    def withdraw(self, amount):\n",
    "        if self.balance < amount:\n",
    "            print(\"Not enough balance!\")\n",
    "        else:\n",
    "            self.balance -= amount\n",
    "            \n",
    "    def getBalance(self):\n",
    "        return self.balance\n",
    "    \n",
    "if __name__ == \"__main__\":\n",
    "    myObj = BankAccount(\"John\", 1000)\n",
    "    myObj.deposit(500)\n",
    "    print(myObj.getBalance())\n",
    "    myObj.withdraw(200)\n",
    "    print(myObj.getBalance())"
   ]
  },
  {
   "cell_type": "markdown",
   "metadata": {},
   "source": [
    "### Private Variables"
   ]
  },
  {
   "cell_type": "code",
   "execution_count": 26,
   "metadata": {},
   "outputs": [
    {
     "name": "stdout",
     "output_type": "stream",
     "text": [
      "My name is : Tommy and I have completed my : Engineering\n",
      "Tommy\n"
     ]
    }
   ],
   "source": [
    "class Person(object):\n",
    "    def __init__(self, name):\n",
    "        self.name = name\n",
    "        self.__education =\"Engineering\"\n",
    "        \n",
    "    def displayInfo(self):\n",
    "        name = self.name\n",
    "        education = self.__education\n",
    "        print(\"My name is :\", name, \"and I have completed my :\", education)\n",
    "        \n",
    "if __name__ == \"__main__\":\n",
    "    myObj = Person(\"Tommy\")\n",
    "    myObj.displayInfo()\n",
    "    print(myObj.name) "
   ]
  },
  {
   "cell_type": "code",
   "execution_count": 29,
   "metadata": {},
   "outputs": [
    {
     "name": "stdout",
     "output_type": "stream",
     "text": [
      "Engineering\n"
     ]
    }
   ],
   "source": [
    "#print(myObj.__education) we cannot do this, throws error\n",
    "print(myObj._Person__education) # we access private variables like this but its not recommended"
   ]
  },
  {
   "cell_type": "markdown",
   "metadata": {},
   "source": [
    "### Magic methods"
   ]
  },
  {
   "cell_type": "code",
   "execution_count": 30,
   "metadata": {},
   "outputs": [
    {
     "name": "stdout",
     "output_type": "stream",
     "text": [
      "Full Name: Omkar Pathak\n",
      "Full Name: Jagdish Pathak\n",
      "3000\n",
      "2000000\n",
      "1000\n",
      "2000\n",
      "False\n"
     ]
    }
   ],
   "source": [
    "# In this example we will see what are Python Magic Methods (or Special Methods) and how to overload them\n",
    "# Now why these methods are called Magic or Special methods anyway? The reason is that these\n",
    "# methods are invoked directly after creation of a class instance. For example:\n",
    "# __init__ is a Magic method. Also __str__, __repr__, __add__ are all magic methods.\n",
    "\n",
    "class Employee(object):\n",
    "    def __init__(self, firstname, lastname, salary = 0):\n",
    "        self.firstname = firstname\n",
    "        self.lastname = lastname\n",
    "        self.salary = salary\n",
    "\n",
    "    def __str__(self):\n",
    "        return 'Full Name: ' + self.firstname + ' ' + self.lastname\n",
    "\n",
    "    # Implements behaviour for built in type comparison to int\n",
    "    def __int__(self):\n",
    "        return self.salary\n",
    "\n",
    "    # For overloading the (==)\n",
    "    def __eq__(self,other):\n",
    "       return self.salary==other.salary   \n",
    "\n",
    "    # For overloading the (+)\n",
    "    def __add__(self, other):\n",
    "        return self.salary + other.salary\n",
    "\n",
    "    # For overloading the (*)\n",
    "    def __mul__(self, other):\n",
    "        return self.salary * other.salary\n",
    "\n",
    "if __name__ == '__main__':\n",
    "    Omkar = Employee('Omkar', 'Pathak', 1000)\n",
    "    Jagdish = Employee('Jagdish','Pathak', 2000)\n",
    "    print(Omkar)                # Full Name: Omkar Pathak (This output because of __str__ method overloading)\n",
    "    print(Jagdish)              # Full Name: Jagdish Pathak\n",
    "    print(Omkar + Jagdish)      # 3000 (This output because of __add__ method overloading)\n",
    "    print(Omkar * Jagdish)      # 2000000 (__mul__)\n",
    "    print(int(Omkar))           # 1000 (__int__)\n",
    "    print(int(Jagdish))         # 2000 (__int__)\n",
    "    print(Omkar==Jagdish)\n",
    "        "
   ]
  },
  {
   "cell_type": "code",
   "execution_count": null,
   "metadata": {},
   "outputs": [],
   "source": []
  }
 ],
 "metadata": {
  "kernelspec": {
   "display_name": "Python 3",
   "language": "python",
   "name": "python3"
  },
  "language_info": {
   "codemirror_mode": {
    "name": "ipython",
    "version": 3
   },
   "file_extension": ".py",
   "mimetype": "text/x-python",
   "name": "python",
   "nbconvert_exporter": "python",
   "pygments_lexer": "ipython3",
   "version": "3.6.5"
  }
 },
 "nbformat": 4,
 "nbformat_minor": 4
}
