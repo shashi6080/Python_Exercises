{
 "cells": [
  {
   "cell_type": "code",
   "execution_count": 17,
   "metadata": {},
   "outputs": [
    {
     "name": "stdout",
     "output_type": "stream",
     "text": [
      "{1, 2, 3}\n"
     ]
    }
   ],
   "source": [
    "#1. Create a set and add elements\n",
    "a = set()\n",
    "a.add(1)\n",
    "a.add(2)\n",
    "a.add(3)\n",
    "print(a)"
   ]
  },
  {
   "cell_type": "code",
   "execution_count": 8,
   "metadata": {},
   "outputs": [
    {
     "data": {
      "text/plain": [
       "{2, 3, 4, 5, 6, 7, 8, 9}"
      ]
     },
     "execution_count": 8,
     "metadata": {},
     "output_type": "execute_result"
    }
   ],
   "source": [
    "b = [2, 3, 4, 7, 8, 9, 2, 5, 6, 7, 8]\n",
    "c = set(b)"
   ]
  },
  {
   "cell_type": "code",
   "execution_count": 10,
   "metadata": {},
   "outputs": [
    {
     "name": "stdout",
     "output_type": "stream",
     "text": [
      "{2, 3, 4, 5, 6, 7, 8, 9}\n",
      "<class 'set'>\n",
      "{2, 3, 4, 5, 6, 7, 8}\n"
     ]
    }
   ],
   "source": [
    "#2. Remove an element from the set\n",
    "print(c)\n",
    "print(type(c))\n",
    "c.remove(9)\n",
    "print(c)"
   ]
  },
  {
   "cell_type": "code",
   "execution_count": 11,
   "metadata": {},
   "outputs": [
    {
     "name": "stdout",
     "output_type": "stream",
     "text": [
      "{1, 2, 3, 4, 5, 6, 7, 8, 9}\n",
      "{4, 5, 6, 7, 8, 9}\n"
     ]
    }
   ],
   "source": [
    "#3. Update operation\n",
    "x = {1, 2, 3, 4, 5}\n",
    "y = {4,5, 6, 7, 8, 9}\n",
    "x.update(y)\n",
    "print(x)\n",
    "print(y)"
   ]
  },
  {
   "cell_type": "code",
   "execution_count": 16,
   "metadata": {},
   "outputs": [
    {
     "name": "stdout",
     "output_type": "stream",
     "text": [
      "d e c b a "
     ]
    }
   ],
   "source": [
    "#4. Write a Python program to iteration over sets.\n",
    "a = {\"a\", \"b\", \"c\", \"d\", \"e\"}\n",
    "for i in a:\n",
    "    print(i, end=\" \")"
   ]
  },
  {
   "cell_type": "code",
   "execution_count": 18,
   "metadata": {},
   "outputs": [
    {
     "data": {
      "text/plain": [
       "{1, 2, 3, 5}"
      ]
     },
     "execution_count": 18,
     "metadata": {},
     "output_type": "execute_result"
    }
   ],
   "source": [
    "#5. Write a Python program to remove an item from a set if it is present in the set.\n",
    "a = {1, 2, 3, 4, 5}\n",
    "a.discard(4)\n",
    "a"
   ]
  },
  {
   "cell_type": "code",
   "execution_count": 24,
   "metadata": {},
   "outputs": [
    {
     "name": "stdout",
     "output_type": "stream",
     "text": [
      "a & b :  {3, 4, 5}\n",
      "a | b :  {1, 2, 3, 4, 5, 6, 7}\n",
      "a - b :  {1, 2}\n",
      "b - a :  {6, 7}\n"
     ]
    }
   ],
   "source": [
    "#6. Write a Python program to perform intersection, union, difference operations\n",
    "a = {1, 2, 3, 4, 5}\n",
    "b = {3, 4, 5, 6, 7}\n",
    "print(\"a & b : \", end=\" \")\n",
    "print(a & b)\n",
    "print(\"a | b : \", end=\" \")\n",
    "print(a | b)\n",
    "print(\"a - b : \", end=\" \")\n",
    "print(a - b)\n",
    "print(\"b - a : \", end=\" \")\n",
    "print(b - a)"
   ]
  },
  {
   "cell_type": "code",
   "execution_count": 28,
   "metadata": {},
   "outputs": [
    {
     "name": "stdout",
     "output_type": "stream",
     "text": [
      "max value is :  9\n",
      "min value is :  1\n"
     ]
    }
   ],
   "source": [
    "#7. Write a Python program to find maximum and the minimum value in a set.\n",
    "a = {5, 9, 1, 3, 7, 6, 2}\n",
    "print(\"max value is : \", end=\" \")\n",
    "print(max(a))\n",
    "print(\"min value is : \", end=\" \")\n",
    "print(min(a))"
   ]
  },
  {
   "cell_type": "code",
   "execution_count": null,
   "metadata": {},
   "outputs": [],
   "source": []
  }
 ],
 "metadata": {
  "kernelspec": {
   "display_name": "Python 3",
   "language": "python",
   "name": "python3"
  },
  "language_info": {
   "codemirror_mode": {
    "name": "ipython",
    "version": 3
   },
   "file_extension": ".py",
   "mimetype": "text/x-python",
   "name": "python",
   "nbconvert_exporter": "python",
   "pygments_lexer": "ipython3",
   "version": "3.7.4"
  }
 },
 "nbformat": 4,
 "nbformat_minor": 2
}
