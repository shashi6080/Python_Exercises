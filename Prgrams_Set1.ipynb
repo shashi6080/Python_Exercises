{
 "cells": [
  {
   "cell_type": "markdown",
   "metadata": {},
   "source": [
    "<b>1. Factorial of a number using recursive function </b></b>"
   ]
  },
  {
   "cell_type": "code",
   "execution_count": 5,
   "metadata": {},
   "outputs": [
    {
     "name": "stdout",
     "output_type": "stream",
     "text": [
      "Factorial of 5 is : 120 \n",
      "\n",
      "*****************************\n",
      "\n",
      "Factorial of 3 is : 6\n"
     ]
    }
   ],
   "source": [
    "def fact(n):\n",
    "    if (n==1 or n==0):\n",
    "        return 1\n",
    "    else:\n",
    "        return n*fact(n-1)\n",
    "print('Factorial of 5 is : ',end=\"\")\n",
    "print(fact(5),'\\n')\n",
    "print('*****************************\\n')\n",
    "print('Factorial of 3 is : ',end=\"\")\n",
    "print(fact(3))"
   ]
  },
  {
   "cell_type": "markdown",
   "metadata": {},
   "source": [
    "<b>2. Factorial of a number without using recursive function </b>"
   ]
  },
  {
   "cell_type": "code",
   "execution_count": 7,
   "metadata": {},
   "outputs": [
    {
     "name": "stdout",
     "output_type": "stream",
     "text": [
      "Factorial of 5 is : 120 \n",
      "\n",
      "*****************************\n",
      "\n",
      "Factorial of 3 is : 6\n"
     ]
    }
   ],
   "source": [
    "a = 5\n",
    "\n",
    "def factorial(n):\n",
    "    if n<0:\n",
    "        return 0\n",
    "    elif (n==0 or n==1):\n",
    "        return 1\n",
    "    else:\n",
    "        fact = 1\n",
    "        while(n>1):\n",
    "            fact = fact * n\n",
    "            n = n-1\n",
    "        return fact\n",
    "print('Factorial of 5 is : ',end=\"\")\n",
    "print(fact(5),'\\n')\n",
    "print('*****************************\\n')\n",
    "print('Factorial of 3 is : ',end=\"\")\n",
    "print(fact(3))"
   ]
  },
  {
   "cell_type": "markdown",
   "metadata": {},
   "source": [
    "<b>3. Python Program for Program to find area of a circle </b>"
   ]
  },
  {
   "cell_type": "code",
   "execution_count": 12,
   "metadata": {},
   "outputs": [
    {
     "name": "stdout",
     "output_type": "stream",
     "text": [
      "Area of the circle having radius 10 is :\n",
      "314.1592653589793\n"
     ]
    }
   ],
   "source": [
    "import math\n",
    "\n",
    "radius = 10\n",
    "print(\"Area of the circle having radius {} is :\".format(radius))\n",
    "print(math.pi*pow(radius, 2))"
   ]
  },
  {
   "cell_type": "markdown",
   "metadata": {},
   "source": [
    "<b>4. Python program to print all Prime numbers in an Interval</b>"
   ]
  },
  {
   "cell_type": "code",
   "execution_count": 24,
   "metadata": {},
   "outputs": [
    {
     "name": "stdout",
     "output_type": "stream",
     "text": [
      "11\n",
      "13\n",
      "17\n",
      "19\n",
      "23\n"
     ]
    }
   ],
   "source": [
    "start = 11\n",
    "end = 25\n",
    "  \n",
    "for val in range(start, end + 1): \n",
    "      \n",
    "   # If num is divisible by any number   \n",
    "   # between 2 and val, it is not prime  \n",
    "   if val > 1: \n",
    "       for n in range(2, val): \n",
    "           if (val % n) == 0: \n",
    "               break\n",
    "       else: \n",
    "           print(val) "
   ]
  },
  {
   "cell_type": "markdown",
   "metadata": {},
   "source": [
    "<b>5. Python Program for Fibonacci numbers </b>"
   ]
  },
  {
   "cell_type": "code",
   "execution_count": 28,
   "metadata": {},
   "outputs": [
    {
     "name": "stdout",
     "output_type": "stream",
     "text": [
      "21\n"
     ]
    }
   ],
   "source": [
    "def fibonacci(n):\n",
    "    if n<0:\n",
    "        print('Invalid')\n",
    "    elif n==1:\n",
    "        return 0\n",
    "    elif n==2:\n",
    "        return 1\n",
    "    else:\n",
    "        return fibonacci(n-1)+fibonacci(n-2)\n",
    "\n",
    "print(fibonacci(9))"
   ]
  },
  {
   "cell_type": "markdown",
   "metadata": {},
   "source": [
    "<b>6. Program to find python version</b>"
   ]
  },
  {
   "cell_type": "code",
   "execution_count": 29,
   "metadata": {},
   "outputs": [
    {
     "name": "stdout",
     "output_type": "stream",
     "text": [
      "The python version is :3.7.4 (default, Aug  9 2019, 18:34:13) [MSC v.1915 64 bit (AMD64)]\n",
      "Version information is :sys.version_info(major=3, minor=7, micro=4, releaselevel='final', serial=0)\n"
     ]
    }
   ],
   "source": [
    "import sys\n",
    "print('The python version is :',end=\"\")\n",
    "print(sys.version)\n",
    "print('Version information is :',end=\"\")\n",
    "print(sys.version_info)"
   ]
  },
  {
   "cell_type": "markdown",
   "metadata": {},
   "source": [
    "<B>7. Program to find number of files in the current directory </b>"
   ]
  },
  {
   "cell_type": "code",
   "execution_count": 37,
   "metadata": {},
   "outputs": [
    {
     "name": "stdout",
     "output_type": "stream",
     "text": [
      "1\n",
      "['Untitled.ipynb']\n"
     ]
    }
   ],
   "source": [
    "import os, os.path\n",
    "\n",
    "print(len([name for name in os.listdir('.') if os.path.isfile(name)]))\n",
    "print([name for name in os.listdir('.') if os.path.isfile(name)])"
   ]
  },
  {
   "cell_type": "markdown",
   "metadata": {},
   "source": [
    "<b>File Operations in python </b>"
   ]
  },
  {
   "cell_type": "markdown",
   "metadata": {},
   "source": [
    "https://www.geeksforgeeks.org/reading-writing-text-files-python/\n",
    "<br>Python provides inbuilt functions for creating, writing and reading files. There are two types of files that can be handled in python, normal text files and binary files (written in binary language,0s and 1s).\n",
    "\n",
    "Text files: In this type of file, Each line of text is terminated with a special character called EOL (End of Line), which is the new line character (‘\\n’) in python by default.\n",
    "Binary files: In this type of file, there is no terminator for a line and the data is stored after converting it into machine understandable binary language."
   ]
  },
  {
   "cell_type": "markdown",
   "metadata": {},
   "source": [
    "1. Read Only (‘r’) : Open text file for reading. The handle is positioned at the beginning of the file. If the file does not exists, raises I/O error. This is also the default mode in which file is opened.\n",
    "\n",
    "2. Read and Write (‘r+’) : Open the file for reading and writing. The handle is positioned at the beginning of the file. Raises I/O error if the file does not exists.\n",
    "\n",
    "3. Write Only (‘w’) : Open the file for writing. For existing file, the data is truncated and over-written. The handle is positioned at the beginning of the file. Creates the file if the file does not exists.\n",
    "\n",
    "4. Write and Read (‘w+’) : Open the file for reading and writing. For existing file, data is truncated and over-written. The handle is positioned at the beginning of the file.\n",
    "\n",
    "5. Append Only (‘a’) : Open the file for writing. The file is created if it does not exist. The handle is positioned at the end of the file. The data being written will be inserted at the end, after the existing data.\n",
    "\n",
    "6. Append and Read (‘a+’) : Open the file for reading and writing. The file is created if it does not exist. The handle is positioned at the end of the file. The data being written will be inserted at the end, after the existing data."
   ]
  },
  {
   "cell_type": "markdown",
   "metadata": {},
   "source": [
    "<b> 8. Create a file, write few lines, print file and close </b>"
   ]
  },
  {
   "cell_type": "code",
   "execution_count": 55,
   "metadata": {},
   "outputs": [],
   "source": [
    "f = open('sample.txt', 'w+')\n",
    "f.write(\"Hi, how are you.....\\n\")\n",
    "f.write('I am fine....')\n",
    "f.close()"
   ]
  },
  {
   "cell_type": "code",
   "execution_count": 57,
   "metadata": {},
   "outputs": [
    {
     "name": "stdout",
     "output_type": "stream",
     "text": [
      "['Hi, how are you.....\\n', 'I am fine....']\n"
     ]
    }
   ],
   "source": [
    "f = open('sample.txt', 'r')\n",
    "print(f.readlines())\n",
    "f.close()"
   ]
  },
  {
   "cell_type": "code",
   "execution_count": 58,
   "metadata": {},
   "outputs": [
    {
     "name": "stdout",
     "output_type": "stream",
     "text": [
      "Hi, how are you.....\n",
      "\n",
      "I am fine....\n"
     ]
    }
   ],
   "source": [
    "with open('sample.txt', 'r') as f:\n",
    "    for i in f.readlines():\n",
    "        print(i)\n",
    "f.close()"
   ]
  },
  {
   "cell_type": "markdown",
   "metadata": {},
   "source": [
    "<b> 9. Append few lines on already created file, display contents and close file <b>"
   ]
  },
  {
   "cell_type": "code",
   "execution_count": 62,
   "metadata": {},
   "outputs": [],
   "source": [
    "f = open('sample.txt', 'a+')\n",
    "f.write('Thats nice to hear from you....\\nHow the things are going on')\n",
    "f.close()"
   ]
  },
  {
   "cell_type": "code",
   "execution_count": 63,
   "metadata": {},
   "outputs": [
    {
     "name": "stdout",
     "output_type": "stream",
     "text": [
      "Hi, how are you.....\n",
      "\n",
      "I am fine....Thats nice to hear from you....\n",
      "\n",
      " How the things are going onThats nice to hear from you....\n",
      "\n",
      "How the things are going onThats nice to hear from you....\n",
      "\n",
      "How the things are going on\n"
     ]
    }
   ],
   "source": [
    "with open('sample.txt', 'r+') as f:\n",
    "    for i in f.readlines():\n",
    "        print(i)\n",
    "f.close()"
   ]
  },
  {
   "cell_type": "markdown",
   "metadata": {},
   "source": [
    "<b>10. Create a folder and 10 text files with contents. Read all files and contents in one single text file <b>"
   ]
  },
  {
   "cell_type": "code",
   "execution_count": 7,
   "metadata": {},
   "outputs": [],
   "source": [
    "import os\n",
    "foldername = 'temp'\n",
    "path = os.path.join('.', foldername)\n",
    "os.mkdir(path)"
   ]
  },
  {
   "cell_type": "code",
   "execution_count": 8,
   "metadata": {},
   "outputs": [
    {
     "data": {
      "text/plain": [
       "['.ipynb_checkpoints', 'sample.txt', 'temp', 'Untitled.ipynb']"
      ]
     },
     "execution_count": 8,
     "metadata": {},
     "output_type": "execute_result"
    }
   ],
   "source": [
    "# view all files and folders in the current directory\n",
    "os.listdir('.')"
   ]
  },
  {
   "cell_type": "code",
   "execution_count": 13,
   "metadata": {},
   "outputs": [
    {
     "name": "stdout",
     "output_type": "stream",
     "text": [
      "C:\\Users\\shashi\\Machine_Learning\\Python_Practice\\temp\\text_0.txt\n",
      "C:\\Users\\shashi\\Machine_Learning\\Python_Practice\\temp\\text_1.txt\n",
      "C:\\Users\\shashi\\Machine_Learning\\Python_Practice\\temp\\text_2.txt\n",
      "C:\\Users\\shashi\\Machine_Learning\\Python_Practice\\temp\\text_3.txt\n",
      "C:\\Users\\shashi\\Machine_Learning\\Python_Practice\\temp\\text_4.txt\n",
      "C:\\Users\\shashi\\Machine_Learning\\Python_Practice\\temp\\text_5.txt\n",
      "C:\\Users\\shashi\\Machine_Learning\\Python_Practice\\temp\\text_6.txt\n",
      "C:\\Users\\shashi\\Machine_Learning\\Python_Practice\\temp\\text_7.txt\n",
      "C:\\Users\\shashi\\Machine_Learning\\Python_Practice\\temp\\text_8.txt\n",
      "C:\\Users\\shashi\\Machine_Learning\\Python_Practice\\temp\\text_9.txt\n"
     ]
    }
   ],
   "source": [
    "for i in range(10):\n",
    "    x = 'text_'+str(i)+'.txt'\n",
    "    path = os.path.join('C:\\\\Users\\\\shashi\\\\Machine_Learning\\\\Python_Practice\\\\temp', x)\n",
    "    f = open(path, 'a+')\n",
    "    f.close"
   ]
  },
  {
   "cell_type": "code",
   "execution_count": 15,
   "metadata": {},
   "outputs": [],
   "source": [
    "for file in os.listdir('.\\\\temp'):\n",
    "    if '.txt' in file:\n",
    "        f = open('.\\\\temp\\\\'+file, 'w+')\n",
    "        f.write('Hi...How are you..\\nI am file\\nHow about you\\nI am also fine\\nNice to meet you')\n",
    "        f.close"
   ]
  },
  {
   "cell_type": "code",
   "execution_count": 20,
   "metadata": {},
   "outputs": [],
   "source": [
    "f = open('result.txt', 'a+')\n",
    "for file in os.listdir('.\\\\temp'):\n",
    "    if '.txt' in file:\n",
    "        f1 = open('.\\\\temp\\\\'+file,'r+')\n",
    "        f.write(f1.read())\n",
    "        f1.close()\n",
    "f.close()"
   ]
  },
  {
   "cell_type": "markdown",
   "metadata": {},
   "source": [
    "<b>11. Write a method which excepts filename and search for a string. Returns true if that string is present<\\b>"
   ]
  },
  {
   "cell_type": "code",
   "execution_count": 22,
   "metadata": {},
   "outputs": [
    {
     "name": "stdout",
     "output_type": "stream",
     "text": [
      "True\n",
      "False\n"
     ]
    }
   ],
   "source": [
    "def search_string(filename, text):\n",
    "    f = open('.\\\\temp\\\\'+filename, 'r+')\n",
    "    if text in f.read():\n",
    "        return True\n",
    "    else:\n",
    "        return False\n",
    "print(search_string('text_0.txt','methods and instance variables'))\n",
    "print(search_string('text_0.txt','negative scenario'))"
   ]
  },
  {
   "cell_type": "markdown",
   "metadata": {},
   "source": [
    "<b>12. Given a filename add each line in a dictionary with keys as serial numbers<b>"
   ]
  },
  {
   "cell_type": "code",
   "execution_count": 23,
   "metadata": {},
   "outputs": [],
   "source": [
    "def add_to_dict(filename):\n",
    "    text_lines = dict()\n",
    "    with open('.\\\\temp\\\\'+filename, 'r+') as f:\n",
    "        i=1\n",
    "        for x in f.readlines():\n",
    "            text_lines[i] = x\n",
    "            i = i+1\n",
    "    return text_lines"
   ]
  },
  {
   "cell_type": "code",
   "execution_count": 26,
   "metadata": {},
   "outputs": [
    {
     "name": "stdout",
     "output_type": "stream",
     "text": [
      "{1: 'Hi...How are you..\\n', 2: 'I am file\\n', 3: 'How about you\\n', 4: 'I am also fine\\n', 5: 'Nice to meet you\\n', 6: 'Use the function naming rules: lowercase with words separated by underscores as necessary to improve readability.\\n', 7: '\\n', 8: 'Use one leading underscore only for non-public methods and instance variables.\\n', 9: '\\n', 10: \"To avoid name clashes with subclasses, use two leading underscores to invoke Python's name mangling rules.\\n\", 11: '\\n', 12: 'Python mangles these names with the class name: if class Foo has an attribute named __a, it cannot be accessed by Foo.__a. (An insistent user could still gain access by calling Foo._Foo__a.) Generally, double leading underscores should be used only to avoid name conflicts with attributes in classes designed to be subclassed.\\n', 13: '\\n', 14: 'Note: there is some controversy about the use of __names (see below).'}\n"
     ]
    }
   ],
   "source": [
    "lines = add_to_dict('text_0.txt')\n",
    "print(lines)"
   ]
  },
  {
   "cell_type": "markdown",
   "metadata": {},
   "source": [
    "<b> 13. If given filename exists remove it <b>"
   ]
  },
  {
   "cell_type": "code",
   "execution_count": 27,
   "metadata": {},
   "outputs": [],
   "source": [
    "def remove_file(filename):\n",
    "    if os.path.isfile('.\\\\temp\\\\'+filename):\n",
    "        os.remove('.\\\\temp\\\\'+filename)\n",
    "        return True\n",
    "    else:\n",
    "        return False"
   ]
  },
  {
   "cell_type": "code",
   "execution_count": 28,
   "metadata": {},
   "outputs": [
    {
     "name": "stdout",
     "output_type": "stream",
     "text": [
      "True\n",
      "False\n"
     ]
    }
   ],
   "source": [
    "print(remove_file('text_9.txt'))\n",
    "print(remove_file('text_11.txt'))"
   ]
  },
  {
   "cell_type": "code",
   "execution_count": 29,
   "metadata": {},
   "outputs": [
    {
     "name": "stdout",
     "output_type": "stream",
     "text": [
      "False\n"
     ]
    }
   ],
   "source": [
    "print(remove_file('text_9.txt'))"
   ]
  },
  {
   "cell_type": "markdown",
   "metadata": {},
   "source": [
    "<b>14. Given a filename get the size of the file <b>"
   ]
  },
  {
   "cell_type": "code",
   "execution_count": 31,
   "metadata": {},
   "outputs": [],
   "source": [
    "def get_size(filename):\n",
    "    if os.path.isfile('.\\\\temp\\\\'+filename):\n",
    "        return os.path.getsize('.\\\\temp\\\\'+filename)\n",
    "    else:\n",
    "        return None"
   ]
  },
  {
   "cell_type": "code",
   "execution_count": 32,
   "metadata": {},
   "outputs": [
    {
     "name": "stdout",
     "output_type": "stream",
     "text": [
      "788\n"
     ]
    }
   ],
   "source": [
    "print(get_size('text_0.txt'))"
   ]
  },
  {
   "cell_type": "code",
   "execution_count": 33,
   "metadata": {},
   "outputs": [
    {
     "name": "stdout",
     "output_type": "stream",
     "text": [
      "None\n"
     ]
    }
   ],
   "source": [
    "print(get_size('text_20.txt'))"
   ]
  },
  {
   "cell_type": "markdown",
   "metadata": {},
   "source": [
    "<b> 15. Print sum of digits in a string <b>"
   ]
  },
  {
   "cell_type": "code",
   "execution_count": 35,
   "metadata": {},
   "outputs": [
    {
     "name": "stdout",
     "output_type": "stream",
     "text": [
      "13\n"
     ]
    }
   ],
   "source": [
    "sum = 0\n",
    "for i in 'a1b3n4m5':\n",
    "    if i.isdigit():\n",
    "        sum = sum + int(i)\n",
    "print(sum)"
   ]
  },
  {
   "cell_type": "markdown",
   "metadata": {},
   "source": [
    "<b>16. Print current system time<b>"
   ]
  },
  {
   "cell_type": "code",
   "execution_count": 36,
   "metadata": {},
   "outputs": [
    {
     "name": "stdout",
     "output_type": "stream",
     "text": [
      "Sat Apr 11 02:36:41 2020\n"
     ]
    }
   ],
   "source": [
    "import time\n",
    "print(time.ctime())"
   ]
  },
  {
   "cell_type": "markdown",
   "metadata": {},
   "source": [
    "<B>17. Print year, month, date, time<b>"
   ]
  },
  {
   "cell_type": "code",
   "execution_count": 48,
   "metadata": {},
   "outputs": [],
   "source": [
    "info = time.ctime().split(' ')"
   ]
  },
  {
   "cell_type": "code",
   "execution_count": 51,
   "metadata": {},
   "outputs": [
    {
     "name": "stdout",
     "output_type": "stream",
     "text": [
      "Day : Sat\n",
      "Month : Apr\n",
      "Date : 11\n",
      "Time : 02:42:16\n",
      "Year : 2020\n"
     ]
    }
   ],
   "source": [
    "print('Day :', info[0])\n",
    "print('Month :', info[1])\n",
    "print('Date :', info[2])\n",
    "print('Time :', info[3])\n",
    "print('Year :', info[4])"
   ]
  },
  {
   "cell_type": "markdown",
   "metadata": {},
   "source": [
    "<b>18. Given two lists of same size, use one list as keys and other lists as values. Create dictionary<b>"
   ]
  },
  {
   "cell_type": "code",
   "execution_count": 54,
   "metadata": {},
   "outputs": [
    {
     "name": "stdout",
     "output_type": "stream",
     "text": [
      "{1: 'Suresh', 2: 'Ramesh', 3: 'Satish', 4: 'Dinesh', 5: 'Robin'}\n"
     ]
    }
   ],
   "source": [
    "a = [1, 2, 3, 4, 5]\n",
    "b = ['Suresh', 'Ramesh', 'Satish', 'Dinesh', 'Robin']\n",
    "c = dict()\n",
    "for i in range(5):\n",
    "    c[a[i]] = b[i]\n",
    "print(c)"
   ]
  },
  {
   "cell_type": "markdown",
   "metadata": {},
   "source": [
    "<b> 19. Build a 3D matrix using lists. Access random elements.<b>"
   ]
  },
  {
   "cell_type": "code",
   "execution_count": 58,
   "metadata": {},
   "outputs": [
    {
     "name": "stdout",
     "output_type": "stream",
     "text": [
      "10\n",
      "12\n"
     ]
    }
   ],
   "source": [
    "a = [[[1, 2, 3, 4, 5],[6, 7, 8, 9, 10]],[[11, 12, 13, 14, 15],[16, 17, 18, 19, 20]]]\n",
    "print(a[0][1][4])\n",
    "print(a[1][0][1])"
   ]
  },
  {
   "cell_type": "markdown",
   "metadata": {},
   "source": [
    "<b>20. Build a small module using oops concepts. To perform file operations(print, append, delete)<b>"
   ]
  },
  {
   "cell_type": "code",
   "execution_count": 80,
   "metadata": {},
   "outputs": [],
   "source": [
    "import sys\n",
    "class MyClass:\n",
    "    def __init__(self, filename):\n",
    "        self.filename = filename\n",
    "        self.path = os.path.join('.\\\\temp\\\\'+self.filename)\n",
    "    \n",
    "    def create_file(self):\n",
    "        f = open(self.path, 'a+')\n",
    "        f.close()\n",
    "        print('{} file created'.format(self.filename))\n",
    "        \n",
    "    def read_file(self):\n",
    "        if os.path.isfile('.\\\\temp\\\\'+self.filename):\n",
    "            f = open(self.path, 'r+')\n",
    "            print(f.read())\n",
    "            f.close()\n",
    "        else:\n",
    "            print('File not found !!!')\n",
    "    \n",
    "    def append_file(self):\n",
    "        if os.path.isfile('.\\\\temp\\\\'+self.filename):\n",
    "            print('Enter the text you want to append :')\n",
    "            text = input(' > ')\n",
    "            f = open(self.path, 'a+')\n",
    "            f.write(text+'\\n')\n",
    "            f.close()\n",
    "        else:\n",
    "            print('File not found !!!')\n",
    "    \n",
    "    def delete_file(self):\n",
    "        if os.path.isfile('.\\\\temp\\\\'+self.filename):\n",
    "            os.remove('.\\\\temp\\\\'+self.filename)\n",
    "        else:\n",
    "            print('File not found !!!')\n",
    "        \n",
    "    def continue_operation(self):\n",
    "        \"\"\"\n",
    "        checks if user wants to continue with next operation\n",
    "        \"\"\"\n",
    "        print('\\n IF YOU WANT TO CONTINUE NEXT OPERATION ENTER 1 ELSE ENTER 2 :')\n",
    "        next_opr = int(input('> '))\n",
    "        if next_opr == 1:\n",
    "            self.main_operation()\n",
    "        elif next_opr == 2:\n",
    "            print('Exited !!!!!!!!')\n",
    "            sys.exit(0)\n",
    "        else:\n",
    "            print('YOU HAVE ENTERED WRONG CHOICE. ENTER RIGHT CHOICE :')\n",
    "        \n",
    "    \n",
    "    def main_operation(self):\n",
    "        \"\"\"\n",
    "        different file operations\n",
    "        \"\"\"\n",
    "        print(\"Enter 1 : To create a file \")\n",
    "        print(\"Enter 2 : To read contents of the file \")\n",
    "        print('Enter 3 : To append contents of the file ')\n",
    "        print('Enter 4 : To delete file')\n",
    "        print('Enter 5 : To exit the system')\n",
    "        choice = int(input(\"SELECT YOUR OPTION : \"))\n",
    "        if choice in (1, 2, 3, 4, 5):\n",
    "            if choice == 1:\n",
    "                self.create_file()\n",
    "            elif choice == 2:\n",
    "                self.read_file()\n",
    "            elif choice == 3:\n",
    "                self.append_file()\n",
    "            elif choice == 4 :\n",
    "                self.delete_file()\n",
    "            elif choice == 5:\n",
    "                sys.exit(0)\n",
    "            else:\n",
    "                print('Terminated for wrong choice !!')\n",
    "                sys.exit(0)\n",
    "        self.continue_operation()"
   ]
  },
  {
   "cell_type": "code",
   "execution_count": 81,
   "metadata": {},
   "outputs": [
    {
     "name": "stdout",
     "output_type": "stream",
     "text": [
      "Enter 1 : To create a file \n",
      "Enter 2 : To read contents of the file \n",
      "Enter 3 : To append contents of the file \n",
      "Enter 4 : To delete file\n",
      "Enter 5 : To exit the system\n",
      "SELECT YOUR OPTION : 1\n",
      "shashi.txt file created\n",
      "\n",
      " IF YOU WANT TO CONTINUE NEXT OPERATION ENTER 1 ELSE ENTER 2 :\n",
      "> 1\n",
      "Enter 1 : To create a file \n",
      "Enter 2 : To read contents of the file \n",
      "Enter 3 : To append contents of the file \n",
      "Enter 4 : To delete file\n",
      "Enter 5 : To exit the system\n",
      "SELECT YOUR OPTION : 2\n",
      "\n",
      "\n",
      " IF YOU WANT TO CONTINUE NEXT OPERATION ENTER 1 ELSE ENTER 2 :\n",
      "> 1\n",
      "Enter 1 : To create a file \n",
      "Enter 2 : To read contents of the file \n",
      "Enter 3 : To append contents of the file \n",
      "Enter 4 : To delete file\n",
      "Enter 5 : To exit the system\n",
      "SELECT YOUR OPTION : 3\n",
      "Enter the text you want to append :\n",
      " > Hi. how are you....\n",
      "\n",
      " IF YOU WANT TO CONTINUE NEXT OPERATION ENTER 1 ELSE ENTER 2 :\n",
      "> 1\n",
      "Enter 1 : To create a file \n",
      "Enter 2 : To read contents of the file \n",
      "Enter 3 : To append contents of the file \n",
      "Enter 4 : To delete file\n",
      "Enter 5 : To exit the system\n",
      "SELECT YOUR OPTION : 2\n",
      "Hi. how are you....\n",
      "\n",
      "\n",
      " IF YOU WANT TO CONTINUE NEXT OPERATION ENTER 1 ELSE ENTER 2 :\n",
      "> 1\n",
      "Enter 1 : To create a file \n",
      "Enter 2 : To read contents of the file \n",
      "Enter 3 : To append contents of the file \n",
      "Enter 4 : To delete file\n",
      "Enter 5 : To exit the system\n",
      "SELECT YOUR OPTION : 3\n",
      "Enter the text you want to append :\n",
      " > I am fine\n",
      "\n",
      " IF YOU WANT TO CONTINUE NEXT OPERATION ENTER 1 ELSE ENTER 2 :\n",
      "> 1\n",
      "Enter 1 : To create a file \n",
      "Enter 2 : To read contents of the file \n",
      "Enter 3 : To append contents of the file \n",
      "Enter 4 : To delete file\n",
      "Enter 5 : To exit the system\n",
      "SELECT YOUR OPTION : 2\n",
      "Hi. how are you....\n",
      "I am fine\n",
      "\n",
      "\n",
      " IF YOU WANT TO CONTINUE NEXT OPERATION ENTER 1 ELSE ENTER 2 :\n",
      "> 1\n",
      "Enter 1 : To create a file \n",
      "Enter 2 : To read contents of the file \n",
      "Enter 3 : To append contents of the file \n",
      "Enter 4 : To delete file\n",
      "Enter 5 : To exit the system\n",
      "SELECT YOUR OPTION : 4\n",
      "\n",
      " IF YOU WANT TO CONTINUE NEXT OPERATION ENTER 1 ELSE ENTER 2 :\n",
      "> 1\n",
      "Enter 1 : To create a file \n",
      "Enter 2 : To read contents of the file \n",
      "Enter 3 : To append contents of the file \n",
      "Enter 4 : To delete file\n",
      "Enter 5 : To exit the system\n",
      "SELECT YOUR OPTION : 5\n"
     ]
    },
    {
     "ename": "SystemExit",
     "evalue": "0",
     "output_type": "error",
     "traceback": [
      "An exception has occurred, use %tb to see the full traceback.\n",
      "\u001b[1;31mSystemExit\u001b[0m\u001b[1;31m:\u001b[0m 0\n"
     ]
    }
   ],
   "source": [
    "p = MyClass('shashi.txt')\n",
    "p.main_operation()"
   ]
  },
  {
   "cell_type": "markdown",
   "metadata": {},
   "source": [
    "<b>21. Write a Python program to extract the filename from a given path.<b>"
   ]
  },
  {
   "cell_type": "code",
   "execution_count": 82,
   "metadata": {},
   "outputs": [
    {
     "name": "stdout",
     "output_type": "stream",
     "text": [
      "text_0.txt\n"
     ]
    }
   ],
   "source": [
    "print(os.path.basename('C:\\\\Users\\\\shashi\\\\Machine_Learning\\\\Python_Practice\\\\temp\\\\text_0.txt'))"
   ]
  },
  {
   "cell_type": "markdown",
   "metadata": {},
   "source": [
    "<b>22. Write a Python program to get the users environment<b>"
   ]
  },
  {
   "cell_type": "code",
   "execution_count": 84,
   "metadata": {},
   "outputs": [
    {
     "name": "stdout",
     "output_type": "stream",
     "text": [
      "environ({'ALLUSERSPROFILE': 'C:\\\\ProgramData', 'APPDATA': 'C:\\\\Users\\\\shashi\\\\AppData\\\\Roaming', 'COMMONPROGRAMFILES': 'C:\\\\Program Files\\\\Common Files', 'COMMONPROGRAMFILES(X86)': 'C:\\\\Program Files (x86)\\\\Common Files', 'COMMONPROGRAMW6432': 'C:\\\\Program Files\\\\Common Files', 'COMPUTERNAME': 'DESKTOP-27NKNVF', 'COMSPEC': 'C:\\\\Windows\\\\system32\\\\cmd.exe', 'CONDA_DEFAULT_ENV': 'base', 'CONDA_EXE': 'C:\\\\Users\\\\shashi\\\\Anaconda3\\\\Scripts\\\\conda.exe', 'CONDA_PREFIX': 'C:\\\\Users\\\\shashi\\\\Anaconda3', 'CONDA_PROMPT_MODIFIER': '(base) ', 'CONDA_PYTHON_EXE': 'C:\\\\Users\\\\shashi\\\\Anaconda3\\\\python.exe', 'CONDA_SHLVL': '1', 'DRIVERDATA': 'C:\\\\Windows\\\\System32\\\\Drivers\\\\DriverData', 'FPS_BROWSER_APP_PROFILE_STRING': 'Internet Explorer', 'FPS_BROWSER_USER_PROFILE_STRING': 'Default', 'HOMEDRIVE': 'C:', 'HOMEPATH': '\\\\Users\\\\shashi', 'LOCALAPPDATA': 'C:\\\\Users\\\\shashi\\\\AppData\\\\Local', 'LOGONSERVER': '\\\\\\\\DESKTOP-27NKNVF', 'NUMBER_OF_PROCESSORS': '12', 'ONEDRIVE': 'C:\\\\Users\\\\shashi\\\\OneDrive', 'ONEDRIVECONSUMER': 'C:\\\\Users\\\\shashi\\\\OneDrive', 'OS': 'Windows_NT', 'PATH': 'C:\\\\Users\\\\shashi\\\\Anaconda3;C:\\\\Users\\\\shashi\\\\Anaconda3\\\\Library\\\\mingw-w64\\\\bin;C:\\\\Users\\\\shashi\\\\Anaconda3\\\\Library\\\\usr\\\\bin;C:\\\\Users\\\\shashi\\\\Anaconda3\\\\Library\\\\bin;C:\\\\Users\\\\shashi\\\\Anaconda3\\\\Scripts;C:\\\\Users\\\\shashi\\\\Anaconda3\\\\bin;C:\\\\Users\\\\shashi\\\\Anaconda3\\\\condabin;C:\\\\ProgramData\\\\DockerDesktop\\\\version-bin;C:\\\\Program Files\\\\Docker\\\\Docker\\\\Resources\\\\bin;C:\\\\Program Files (x86)\\\\Common Files\\\\Oracle\\\\Java\\\\javapath;C:\\\\Windows\\\\system32;C:\\\\Windows;C:\\\\Windows\\\\System32\\\\Wbem;C:\\\\Windows\\\\System32\\\\WindowsPowerShell\\\\v1.0;C:\\\\Windows\\\\System32\\\\OpenSSH;C:\\\\Program Files\\\\Java\\\\jdk1.8.0_211\\\\bin;C:\\\\Program Files\\\\Java\\\\jre1.8.0_211\\\\bin;C:\\\\Program Files\\\\Git\\\\cmd;C:\\\\Program Files\\\\Microsoft SQL Server\\\\Client SDK\\\\ODBC\\\\110\\\\Tools\\\\Binn;C:\\\\Program Files (x86)\\\\Microsoft SQL Server\\\\120\\\\Tools\\\\Binn;C:\\\\Program Files\\\\Microsoft SQL Server\\\\120\\\\Tools\\\\Binn;C:\\\\Program Files\\\\Microsoft SQL Server\\\\120\\\\DTS\\\\Binn;C:\\\\Program Files (x86)\\\\Microsoft SQL Server\\\\120\\\\Tools\\\\Binn\\\\ManagementStudio;C:\\\\Program Files (x86)\\\\Microsoft SQL Server\\\\120\\\\DTS\\\\Binn;C:\\\\Users\\\\shashi\\\\Anaconda3\\\\Scripts;C:\\\\Users\\\\shashi\\\\Anaconda3;C:\\\\Program Files\\\\MySQL\\\\MySQL Shell 8.0\\\\bin;C:\\\\Users\\\\shashi\\\\AppData\\\\Local\\\\Microsoft\\\\WindowsApps;C:\\\\Users\\\\shashi\\\\AppData\\\\Local\\\\Programs\\\\MiKTeX 2.9\\\\miktex\\\\bin\\\\x64;C:\\\\Users\\\\shashi\\\\AppData\\\\Local\\\\Programs\\\\latex\\\\MiKTeX 2.9\\\\miktex\\\\bin\\\\x64;.', 'PATHEXT': '.COM;.EXE;.BAT;.CMD;.VBS;.VBE;.JS;.JSE;.WSF;.WSH;.MSC', 'PROCESSOR_ARCHITECTURE': 'AMD64', 'PROCESSOR_IDENTIFIER': 'Intel64 Family 6 Model 158 Stepping 10, GenuineIntel', 'PROCESSOR_LEVEL': '6', 'PROCESSOR_REVISION': '9e0a', 'PROGRAMDATA': 'C:\\\\ProgramData', 'PROGRAMFILES': 'C:\\\\Program Files', 'PROGRAMFILES(X86)': 'C:\\\\Program Files (x86)', 'PROGRAMW6432': 'C:\\\\Program Files', 'PROMPT': '(base) $P$G', 'PSMODULEPATH': 'C:\\\\Program Files\\\\WindowsPowerShell\\\\Modules;C:\\\\Windows\\\\system32\\\\WindowsPowerShell\\\\v1.0\\\\Modules;C:\\\\Program Files (x86)\\\\Microsoft SQL Server\\\\120\\\\Tools\\\\PowerShell\\\\Modules\\\\', 'PUBLIC': 'C:\\\\Users\\\\Public', 'SESSIONNAME': 'Console', 'SYSTEMDRIVE': 'C:', 'SYSTEMROOT': 'C:\\\\Windows', 'TEMP': 'C:\\\\Users\\\\shashi\\\\AppData\\\\Local\\\\Temp', 'TMP': 'C:\\\\Users\\\\shashi\\\\AppData\\\\Local\\\\Temp', 'USERDOMAIN': 'DESKTOP-27NKNVF', 'USERDOMAIN_ROAMINGPROFILE': 'DESKTOP-27NKNVF', 'USERNAME': 'shashi', 'USERPROFILE': 'C:\\\\Users\\\\shashi', 'WINDIR': 'C:\\\\Windows', 'KERNEL_LAUNCH_TIMEOUT': '40', 'JPY_INTERRUPT_EVENT': '2556', 'IPY_INTERRUPT_EVENT': '2556', 'JPY_PARENT_PID': '2564', 'TERM': 'xterm-color', 'CLICOLOR': '1', 'PAGER': 'cat', 'GIT_PAGER': 'cat', 'MPLBACKEND': 'module://ipykernel.pylab.backend_inline'})\n"
     ]
    }
   ],
   "source": [
    "print(os.environ)"
   ]
  },
  {
   "cell_type": "markdown",
   "metadata": {},
   "source": [
    "<b>23. Write a Python program to remove the first item from a specified list. <b>"
   ]
  },
  {
   "cell_type": "code",
   "execution_count": 85,
   "metadata": {},
   "outputs": [],
   "source": [
    "a = [1, 2, 3, 4, 5]\n",
    "del a[0]"
   ]
  },
  {
   "cell_type": "code",
   "execution_count": 86,
   "metadata": {},
   "outputs": [
    {
     "data": {
      "text/plain": [
       "[2, 3, 4, 5]"
      ]
     },
     "execution_count": 86,
     "metadata": {},
     "output_type": "execute_result"
    }
   ],
   "source": [
    "a"
   ]
  },
  {
   "cell_type": "markdown",
   "metadata": {},
   "source": [
    "<b> 24. Provided two lists append contents of one list to other"
   ]
  },
  {
   "cell_type": "code",
   "execution_count": 87,
   "metadata": {},
   "outputs": [
    {
     "data": {
      "text/plain": [
       "[1, 2, 3, 4, 5, 6, 7, 8, 9, 10]"
      ]
     },
     "execution_count": 87,
     "metadata": {},
     "output_type": "execute_result"
    }
   ],
   "source": [
    "# if a = [1, 2], b = [3, 4], then c = [1, 2, 3, 4]\n",
    "a = [1, 2, 3, 4, 5]\n",
    "b = [6, 7, 8, 9, 10]\n",
    "for i in b:\n",
    "    a.append(i)\n",
    "a"
   ]
  },
  {
   "cell_type": "markdown",
   "metadata": {},
   "source": [
    "<b> 25. Given a list extract elements into another list, which are even numbers and divisible by 5"
   ]
  },
  {
   "cell_type": "code",
   "execution_count": 92,
   "metadata": {},
   "outputs": [
    {
     "data": {
      "text/plain": [
       "[10, 20, 30, 50, 60, 100]"
      ]
     },
     "execution_count": 92,
     "metadata": {},
     "output_type": "execute_result"
    }
   ],
   "source": [
    "a = [1, 10, 15, 20, 12, 25, 30, 26, 50, 60, 95, 100]\n",
    "b = [i for i in a if i%2==0 and i%5==0]\n",
    "b"
   ]
  },
  {
   "cell_type": "markdown",
   "metadata": {},
   "source": [
    "<b> 26. Given a list extract elements into another list, which are even numbers \n",
    "and divisible by 5. Using lambda function"
   ]
  },
  {
   "cell_type": "code",
   "execution_count": 94,
   "metadata": {},
   "outputs": [
    {
     "data": {
      "text/plain": [
       "[10, 20, 30, 50, 60, 100]"
      ]
     },
     "execution_count": 94,
     "metadata": {},
     "output_type": "execute_result"
    }
   ],
   "source": [
    "a = [1, 10, 15, 20, 12, 25, 30, 26, 50, 60, 95, 100]\n",
    "\n",
    "b = list(filter(lambda x: (x%2==0 and x%5==0), a))\n",
    "b"
   ]
  },
  {
   "cell_type": "markdown",
   "metadata": {},
   "source": [
    "<b> 27. Given a list extract elements into another list, which are even numbers \n",
    "and divisible by 5. Using lambda with defined function."
   ]
  },
  {
   "cell_type": "code",
   "execution_count": 95,
   "metadata": {},
   "outputs": [
    {
     "data": {
      "text/plain": [
       "[10, 20, 30, 50, 60, 100]"
      ]
     },
     "execution_count": 95,
     "metadata": {},
     "output_type": "execute_result"
    }
   ],
   "source": [
    "def my_method(num):\n",
    "    if (num % 2 == 0 and num % 5 == 0):\n",
    "        return True\n",
    "    else:\n",
    "        return False\n",
    "\n",
    "a = [1, 10, 15, 20, 12, 25, 30, 26, 50, 60, 95, 100]\n",
    "\n",
    "b = list(filter(lambda x: my_method(x), a))\n",
    "b"
   ]
  },
  {
   "cell_type": "markdown",
   "metadata": {},
   "source": [
    "<b> 28. Accept list from the user as input and display it"
   ]
  },
  {
   "cell_type": "code",
   "execution_count": 96,
   "metadata": {},
   "outputs": [
    {
     "name": "stdout",
     "output_type": "stream",
     "text": [
      "Enter a list :[1, 2, 3, 4, 5]\n",
      "[1, 2, 3, 4, 5]\n"
     ]
    }
   ],
   "source": [
    "a = eval(input('Enter a list :'))\n",
    "print(a)"
   ]
  },
  {
   "cell_type": "markdown",
   "metadata": {},
   "source": [
    "<b> 29. Accept tuple from the user as input and display it"
   ]
  },
  {
   "cell_type": "code",
   "execution_count": 97,
   "metadata": {},
   "outputs": [
    {
     "name": "stdout",
     "output_type": "stream",
     "text": [
      "Enter a tuple :('abc', 1, 'xyz', 12.20)\n",
      "('abc', 1, 'xyz', 12.2)\n"
     ]
    }
   ],
   "source": [
    "a = eval(input('Enter a tuple :'))\n",
    "print(a)"
   ]
  },
  {
   "cell_type": "markdown",
   "metadata": {},
   "source": [
    "<b> 30. Accept dictionary from the user as input and display it"
   ]
  },
  {
   "cell_type": "code",
   "execution_count": 98,
   "metadata": {},
   "outputs": [
    {
     "name": "stdout",
     "output_type": "stream",
     "text": [
      "Enter a dictionary :{1:'abc', 2:'def', 3:'ghi', 4:'jkl'}\n"
     ]
    },
    {
     "data": {
      "text/plain": [
       "{1: 'abc', 2: 'def', 3: 'ghi', 4: 'jkl'}"
      ]
     },
     "execution_count": 98,
     "metadata": {},
     "output_type": "execute_result"
    }
   ],
   "source": [
    "a = eval(input('Enter a dictionary :'))\n",
    "a"
   ]
  },
  {
   "cell_type": "markdown",
   "metadata": {},
   "source": [
    "<b> 31. Display numbers from 1 to 10 using while loop"
   ]
  },
  {
   "cell_type": "code",
   "execution_count": 99,
   "metadata": {},
   "outputs": [
    {
     "name": "stdout",
     "output_type": "stream",
     "text": [
      "1\n",
      "2\n",
      "3\n",
      "4\n",
      "5\n",
      "6\n",
      "7\n",
      "8\n",
      "9\n",
      "10\n",
      "End\n"
     ]
    }
   ],
   "source": [
    "x = 1\n",
    "while(x<=10):\n",
    "    print(x)\n",
    "    x+=1\n",
    "print(\"End\")"
   ]
  },
  {
   "cell_type": "markdown",
   "metadata": {},
   "source": [
    "<b> 32. Print even numbers between m and n using while loop"
   ]
  },
  {
   "cell_type": "code",
   "execution_count": 101,
   "metadata": {},
   "outputs": [
    {
     "name": "stdout",
     "output_type": "stream",
     "text": [
      "10\n",
      "11\n",
      "12\n",
      "13\n",
      "14\n",
      "15\n",
      "16\n",
      "17\n",
      "18\n",
      "19\n",
      "20\n",
      "21\n",
      "22\n",
      "23\n",
      "24\n",
      "25\n",
      "26\n",
      "27\n",
      "28\n",
      "29\n",
      "30\n"
     ]
    }
   ],
   "source": [
    "m = 10\n",
    "n = 30\n",
    "\n",
    "x=m\n",
    "while x<=n:\n",
    "    print(x)\n",
    "    x+=1"
   ]
  },
  {
   "cell_type": "markdown",
   "metadata": {},
   "source": [
    "<b> 33. Print stars as right angled triangle"
   ]
  },
  {
   "cell_type": "code",
   "execution_count": 103,
   "metadata": {},
   "outputs": [
    {
     "name": "stdout",
     "output_type": "stream",
     "text": [
      "* \n",
      "* * \n",
      "* * * \n",
      "* * * * \n",
      "* * * * * \n"
     ]
    }
   ],
   "source": [
    "rows = 5\n",
    "for i in range(5):\n",
    "    for j in range(i+1):\n",
    "        print('*', end=' ')\n",
    "    print(\"\")"
   ]
  },
  {
   "cell_type": "markdown",
   "metadata": {},
   "source": [
    "<b> 34. Print stars as left angled triangle"
   ]
  },
  {
   "cell_type": "code",
   "execution_count": 109,
   "metadata": {},
   "outputs": [
    {
     "name": "stdout",
     "output_type": "stream",
     "text": [
      "        * \n",
      "      * * \n",
      "    * * * \n",
      "  * * * * \n",
      "* * * * * \n"
     ]
    }
   ],
   "source": [
    "rows = 5\n",
    "for i in range(1, rows + 1):\n",
    "    for j in range(1, rows + 1):\n",
    "        if(j <= rows - i):\n",
    "            print(' ', end = ' ')\n",
    "        else:\n",
    "            print('*', end = ' ')\n",
    "    print()"
   ]
  },
  {
   "cell_type": "markdown",
   "metadata": {},
   "source": [
    "<b> 35. Given a string remove all vowels from it"
   ]
  },
  {
   "cell_type": "code",
   "execution_count": 112,
   "metadata": {},
   "outputs": [
    {
     "name": "stdout",
     "output_type": "stream",
     "text": [
      "bnglr\n"
     ]
    }
   ],
   "source": [
    "a = 'bangalore'\n",
    "b = []\n",
    "for i in a:\n",
    "    if i not in ('a', 'e', 'i', 'o', 'u'):\n",
    "        b.append(i)\n",
    "print(\"\".join(b))"
   ]
  },
  {
   "cell_type": "markdown",
   "metadata": {},
   "source": [
    "<b> 36. Print stars as equilateral triangle"
   ]
  },
  {
   "cell_type": "code",
   "execution_count": 120,
   "metadata": {},
   "outputs": [
    {
     "name": "stdout",
     "output_type": "stream",
     "text": [
      "     * \n",
      "    * * \n",
      "   * * * \n",
      "  * * * * \n",
      " * * * * * \n"
     ]
    }
   ],
   "source": [
    "rows = 5\n",
    "for i in range(1, 6):\n",
    "    print(' '*rows, end='')\n",
    "    print('* '*(i))\n",
    "    rows-=1"
   ]
  },
  {
   "cell_type": "markdown",
   "metadata": {},
   "source": [
    "<b> 37. Print substring of a string which has last 5 characters"
   ]
  },
  {
   "cell_type": "code",
   "execution_count": 117,
   "metadata": {},
   "outputs": [
    {
     "name": "stdout",
     "output_type": "stream",
     "text": [
      "ation\n"
     ]
    }
   ],
   "source": [
    "a = 'organization'\n",
    "print(a[-5:])"
   ]
  },
  {
   "cell_type": "markdown",
   "metadata": {},
   "source": [
    "<b> 38. Write a python program to handle assertions error"
   ]
  },
  {
   "cell_type": "code",
   "execution_count": 2,
   "metadata": {},
   "outputs": [
    {
     "name": "stdout",
     "output_type": "stream",
     "text": [
      "Enter a number greater then 1 : 1\n",
      "Wrong input entered\n"
     ]
    }
   ],
   "source": [
    "x = int(input('Enter a number greater then 1 : '))\n",
    "try:\n",
    "    assert(x>1)\n",
    "    print('You entered: ',x)\n",
    "except AssertionError:\n",
    "    print('Wrong input entered')"
   ]
  },
  {
   "cell_type": "markdown",
   "metadata": {},
   "source": [
    "<b>39. Find first occurance of a substring from the main string"
   ]
  },
  {
   "cell_type": "code",
   "execution_count": 5,
   "metadata": {},
   "outputs": [
    {
     "name": "stdout",
     "output_type": "stream",
     "text": [
      "8\n"
     ]
    }
   ],
   "source": [
    "a = 'this is a book'\n",
    "b = 'a'\n",
    "print(a.find(b, 0, len(a)))"
   ]
  },
  {
   "cell_type": "code",
   "execution_count": null,
   "metadata": {},
   "outputs": [],
   "source": []
  }
 ],
 "metadata": {
  "kernelspec": {
   "display_name": "Python 3",
   "language": "python",
   "name": "python3"
  },
  "language_info": {
   "codemirror_mode": {
    "name": "ipython",
    "version": 3
   },
   "file_extension": ".py",
   "mimetype": "text/x-python",
   "name": "python",
   "nbconvert_exporter": "python",
   "pygments_lexer": "ipython3",
   "version": "3.7.4"
  }
 },
 "nbformat": 4,
 "nbformat_minor": 2
}
