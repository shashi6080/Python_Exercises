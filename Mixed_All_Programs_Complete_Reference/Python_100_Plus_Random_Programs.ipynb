{
 "cells": [
  {
   "cell_type": "markdown",
   "metadata": {},
   "source": [
    "<b>1. Factorial of a number using recursive function </b>"
   ]
  },
  {
   "cell_type": "code",
   "execution_count": 5,
   "metadata": {},
   "outputs": [
    {
     "name": "stdout",
     "output_type": "stream",
     "text": [
      "Factorial of 5 is : 120 \n",
      "\n",
      "*****************************\n",
      "\n",
      "Factorial of 3 is : 6\n"
     ]
    }
   ],
   "source": [
    "def fact(n):\n",
    "    if (n==1 or n==0):\n",
    "        return 1\n",
    "    else:\n",
    "        return n*fact(n-1)\n",
    "print('Factorial of 5 is : ',end=\"\")\n",
    "print(fact(5),'\\n')\n",
    "print('*****************************\\n')\n",
    "print('Factorial of 3 is : ',end=\"\")\n",
    "print(fact(3))"
   ]
  },
  {
   "cell_type": "markdown",
   "metadata": {},
   "source": [
    "<b>2. Factorial of a number without using recursive function </b>"
   ]
  },
  {
   "cell_type": "code",
   "execution_count": 7,
   "metadata": {},
   "outputs": [
    {
     "name": "stdout",
     "output_type": "stream",
     "text": [
      "Factorial of 5 is : 120 \n",
      "\n",
      "*****************************\n",
      "\n",
      "Factorial of 3 is : 6\n"
     ]
    }
   ],
   "source": [
    "a = 5\n",
    "\n",
    "def factorial(n):\n",
    "    if n<0:\n",
    "        return 0\n",
    "    elif (n==0 or n==1):\n",
    "        return 1\n",
    "    else:\n",
    "        fact = 1\n",
    "        while(n>1):\n",
    "            fact = fact * n\n",
    "            n = n-1\n",
    "        return fact\n",
    "print('Factorial of 5 is : ',end=\"\")\n",
    "print(fact(5),'\\n')\n",
    "print('*****************************\\n')\n",
    "print('Factorial of 3 is : ',end=\"\")\n",
    "print(fact(3))"
   ]
  },
  {
   "cell_type": "markdown",
   "metadata": {},
   "source": [
    "<b>3. Python Program for Program to find area of a circle </b>"
   ]
  },
  {
   "cell_type": "code",
   "execution_count": 12,
   "metadata": {},
   "outputs": [
    {
     "name": "stdout",
     "output_type": "stream",
     "text": [
      "Area of the circle having radius 10 is :\n",
      "314.1592653589793\n"
     ]
    }
   ],
   "source": [
    "import math\n",
    "\n",
    "radius = 10\n",
    "print(\"Area of the circle having radius {} is :\".format(radius))\n",
    "print(math.pi*pow(radius, 2))"
   ]
  },
  {
   "cell_type": "markdown",
   "metadata": {},
   "source": [
    "<b>4a. Python program to print all Prime numbers in an Interval</b>"
   ]
  },
  {
   "cell_type": "code",
   "execution_count": 24,
   "metadata": {},
   "outputs": [
    {
     "name": "stdout",
     "output_type": "stream",
     "text": [
      "11\n",
      "13\n",
      "17\n",
      "19\n",
      "23\n"
     ]
    }
   ],
   "source": [
    "start = 11\n",
    "end = 25\n",
    "  \n",
    "for val in range(start, end + 1): \n",
    "      \n",
    "   # If num is divisible by any number   \n",
    "   # between 2 and val, it is not prime  \n",
    "   if val > 1: \n",
    "       for n in range(2, val): \n",
    "           if (val % n) == 0: \n",
    "               break\n",
    "       else: \n",
    "           print(val) "
   ]
  },
  {
   "cell_type": "markdown",
   "metadata": {},
   "source": [
    "<b>4b. Python program to check if given number is prime</b>"
   ]
  },
  {
   "cell_type": "code",
   "execution_count": 3,
   "metadata": {},
   "outputs": [
    {
     "name": "stdout",
     "output_type": "stream",
     "text": [
      "It is prime number\n"
     ]
    }
   ],
   "source": [
    "num = 13\n",
    "if num > 1:\n",
    "    for i in range(2, num):\n",
    "        if num%i==0:\n",
    "            print(\"It is not prime\")\n",
    "            break\n",
    "    else:\n",
    "        print(\"It is prime number\")"
   ]
  },
  {
   "cell_type": "markdown",
   "metadata": {},
   "source": [
    "<b>5. Python Program for Fibonacci numbers </b>"
   ]
  },
  {
   "cell_type": "code",
   "execution_count": 28,
   "metadata": {},
   "outputs": [
    {
     "name": "stdout",
     "output_type": "stream",
     "text": [
      "21\n"
     ]
    }
   ],
   "source": [
    "def fibonacci(n):\n",
    "    if n<0:\n",
    "        print('Invalid')\n",
    "    elif n==1:\n",
    "        return 0\n",
    "    elif n==2:\n",
    "        return 1\n",
    "    else:\n",
    "        return fibonacci(n-1)+fibonacci(n-2)\n",
    "\n",
    "print(fibonacci(9))"
   ]
  },
  {
   "cell_type": "markdown",
   "metadata": {},
   "source": [
    "<b>6. Program to find python version</b>"
   ]
  },
  {
   "cell_type": "code",
   "execution_count": 29,
   "metadata": {},
   "outputs": [
    {
     "name": "stdout",
     "output_type": "stream",
     "text": [
      "The python version is :3.7.4 (default, Aug  9 2019, 18:34:13) [MSC v.1915 64 bit (AMD64)]\n",
      "Version information is :sys.version_info(major=3, minor=7, micro=4, releaselevel='final', serial=0)\n"
     ]
    }
   ],
   "source": [
    "import sys\n",
    "print('The python version is :',end=\"\")\n",
    "print(sys.version)\n",
    "print('Version information is :',end=\"\")\n",
    "print(sys.version_info)"
   ]
  },
  {
   "cell_type": "markdown",
   "metadata": {},
   "source": [
    "<b>7. Program to find number of files in the current directory </b>"
   ]
  },
  {
   "cell_type": "code",
   "execution_count": 37,
   "metadata": {},
   "outputs": [
    {
     "name": "stdout",
     "output_type": "stream",
     "text": [
      "1\n",
      "['Untitled.ipynb']\n"
     ]
    }
   ],
   "source": [
    "import os, os.path\n",
    "\n",
    "print(len([name for name in os.listdir('.') if os.path.isfile(name)]))\n",
    "print([name for name in os.listdir('.') if os.path.isfile(name)])"
   ]
  },
  {
   "cell_type": "markdown",
   "metadata": {},
   "source": [
    "<b>File Operations in python </b>"
   ]
  },
  {
   "cell_type": "markdown",
   "metadata": {},
   "source": [
    "https://www.geeksforgeeks.org/reading-writing-text-files-python/\n",
    "<br>Python provides inbuilt functions for creating, writing and reading files. There are two types of files that can be handled in python, normal text files and binary files (written in binary language,0s and 1s).\n",
    "\n",
    "Text files: In this type of file, Each line of text is terminated with a special character called EOL (End of Line), which is the new line character (‘\\n’) in python by default.\n",
    "Binary files: In this type of file, there is no terminator for a line and the data is stored after converting it into machine understandable binary language."
   ]
  },
  {
   "cell_type": "markdown",
   "metadata": {},
   "source": [
    "1. Read Only (‘r’) : Open text file for reading. The handle is positioned at the beginning of the file. If the file does not exists, raises I/O error. This is also the default mode in which file is opened.\n",
    "\n",
    "2. Read and Write (‘r+’) : Open the file for reading and writing. The handle is positioned at the beginning of the file. Raises I/O error if the file does not exists.\n",
    "\n",
    "3. Write Only (‘w’) : Open the file for writing. For existing file, the data is truncated and over-written. The handle is positioned at the beginning of the file. Creates the file if the file does not exists.\n",
    "\n",
    "4. Write and Read (‘w+’) : Open the file for reading and writing. For existing file, data is truncated and over-written. The handle is positioned at the beginning of the file.\n",
    "\n",
    "5. Append Only (‘a’) : Open the file for writing. The file is created if it does not exist. The handle is positioned at the end of the file. The data being written will be inserted at the end, after the existing data.\n",
    "\n",
    "6. Append and Read (‘a+’) : Open the file for reading and writing. The file is created if it does not exist. The handle is positioned at the end of the file. The data being written will be inserted at the end, after the existing data."
   ]
  },
  {
   "cell_type": "markdown",
   "metadata": {},
   "source": [
    "<b> 8. Create a file, write few lines, print file and close </b>"
   ]
  },
  {
   "cell_type": "code",
   "execution_count": 55,
   "metadata": {},
   "outputs": [],
   "source": [
    "f = open('sample.txt', 'w+')\n",
    "f.write(\"Hi, how are you.....\\n\")\n",
    "f.write('I am fine....')\n",
    "f.close()"
   ]
  },
  {
   "cell_type": "code",
   "execution_count": 57,
   "metadata": {},
   "outputs": [
    {
     "name": "stdout",
     "output_type": "stream",
     "text": [
      "['Hi, how are you.....\\n', 'I am fine....']\n"
     ]
    }
   ],
   "source": [
    "f = open('sample.txt', 'r')\n",
    "print(f.readlines())\n",
    "f.close()"
   ]
  },
  {
   "cell_type": "code",
   "execution_count": 58,
   "metadata": {},
   "outputs": [
    {
     "name": "stdout",
     "output_type": "stream",
     "text": [
      "Hi, how are you.....\n",
      "\n",
      "I am fine....\n"
     ]
    }
   ],
   "source": [
    "with open('sample.txt', 'r') as f:\n",
    "    for i in f.readlines():\n",
    "        print(i)\n",
    "f.close()"
   ]
  },
  {
   "cell_type": "markdown",
   "metadata": {},
   "source": [
    "<b> 9. Append few lines on already created file, display contents and close file <b>"
   ]
  },
  {
   "cell_type": "code",
   "execution_count": 62,
   "metadata": {},
   "outputs": [],
   "source": [
    "f = open('sample.txt', 'a+')\n",
    "f.write('Thats nice to hear from you....\\nHow the things are going on')\n",
    "f.close()"
   ]
  },
  {
   "cell_type": "code",
   "execution_count": 63,
   "metadata": {},
   "outputs": [
    {
     "name": "stdout",
     "output_type": "stream",
     "text": [
      "Hi, how are you.....\n",
      "\n",
      "I am fine....Thats nice to hear from you....\n",
      "\n",
      " How the things are going onThats nice to hear from you....\n",
      "\n",
      "How the things are going onThats nice to hear from you....\n",
      "\n",
      "How the things are going on\n"
     ]
    }
   ],
   "source": [
    "with open('sample.txt', 'r+') as f:\n",
    "    for i in f.readlines():\n",
    "        print(i)\n",
    "f.close()"
   ]
  },
  {
   "cell_type": "markdown",
   "metadata": {},
   "source": [
    "<b>10. Create a folder and 10 text files with contents. Read all files and contents in one single text file <b>"
   ]
  },
  {
   "cell_type": "code",
   "execution_count": 7,
   "metadata": {},
   "outputs": [],
   "source": [
    "import os\n",
    "foldername = 'temp'\n",
    "path = os.path.join('.', foldername)\n",
    "os.mkdir(path)"
   ]
  },
  {
   "cell_type": "code",
   "execution_count": 8,
   "metadata": {},
   "outputs": [
    {
     "data": {
      "text/plain": [
       "['.ipynb_checkpoints', 'sample.txt', 'temp', 'Untitled.ipynb']"
      ]
     },
     "execution_count": 8,
     "metadata": {},
     "output_type": "execute_result"
    }
   ],
   "source": [
    "# view all files and folders in the current directory\n",
    "os.listdir('.')"
   ]
  },
  {
   "cell_type": "code",
   "execution_count": 13,
   "metadata": {},
   "outputs": [
    {
     "name": "stdout",
     "output_type": "stream",
     "text": [
      "C:\\Users\\shashi\\Machine_Learning\\Python_Practice\\temp\\text_0.txt\n",
      "C:\\Users\\shashi\\Machine_Learning\\Python_Practice\\temp\\text_1.txt\n",
      "C:\\Users\\shashi\\Machine_Learning\\Python_Practice\\temp\\text_2.txt\n",
      "C:\\Users\\shashi\\Machine_Learning\\Python_Practice\\temp\\text_3.txt\n",
      "C:\\Users\\shashi\\Machine_Learning\\Python_Practice\\temp\\text_4.txt\n",
      "C:\\Users\\shashi\\Machine_Learning\\Python_Practice\\temp\\text_5.txt\n",
      "C:\\Users\\shashi\\Machine_Learning\\Python_Practice\\temp\\text_6.txt\n",
      "C:\\Users\\shashi\\Machine_Learning\\Python_Practice\\temp\\text_7.txt\n",
      "C:\\Users\\shashi\\Machine_Learning\\Python_Practice\\temp\\text_8.txt\n",
      "C:\\Users\\shashi\\Machine_Learning\\Python_Practice\\temp\\text_9.txt\n"
     ]
    }
   ],
   "source": [
    "for i in range(10):\n",
    "    x = 'text_'+str(i)+'.txt'\n",
    "    path = os.path.join('C:\\\\Users\\\\shashi\\\\Machine_Learning\\\\Python_Practice\\\\temp', x)\n",
    "    f = open(path, 'a+')\n",
    "    f.close"
   ]
  },
  {
   "cell_type": "code",
   "execution_count": 15,
   "metadata": {},
   "outputs": [],
   "source": [
    "for file in os.listdir('.\\\\temp'):\n",
    "    if '.txt' in file:\n",
    "        f = open('.\\\\temp\\\\'+file, 'w+')\n",
    "        f.write('Hi...How are you..\\nI am file\\nHow about you\\nI am also fine\\nNice to meet you')\n",
    "        f.close"
   ]
  },
  {
   "cell_type": "code",
   "execution_count": 20,
   "metadata": {},
   "outputs": [],
   "source": [
    "f = open('result.txt', 'a+')\n",
    "for file in os.listdir('.\\\\temp'):\n",
    "    if '.txt' in file:\n",
    "        f1 = open('.\\\\temp\\\\'+file,'r+')\n",
    "        f.write(f1.read())\n",
    "        f1.close()\n",
    "f.close()"
   ]
  },
  {
   "cell_type": "markdown",
   "metadata": {},
   "source": [
    "<b>11. Write a method which excepts filename and search for a string. Returns true if that string is present<\\b>"
   ]
  },
  {
   "cell_type": "code",
   "execution_count": 22,
   "metadata": {},
   "outputs": [
    {
     "name": "stdout",
     "output_type": "stream",
     "text": [
      "True\n",
      "False\n"
     ]
    }
   ],
   "source": [
    "def search_string(filename, text):\n",
    "    f = open('.\\\\temp\\\\'+filename, 'r+')\n",
    "    if text in f.read():\n",
    "        return True\n",
    "    else:\n",
    "        return False\n",
    "print(search_string('text_0.txt','methods and instance variables'))\n",
    "print(search_string('text_0.txt','negative scenario'))"
   ]
  },
  {
   "cell_type": "markdown",
   "metadata": {},
   "source": [
    "<b>12. Given a filename add each line in a dictionary with keys as serial numbers<b>"
   ]
  },
  {
   "cell_type": "code",
   "execution_count": 23,
   "metadata": {},
   "outputs": [],
   "source": [
    "def add_to_dict(filename):\n",
    "    text_lines = dict()\n",
    "    with open('.\\\\temp\\\\'+filename, 'r+') as f:\n",
    "        i=1\n",
    "        for x in f.readlines():\n",
    "            text_lines[i] = x\n",
    "            i = i+1\n",
    "    return text_lines"
   ]
  },
  {
   "cell_type": "code",
   "execution_count": 26,
   "metadata": {},
   "outputs": [
    {
     "name": "stdout",
     "output_type": "stream",
     "text": [
      "{1: 'Hi...How are you..\\n', 2: 'I am file\\n', 3: 'How about you\\n', 4: 'I am also fine\\n', 5: 'Nice to meet you\\n', 6: 'Use the function naming rules: lowercase with words separated by underscores as necessary to improve readability.\\n', 7: '\\n', 8: 'Use one leading underscore only for non-public methods and instance variables.\\n', 9: '\\n', 10: \"To avoid name clashes with subclasses, use two leading underscores to invoke Python's name mangling rules.\\n\", 11: '\\n', 12: 'Python mangles these names with the class name: if class Foo has an attribute named __a, it cannot be accessed by Foo.__a. (An insistent user could still gain access by calling Foo._Foo__a.) Generally, double leading underscores should be used only to avoid name conflicts with attributes in classes designed to be subclassed.\\n', 13: '\\n', 14: 'Note: there is some controversy about the use of __names (see below).'}\n"
     ]
    }
   ],
   "source": [
    "lines = add_to_dict('text_0.txt')\n",
    "print(lines)"
   ]
  },
  {
   "cell_type": "markdown",
   "metadata": {},
   "source": [
    "<b> 13. If given filename exists remove it <b>"
   ]
  },
  {
   "cell_type": "code",
   "execution_count": 27,
   "metadata": {},
   "outputs": [],
   "source": [
    "def remove_file(filename):\n",
    "    if os.path.isfile('.\\\\temp\\\\'+filename):\n",
    "        os.remove('.\\\\temp\\\\'+filename)\n",
    "        return True\n",
    "    else:\n",
    "        return False"
   ]
  },
  {
   "cell_type": "code",
   "execution_count": 28,
   "metadata": {},
   "outputs": [
    {
     "name": "stdout",
     "output_type": "stream",
     "text": [
      "True\n",
      "False\n"
     ]
    }
   ],
   "source": [
    "print(remove_file('text_9.txt'))\n",
    "print(remove_file('text_11.txt'))"
   ]
  },
  {
   "cell_type": "code",
   "execution_count": 29,
   "metadata": {},
   "outputs": [
    {
     "name": "stdout",
     "output_type": "stream",
     "text": [
      "False\n"
     ]
    }
   ],
   "source": [
    "print(remove_file('text_9.txt'))"
   ]
  },
  {
   "cell_type": "markdown",
   "metadata": {},
   "source": [
    "<b>14. Given a filename get the size of the file <b>"
   ]
  },
  {
   "cell_type": "code",
   "execution_count": 31,
   "metadata": {},
   "outputs": [],
   "source": [
    "def get_size(filename):\n",
    "    if os.path.isfile('.\\\\temp\\\\'+filename):\n",
    "        return os.path.getsize('.\\\\temp\\\\'+filename)\n",
    "    else:\n",
    "        return None"
   ]
  },
  {
   "cell_type": "code",
   "execution_count": 32,
   "metadata": {},
   "outputs": [
    {
     "name": "stdout",
     "output_type": "stream",
     "text": [
      "788\n"
     ]
    }
   ],
   "source": [
    "print(get_size('text_0.txt'))"
   ]
  },
  {
   "cell_type": "code",
   "execution_count": 33,
   "metadata": {},
   "outputs": [
    {
     "name": "stdout",
     "output_type": "stream",
     "text": [
      "None\n"
     ]
    }
   ],
   "source": [
    "print(get_size('text_20.txt'))"
   ]
  },
  {
   "cell_type": "markdown",
   "metadata": {},
   "source": [
    "<b> 15. Print sum of digits in a string <b>"
   ]
  },
  {
   "cell_type": "code",
   "execution_count": 35,
   "metadata": {},
   "outputs": [
    {
     "name": "stdout",
     "output_type": "stream",
     "text": [
      "13\n"
     ]
    }
   ],
   "source": [
    "sum = 0\n",
    "for i in 'a1b3n4m5':\n",
    "    if i.isdigit():\n",
    "        sum = sum + int(i)\n",
    "print(sum)"
   ]
  },
  {
   "cell_type": "markdown",
   "metadata": {},
   "source": [
    "<b>16. Print current system time<b>"
   ]
  },
  {
   "cell_type": "code",
   "execution_count": 36,
   "metadata": {},
   "outputs": [
    {
     "name": "stdout",
     "output_type": "stream",
     "text": [
      "Sat Apr 11 02:36:41 2020\n"
     ]
    }
   ],
   "source": [
    "import time\n",
    "print(time.ctime())"
   ]
  },
  {
   "cell_type": "markdown",
   "metadata": {},
   "source": [
    "<B>17. Print year, month, date, time<b>"
   ]
  },
  {
   "cell_type": "code",
   "execution_count": 48,
   "metadata": {},
   "outputs": [],
   "source": [
    "info = time.ctime().split(' ')"
   ]
  },
  {
   "cell_type": "code",
   "execution_count": 51,
   "metadata": {},
   "outputs": [
    {
     "name": "stdout",
     "output_type": "stream",
     "text": [
      "Day : Sat\n",
      "Month : Apr\n",
      "Date : 11\n",
      "Time : 02:42:16\n",
      "Year : 2020\n"
     ]
    }
   ],
   "source": [
    "print('Day :', info[0])\n",
    "print('Month :', info[1])\n",
    "print('Date :', info[2])\n",
    "print('Time :', info[3])\n",
    "print('Year :', info[4])"
   ]
  },
  {
   "cell_type": "markdown",
   "metadata": {},
   "source": [
    "<b>18. Given two lists of same size, use one list as keys and other lists as values. Create dictionary<b>"
   ]
  },
  {
   "cell_type": "code",
   "execution_count": 54,
   "metadata": {},
   "outputs": [
    {
     "name": "stdout",
     "output_type": "stream",
     "text": [
      "{1: 'Suresh', 2: 'Ramesh', 3: 'Satish', 4: 'Dinesh', 5: 'Robin'}\n"
     ]
    }
   ],
   "source": [
    "a = [1, 2, 3, 4, 5]\n",
    "b = ['Suresh', 'Ramesh', 'Satish', 'Dinesh', 'Robin']\n",
    "c = dict()\n",
    "for i in range(5):\n",
    "    c[a[i]] = b[i]\n",
    "print(c)"
   ]
  },
  {
   "cell_type": "markdown",
   "metadata": {},
   "source": [
    "<b> 19. Build a 3D matrix using lists. Access random elements.<b>"
   ]
  },
  {
   "cell_type": "code",
   "execution_count": 58,
   "metadata": {},
   "outputs": [
    {
     "name": "stdout",
     "output_type": "stream",
     "text": [
      "10\n",
      "12\n"
     ]
    }
   ],
   "source": [
    "a = [[[1, 2, 3, 4, 5],[6, 7, 8, 9, 10]],[[11, 12, 13, 14, 15],[16, 17, 18, 19, 20]]]\n",
    "print(a[0][1][4])\n",
    "print(a[1][0][1])"
   ]
  },
  {
   "cell_type": "markdown",
   "metadata": {},
   "source": [
    "<b>20. Build a small module using oops concepts. To perform file operations(print, append, delete)<b>"
   ]
  },
  {
   "cell_type": "code",
   "execution_count": 80,
   "metadata": {},
   "outputs": [],
   "source": [
    "import sys\n",
    "class MyClass:\n",
    "    def __init__(self, filename):\n",
    "        self.filename = filename\n",
    "        self.path = os.path.join('.\\\\temp\\\\'+self.filename)\n",
    "    \n",
    "    def create_file(self):\n",
    "        f = open(self.path, 'a+')\n",
    "        f.close()\n",
    "        print('{} file created'.format(self.filename))\n",
    "        \n",
    "    def read_file(self):\n",
    "        if os.path.isfile('.\\\\temp\\\\'+self.filename):\n",
    "            f = open(self.path, 'r+')\n",
    "            print(f.read())\n",
    "            f.close()\n",
    "        else:\n",
    "            print('File not found !!!')\n",
    "    \n",
    "    def append_file(self):\n",
    "        if os.path.isfile('.\\\\temp\\\\'+self.filename):\n",
    "            print('Enter the text you want to append :')\n",
    "            text = input(' > ')\n",
    "            f = open(self.path, 'a+')\n",
    "            f.write(text+'\\n')\n",
    "            f.close()\n",
    "        else:\n",
    "            print('File not found !!!')\n",
    "    \n",
    "    def delete_file(self):\n",
    "        if os.path.isfile('.\\\\temp\\\\'+self.filename):\n",
    "            os.remove('.\\\\temp\\\\'+self.filename)\n",
    "        else:\n",
    "            print('File not found !!!')\n",
    "        \n",
    "    def continue_operation(self):\n",
    "        \"\"\"\n",
    "        checks if user wants to continue with next operation\n",
    "        \"\"\"\n",
    "        print('\\n IF YOU WANT TO CONTINUE NEXT OPERATION ENTER 1 ELSE ENTER 2 :')\n",
    "        next_opr = int(input('> '))\n",
    "        if next_opr == 1:\n",
    "            self.main_operation()\n",
    "        elif next_opr == 2:\n",
    "            print('Exited !!!!!!!!')\n",
    "            sys.exit(0)\n",
    "        else:\n",
    "            print('YOU HAVE ENTERED WRONG CHOICE. ENTER RIGHT CHOICE :')\n",
    "        \n",
    "    \n",
    "    def main_operation(self):\n",
    "        \"\"\"\n",
    "        different file operations\n",
    "        \"\"\"\n",
    "        print(\"Enter 1 : To create a file \")\n",
    "        print(\"Enter 2 : To read contents of the file \")\n",
    "        print('Enter 3 : To append contents of the file ')\n",
    "        print('Enter 4 : To delete file')\n",
    "        print('Enter 5 : To exit the system')\n",
    "        choice = int(input(\"SELECT YOUR OPTION : \"))\n",
    "        if choice in (1, 2, 3, 4, 5):\n",
    "            if choice == 1:\n",
    "                self.create_file()\n",
    "            elif choice == 2:\n",
    "                self.read_file()\n",
    "            elif choice == 3:\n",
    "                self.append_file()\n",
    "            elif choice == 4 :\n",
    "                self.delete_file()\n",
    "            elif choice == 5:\n",
    "                sys.exit(0)\n",
    "            else:\n",
    "                print('Terminated for wrong choice !!')\n",
    "                sys.exit(0)\n",
    "        self.continue_operation()"
   ]
  },
  {
   "cell_type": "code",
   "execution_count": 81,
   "metadata": {},
   "outputs": [
    {
     "name": "stdout",
     "output_type": "stream",
     "text": [
      "Enter 1 : To create a file \n",
      "Enter 2 : To read contents of the file \n",
      "Enter 3 : To append contents of the file \n",
      "Enter 4 : To delete file\n",
      "Enter 5 : To exit the system\n",
      "SELECT YOUR OPTION : 1\n",
      "shashi.txt file created\n",
      "\n",
      " IF YOU WANT TO CONTINUE NEXT OPERATION ENTER 1 ELSE ENTER 2 :\n",
      "> 1\n",
      "Enter 1 : To create a file \n",
      "Enter 2 : To read contents of the file \n",
      "Enter 3 : To append contents of the file \n",
      "Enter 4 : To delete file\n",
      "Enter 5 : To exit the system\n",
      "SELECT YOUR OPTION : 2\n",
      "\n",
      "\n",
      " IF YOU WANT TO CONTINUE NEXT OPERATION ENTER 1 ELSE ENTER 2 :\n",
      "> 1\n",
      "Enter 1 : To create a file \n",
      "Enter 2 : To read contents of the file \n",
      "Enter 3 : To append contents of the file \n",
      "Enter 4 : To delete file\n",
      "Enter 5 : To exit the system\n",
      "SELECT YOUR OPTION : 3\n",
      "Enter the text you want to append :\n",
      " > Hi. how are you....\n",
      "\n",
      " IF YOU WANT TO CONTINUE NEXT OPERATION ENTER 1 ELSE ENTER 2 :\n",
      "> 1\n",
      "Enter 1 : To create a file \n",
      "Enter 2 : To read contents of the file \n",
      "Enter 3 : To append contents of the file \n",
      "Enter 4 : To delete file\n",
      "Enter 5 : To exit the system\n",
      "SELECT YOUR OPTION : 2\n",
      "Hi. how are you....\n",
      "\n",
      "\n",
      " IF YOU WANT TO CONTINUE NEXT OPERATION ENTER 1 ELSE ENTER 2 :\n",
      "> 1\n",
      "Enter 1 : To create a file \n",
      "Enter 2 : To read contents of the file \n",
      "Enter 3 : To append contents of the file \n",
      "Enter 4 : To delete file\n",
      "Enter 5 : To exit the system\n",
      "SELECT YOUR OPTION : 3\n",
      "Enter the text you want to append :\n",
      " > I am fine\n",
      "\n",
      " IF YOU WANT TO CONTINUE NEXT OPERATION ENTER 1 ELSE ENTER 2 :\n",
      "> 1\n",
      "Enter 1 : To create a file \n",
      "Enter 2 : To read contents of the file \n",
      "Enter 3 : To append contents of the file \n",
      "Enter 4 : To delete file\n",
      "Enter 5 : To exit the system\n",
      "SELECT YOUR OPTION : 2\n",
      "Hi. how are you....\n",
      "I am fine\n",
      "\n",
      "\n",
      " IF YOU WANT TO CONTINUE NEXT OPERATION ENTER 1 ELSE ENTER 2 :\n",
      "> 1\n",
      "Enter 1 : To create a file \n",
      "Enter 2 : To read contents of the file \n",
      "Enter 3 : To append contents of the file \n",
      "Enter 4 : To delete file\n",
      "Enter 5 : To exit the system\n",
      "SELECT YOUR OPTION : 4\n",
      "\n",
      " IF YOU WANT TO CONTINUE NEXT OPERATION ENTER 1 ELSE ENTER 2 :\n",
      "> 1\n",
      "Enter 1 : To create a file \n",
      "Enter 2 : To read contents of the file \n",
      "Enter 3 : To append contents of the file \n",
      "Enter 4 : To delete file\n",
      "Enter 5 : To exit the system\n",
      "SELECT YOUR OPTION : 5\n"
     ]
    },
    {
     "ename": "SystemExit",
     "evalue": "0",
     "output_type": "error",
     "traceback": [
      "An exception has occurred, use %tb to see the full traceback.\n",
      "\u001b[1;31mSystemExit\u001b[0m\u001b[1;31m:\u001b[0m 0\n"
     ]
    }
   ],
   "source": [
    "p = MyClass('shashi.txt')\n",
    "p.main_operation()"
   ]
  },
  {
   "cell_type": "markdown",
   "metadata": {},
   "source": [
    "<b>21. Write a Python program to extract the filename from a given path.<b>"
   ]
  },
  {
   "cell_type": "code",
   "execution_count": 82,
   "metadata": {},
   "outputs": [
    {
     "name": "stdout",
     "output_type": "stream",
     "text": [
      "text_0.txt\n"
     ]
    }
   ],
   "source": [
    "print(os.path.basename('C:\\\\Users\\\\shashi\\\\Machine_Learning\\\\Python_Practice\\\\temp\\\\text_0.txt'))"
   ]
  },
  {
   "cell_type": "markdown",
   "metadata": {},
   "source": [
    "<b>22. Write a Python program to get the users environment<b>"
   ]
  },
  {
   "cell_type": "code",
   "execution_count": 84,
   "metadata": {},
   "outputs": [
    {
     "name": "stdout",
     "output_type": "stream",
     "text": [
      "environ({'ALLUSERSPROFILE': 'C:\\\\ProgramData', 'APPDATA': 'C:\\\\Users\\\\shashi\\\\AppData\\\\Roaming', 'COMMONPROGRAMFILES': 'C:\\\\Program Files\\\\Common Files', 'COMMONPROGRAMFILES(X86)': 'C:\\\\Program Files (x86)\\\\Common Files', 'COMMONPROGRAMW6432': 'C:\\\\Program Files\\\\Common Files', 'COMPUTERNAME': 'DESKTOP-27NKNVF', 'COMSPEC': 'C:\\\\Windows\\\\system32\\\\cmd.exe', 'CONDA_DEFAULT_ENV': 'base', 'CONDA_EXE': 'C:\\\\Users\\\\shashi\\\\Anaconda3\\\\Scripts\\\\conda.exe', 'CONDA_PREFIX': 'C:\\\\Users\\\\shashi\\\\Anaconda3', 'CONDA_PROMPT_MODIFIER': '(base) ', 'CONDA_PYTHON_EXE': 'C:\\\\Users\\\\shashi\\\\Anaconda3\\\\python.exe', 'CONDA_SHLVL': '1', 'DRIVERDATA': 'C:\\\\Windows\\\\System32\\\\Drivers\\\\DriverData', 'FPS_BROWSER_APP_PROFILE_STRING': 'Internet Explorer', 'FPS_BROWSER_USER_PROFILE_STRING': 'Default', 'HOMEDRIVE': 'C:', 'HOMEPATH': '\\\\Users\\\\shashi', 'LOCALAPPDATA': 'C:\\\\Users\\\\shashi\\\\AppData\\\\Local', 'LOGONSERVER': '\\\\\\\\DESKTOP-27NKNVF', 'NUMBER_OF_PROCESSORS': '12', 'ONEDRIVE': 'C:\\\\Users\\\\shashi\\\\OneDrive', 'ONEDRIVECONSUMER': 'C:\\\\Users\\\\shashi\\\\OneDrive', 'OS': 'Windows_NT', 'PATH': 'C:\\\\Users\\\\shashi\\\\Anaconda3;C:\\\\Users\\\\shashi\\\\Anaconda3\\\\Library\\\\mingw-w64\\\\bin;C:\\\\Users\\\\shashi\\\\Anaconda3\\\\Library\\\\usr\\\\bin;C:\\\\Users\\\\shashi\\\\Anaconda3\\\\Library\\\\bin;C:\\\\Users\\\\shashi\\\\Anaconda3\\\\Scripts;C:\\\\Users\\\\shashi\\\\Anaconda3\\\\bin;C:\\\\Users\\\\shashi\\\\Anaconda3\\\\condabin;C:\\\\ProgramData\\\\DockerDesktop\\\\version-bin;C:\\\\Program Files\\\\Docker\\\\Docker\\\\Resources\\\\bin;C:\\\\Program Files (x86)\\\\Common Files\\\\Oracle\\\\Java\\\\javapath;C:\\\\Windows\\\\system32;C:\\\\Windows;C:\\\\Windows\\\\System32\\\\Wbem;C:\\\\Windows\\\\System32\\\\WindowsPowerShell\\\\v1.0;C:\\\\Windows\\\\System32\\\\OpenSSH;C:\\\\Program Files\\\\Java\\\\jdk1.8.0_211\\\\bin;C:\\\\Program Files\\\\Java\\\\jre1.8.0_211\\\\bin;C:\\\\Program Files\\\\Git\\\\cmd;C:\\\\Program Files\\\\Microsoft SQL Server\\\\Client SDK\\\\ODBC\\\\110\\\\Tools\\\\Binn;C:\\\\Program Files (x86)\\\\Microsoft SQL Server\\\\120\\\\Tools\\\\Binn;C:\\\\Program Files\\\\Microsoft SQL Server\\\\120\\\\Tools\\\\Binn;C:\\\\Program Files\\\\Microsoft SQL Server\\\\120\\\\DTS\\\\Binn;C:\\\\Program Files (x86)\\\\Microsoft SQL Server\\\\120\\\\Tools\\\\Binn\\\\ManagementStudio;C:\\\\Program Files (x86)\\\\Microsoft SQL Server\\\\120\\\\DTS\\\\Binn;C:\\\\Users\\\\shashi\\\\Anaconda3\\\\Scripts;C:\\\\Users\\\\shashi\\\\Anaconda3;C:\\\\Program Files\\\\MySQL\\\\MySQL Shell 8.0\\\\bin;C:\\\\Users\\\\shashi\\\\AppData\\\\Local\\\\Microsoft\\\\WindowsApps;C:\\\\Users\\\\shashi\\\\AppData\\\\Local\\\\Programs\\\\MiKTeX 2.9\\\\miktex\\\\bin\\\\x64;C:\\\\Users\\\\shashi\\\\AppData\\\\Local\\\\Programs\\\\latex\\\\MiKTeX 2.9\\\\miktex\\\\bin\\\\x64;.', 'PATHEXT': '.COM;.EXE;.BAT;.CMD;.VBS;.VBE;.JS;.JSE;.WSF;.WSH;.MSC', 'PROCESSOR_ARCHITECTURE': 'AMD64', 'PROCESSOR_IDENTIFIER': 'Intel64 Family 6 Model 158 Stepping 10, GenuineIntel', 'PROCESSOR_LEVEL': '6', 'PROCESSOR_REVISION': '9e0a', 'PROGRAMDATA': 'C:\\\\ProgramData', 'PROGRAMFILES': 'C:\\\\Program Files', 'PROGRAMFILES(X86)': 'C:\\\\Program Files (x86)', 'PROGRAMW6432': 'C:\\\\Program Files', 'PROMPT': '(base) $P$G', 'PSMODULEPATH': 'C:\\\\Program Files\\\\WindowsPowerShell\\\\Modules;C:\\\\Windows\\\\system32\\\\WindowsPowerShell\\\\v1.0\\\\Modules;C:\\\\Program Files (x86)\\\\Microsoft SQL Server\\\\120\\\\Tools\\\\PowerShell\\\\Modules\\\\', 'PUBLIC': 'C:\\\\Users\\\\Public', 'SESSIONNAME': 'Console', 'SYSTEMDRIVE': 'C:', 'SYSTEMROOT': 'C:\\\\Windows', 'TEMP': 'C:\\\\Users\\\\shashi\\\\AppData\\\\Local\\\\Temp', 'TMP': 'C:\\\\Users\\\\shashi\\\\AppData\\\\Local\\\\Temp', 'USERDOMAIN': 'DESKTOP-27NKNVF', 'USERDOMAIN_ROAMINGPROFILE': 'DESKTOP-27NKNVF', 'USERNAME': 'shashi', 'USERPROFILE': 'C:\\\\Users\\\\shashi', 'WINDIR': 'C:\\\\Windows', 'KERNEL_LAUNCH_TIMEOUT': '40', 'JPY_INTERRUPT_EVENT': '2556', 'IPY_INTERRUPT_EVENT': '2556', 'JPY_PARENT_PID': '2564', 'TERM': 'xterm-color', 'CLICOLOR': '1', 'PAGER': 'cat', 'GIT_PAGER': 'cat', 'MPLBACKEND': 'module://ipykernel.pylab.backend_inline'})\n"
     ]
    }
   ],
   "source": [
    "print(os.environ)"
   ]
  },
  {
   "cell_type": "markdown",
   "metadata": {},
   "source": [
    "<b>23. Write a Python program to remove the first item from a specified list. <b>"
   ]
  },
  {
   "cell_type": "code",
   "execution_count": 85,
   "metadata": {},
   "outputs": [],
   "source": [
    "a = [1, 2, 3, 4, 5]\n",
    "del a[0]"
   ]
  },
  {
   "cell_type": "code",
   "execution_count": 86,
   "metadata": {},
   "outputs": [
    {
     "data": {
      "text/plain": [
       "[2, 3, 4, 5]"
      ]
     },
     "execution_count": 86,
     "metadata": {},
     "output_type": "execute_result"
    }
   ],
   "source": [
    "a"
   ]
  },
  {
   "cell_type": "markdown",
   "metadata": {},
   "source": [
    "<b> 24. Provided two lists append contents of one list to other"
   ]
  },
  {
   "cell_type": "code",
   "execution_count": 87,
   "metadata": {},
   "outputs": [
    {
     "data": {
      "text/plain": [
       "[1, 2, 3, 4, 5, 6, 7, 8, 9, 10]"
      ]
     },
     "execution_count": 87,
     "metadata": {},
     "output_type": "execute_result"
    }
   ],
   "source": [
    "# if a = [1, 2], b = [3, 4], then c = [1, 2, 3, 4]\n",
    "a = [1, 2, 3, 4, 5]\n",
    "b = [6, 7, 8, 9, 10]\n",
    "for i in b:\n",
    "    a.append(i)\n",
    "a"
   ]
  },
  {
   "cell_type": "markdown",
   "metadata": {},
   "source": [
    "<b> 25. Given a list extract elements into another list, which are even numbers and divisible by 5"
   ]
  },
  {
   "cell_type": "code",
   "execution_count": 92,
   "metadata": {},
   "outputs": [
    {
     "data": {
      "text/plain": [
       "[10, 20, 30, 50, 60, 100]"
      ]
     },
     "execution_count": 92,
     "metadata": {},
     "output_type": "execute_result"
    }
   ],
   "source": [
    "a = [1, 10, 15, 20, 12, 25, 30, 26, 50, 60, 95, 100]\n",
    "b = [i for i in a if i%2==0 and i%5==0]\n",
    "b"
   ]
  },
  {
   "cell_type": "markdown",
   "metadata": {},
   "source": [
    "<b> 26. Given a list extract elements into another list, which are even numbers \n",
    "and divisible by 5. Using lambda function"
   ]
  },
  {
   "cell_type": "code",
   "execution_count": 94,
   "metadata": {},
   "outputs": [
    {
     "data": {
      "text/plain": [
       "[10, 20, 30, 50, 60, 100]"
      ]
     },
     "execution_count": 94,
     "metadata": {},
     "output_type": "execute_result"
    }
   ],
   "source": [
    "a = [1, 10, 15, 20, 12, 25, 30, 26, 50, 60, 95, 100]\n",
    "\n",
    "b = list(filter(lambda x: (x%2==0 and x%5==0), a))\n",
    "b"
   ]
  },
  {
   "cell_type": "markdown",
   "metadata": {},
   "source": [
    "<b> 27. Given a list extract elements into another list, which are even numbers \n",
    "and divisible by 5. Using lambda with defined function."
   ]
  },
  {
   "cell_type": "code",
   "execution_count": 95,
   "metadata": {},
   "outputs": [
    {
     "data": {
      "text/plain": [
       "[10, 20, 30, 50, 60, 100]"
      ]
     },
     "execution_count": 95,
     "metadata": {},
     "output_type": "execute_result"
    }
   ],
   "source": [
    "def my_method(num):\n",
    "    if (num % 2 == 0 and num % 5 == 0):\n",
    "        return True\n",
    "    else:\n",
    "        return False\n",
    "\n",
    "a = [1, 10, 15, 20, 12, 25, 30, 26, 50, 60, 95, 100]\n",
    "\n",
    "b = list(filter(lambda x: my_method(x), a))\n",
    "b"
   ]
  },
  {
   "cell_type": "markdown",
   "metadata": {},
   "source": [
    "<b> 28. Accept list from the user as input and display it"
   ]
  },
  {
   "cell_type": "code",
   "execution_count": 96,
   "metadata": {},
   "outputs": [
    {
     "name": "stdout",
     "output_type": "stream",
     "text": [
      "Enter a list :[1, 2, 3, 4, 5]\n",
      "[1, 2, 3, 4, 5]\n"
     ]
    }
   ],
   "source": [
    "a = eval(input('Enter a list :'))\n",
    "print(a)"
   ]
  },
  {
   "cell_type": "markdown",
   "metadata": {},
   "source": [
    "<b> 29. Accept tuple from the user as input and display it"
   ]
  },
  {
   "cell_type": "code",
   "execution_count": 97,
   "metadata": {},
   "outputs": [
    {
     "name": "stdout",
     "output_type": "stream",
     "text": [
      "Enter a tuple :('abc', 1, 'xyz', 12.20)\n",
      "('abc', 1, 'xyz', 12.2)\n"
     ]
    }
   ],
   "source": [
    "a = eval(input('Enter a tuple :'))\n",
    "print(a)"
   ]
  },
  {
   "cell_type": "markdown",
   "metadata": {},
   "source": [
    "<b> 30. Accept dictionary from the user as input and display it"
   ]
  },
  {
   "cell_type": "code",
   "execution_count": 98,
   "metadata": {},
   "outputs": [
    {
     "name": "stdout",
     "output_type": "stream",
     "text": [
      "Enter a dictionary :{1:'abc', 2:'def', 3:'ghi', 4:'jkl'}\n"
     ]
    },
    {
     "data": {
      "text/plain": [
       "{1: 'abc', 2: 'def', 3: 'ghi', 4: 'jkl'}"
      ]
     },
     "execution_count": 98,
     "metadata": {},
     "output_type": "execute_result"
    }
   ],
   "source": [
    "a = eval(input('Enter a dictionary :'))\n",
    "a"
   ]
  },
  {
   "cell_type": "markdown",
   "metadata": {},
   "source": [
    "<b> 31. Display numbers from 1 to 10 using while loop"
   ]
  },
  {
   "cell_type": "code",
   "execution_count": 99,
   "metadata": {},
   "outputs": [
    {
     "name": "stdout",
     "output_type": "stream",
     "text": [
      "1\n",
      "2\n",
      "3\n",
      "4\n",
      "5\n",
      "6\n",
      "7\n",
      "8\n",
      "9\n",
      "10\n",
      "End\n"
     ]
    }
   ],
   "source": [
    "x = 1\n",
    "while(x<=10):\n",
    "    print(x)\n",
    "    x+=1\n",
    "print(\"End\")"
   ]
  },
  {
   "cell_type": "markdown",
   "metadata": {},
   "source": [
    "<b> 32. Print even numbers between m and n using while loop"
   ]
  },
  {
   "cell_type": "code",
   "execution_count": 101,
   "metadata": {},
   "outputs": [
    {
     "name": "stdout",
     "output_type": "stream",
     "text": [
      "10\n",
      "11\n",
      "12\n",
      "13\n",
      "14\n",
      "15\n",
      "16\n",
      "17\n",
      "18\n",
      "19\n",
      "20\n",
      "21\n",
      "22\n",
      "23\n",
      "24\n",
      "25\n",
      "26\n",
      "27\n",
      "28\n",
      "29\n",
      "30\n"
     ]
    }
   ],
   "source": [
    "m = 10\n",
    "n = 30\n",
    "\n",
    "x=m\n",
    "while x<=n:\n",
    "    print(x)\n",
    "    x+=1"
   ]
  },
  {
   "cell_type": "markdown",
   "metadata": {},
   "source": [
    "<b> 33. Print stars as right angled triangle"
   ]
  },
  {
   "cell_type": "code",
   "execution_count": 103,
   "metadata": {},
   "outputs": [
    {
     "name": "stdout",
     "output_type": "stream",
     "text": [
      "* \n",
      "* * \n",
      "* * * \n",
      "* * * * \n",
      "* * * * * \n"
     ]
    }
   ],
   "source": [
    "rows = 5\n",
    "for i in range(5):\n",
    "    for j in range(i+1):\n",
    "        print('*', end=' ')\n",
    "    print(\"\")"
   ]
  },
  {
   "cell_type": "markdown",
   "metadata": {},
   "source": [
    "<b> 34. Print stars as left angled triangle"
   ]
  },
  {
   "cell_type": "code",
   "execution_count": 109,
   "metadata": {},
   "outputs": [
    {
     "name": "stdout",
     "output_type": "stream",
     "text": [
      "        * \n",
      "      * * \n",
      "    * * * \n",
      "  * * * * \n",
      "* * * * * \n"
     ]
    }
   ],
   "source": [
    "rows = 5\n",
    "for i in range(1, rows + 1):\n",
    "    for j in range(1, rows + 1):\n",
    "        if(j <= rows - i):\n",
    "            print(' ', end = ' ')\n",
    "        else:\n",
    "            print('*', end = ' ')\n",
    "    print()"
   ]
  },
  {
   "cell_type": "markdown",
   "metadata": {},
   "source": [
    "<b> 35. Given a string remove all vowels from it"
   ]
  },
  {
   "cell_type": "code",
   "execution_count": 112,
   "metadata": {},
   "outputs": [
    {
     "name": "stdout",
     "output_type": "stream",
     "text": [
      "bnglr\n"
     ]
    }
   ],
   "source": [
    "a = 'bangalore'\n",
    "b = []\n",
    "for i in a:\n",
    "    if i not in ('a', 'e', 'i', 'o', 'u'):\n",
    "        b.append(i)\n",
    "print(\"\".join(b))"
   ]
  },
  {
   "cell_type": "markdown",
   "metadata": {},
   "source": [
    "<b> 36. Print stars as equilateral triangle"
   ]
  },
  {
   "cell_type": "code",
   "execution_count": 120,
   "metadata": {},
   "outputs": [
    {
     "name": "stdout",
     "output_type": "stream",
     "text": [
      "     * \n",
      "    * * \n",
      "   * * * \n",
      "  * * * * \n",
      " * * * * * \n"
     ]
    }
   ],
   "source": [
    "rows = 5\n",
    "for i in range(1, 6):\n",
    "    print(' '*rows, end='')\n",
    "    print('* '*(i))\n",
    "    rows-=1"
   ]
  },
  {
   "cell_type": "markdown",
   "metadata": {},
   "source": [
    "<b> 37. Print substring of a string which has last 5 characters"
   ]
  },
  {
   "cell_type": "code",
   "execution_count": 117,
   "metadata": {},
   "outputs": [
    {
     "name": "stdout",
     "output_type": "stream",
     "text": [
      "ation\n"
     ]
    }
   ],
   "source": [
    "a = 'organization'\n",
    "print(a[-5:])"
   ]
  },
  {
   "cell_type": "markdown",
   "metadata": {},
   "source": [
    "<b> 38. Write a python program to handle assertions error"
   ]
  },
  {
   "cell_type": "code",
   "execution_count": 2,
   "metadata": {},
   "outputs": [
    {
     "name": "stdout",
     "output_type": "stream",
     "text": [
      "Enter a number greater then 1 : 1\n",
      "Wrong input entered\n"
     ]
    }
   ],
   "source": [
    "x = int(input('Enter a number greater then 1 : '))\n",
    "try:\n",
    "    assert(x>1)\n",
    "    print('You entered: ',x)\n",
    "except AssertionError:\n",
    "    print('Wrong input entered')"
   ]
  },
  {
   "cell_type": "markdown",
   "metadata": {},
   "source": [
    "<b>39. Find first occurance of a substring from the main string"
   ]
  },
  {
   "cell_type": "code",
   "execution_count": 5,
   "metadata": {},
   "outputs": [
    {
     "name": "stdout",
     "output_type": "stream",
     "text": [
      "8\n"
     ]
    }
   ],
   "source": [
    "a = 'this is a book'\n",
    "b = 'a'\n",
    "print(a.find(b, 0, len(a)))"
   ]
  },
  {
   "cell_type": "markdown",
   "metadata": {},
   "source": [
    "<b>40. To display all positions of a substring in a given main string"
   ]
  },
  {
   "cell_type": "code",
   "execution_count": 1,
   "metadata": {},
   "outputs": [
    {
     "name": "stdout",
     "output_type": "stream",
     "text": [
      "Found at position : 3\n",
      "Found at position : 6\n"
     ]
    }
   ],
   "source": [
    "a = 'This is a book'\n",
    "b = 'is'\n",
    "\n",
    "i = 0\n",
    "flag = False\n",
    "n = len(a)\n",
    "while(i<n):\n",
    "    pos = a.find(b, i, n)\n",
    "    if pos != -1:\n",
    "        print('Found at position :', pos+1)\n",
    "        i = pos+1\n",
    "        flag=True\n",
    "    else:\n",
    "        i=i+1\n",
    "if flag == False:\n",
    "    print('Sub string not found !!!')"
   ]
  },
  {
   "cell_type": "markdown",
   "metadata": {},
   "source": [
    "<b>41. In a given string replace a substring with other substring"
   ]
  },
  {
   "cell_type": "code",
   "execution_count": 2,
   "metadata": {},
   "outputs": [
    {
     "name": "stdout",
     "output_type": "stream",
     "text": [
      "this is a pen\n"
     ]
    }
   ],
   "source": [
    "a = 'this is a book'\n",
    "b = 'book'\n",
    "c = 'pen'\n",
    "\n",
    "d = a.replace(b, c)\n",
    "print(d)"
   ]
  },
  {
   "cell_type": "markdown",
   "metadata": {},
   "source": [
    "<b>42. Given a string sort all substrings"
   ]
  },
  {
   "cell_type": "code",
   "execution_count": 3,
   "metadata": {},
   "outputs": [
    {
     "data": {
      "text/plain": [
       "['this', 'is', 'a', 'book']"
      ]
     },
     "execution_count": 3,
     "metadata": {},
     "output_type": "execute_result"
    }
   ],
   "source": [
    "a = 'this is a book'\n",
    "b = a.split(' ')\n",
    "b"
   ]
  },
  {
   "cell_type": "code",
   "execution_count": 4,
   "metadata": {},
   "outputs": [
    {
     "data": {
      "text/plain": [
       "['a', 'book', 'is', 'this']"
      ]
     },
     "execution_count": 4,
     "metadata": {},
     "output_type": "execute_result"
    }
   ],
   "source": [
    "c = sorted(b)\n",
    "c"
   ]
  },
  {
   "cell_type": "markdown",
   "metadata": {},
   "source": [
    "<b>44. Calculate square of a number using lambda function"
   ]
  },
  {
   "cell_type": "code",
   "execution_count": 8,
   "metadata": {},
   "outputs": [
    {
     "name": "stdout",
     "output_type": "stream",
     "text": [
      "25\n",
      "4\n"
     ]
    }
   ],
   "source": [
    "#lambda argument_list : expression\n",
    "f = lambda x : x*x\n",
    "print(f(5))\n",
    "print(f(2))"
   ]
  },
  {
   "cell_type": "markdown",
   "metadata": {},
   "source": [
    "<b>45. Calculate sum of 2 numbers using lambda function"
   ]
  },
  {
   "cell_type": "code",
   "execution_count": 10,
   "metadata": {},
   "outputs": [
    {
     "name": "stdout",
     "output_type": "stream",
     "text": [
      "15\n"
     ]
    }
   ],
   "source": [
    "f = lambda x,y : x+y\n",
    "print(f(5, 10))"
   ]
  },
  {
   "cell_type": "markdown",
   "metadata": {},
   "source": [
    "<b>46. Using lambda function find bigger number in a given two numbers"
   ]
  },
  {
   "cell_type": "code",
   "execution_count": 11,
   "metadata": {},
   "outputs": [
    {
     "name": "stdout",
     "output_type": "stream",
     "text": [
      "4\n"
     ]
    }
   ],
   "source": [
    "f = lambda x,y : x if x>y else y\n",
    "print(f(2, 4))"
   ]
  },
  {
   "cell_type": "markdown",
   "metadata": {},
   "source": [
    "lambda argument_list : expression\n",
    "<br>filter(function, sequence)"
   ]
  },
  {
   "cell_type": "markdown",
   "metadata": {},
   "source": [
    "<b> 47. Filter even numbers from the list using Filter function"
   ]
  },
  {
   "cell_type": "code",
   "execution_count": 13,
   "metadata": {},
   "outputs": [
    {
     "data": {
      "text/plain": [
       "[4, 6, 2, 8, 4, 10, 12]"
      ]
     },
     "execution_count": 13,
     "metadata": {},
     "output_type": "execute_result"
    }
   ],
   "source": [
    "a = [1, 4, 6, 2, 3, 8, 4, 5, 9, 10, 11, 12]\n",
    "b = list(filter(lambda x: x%2==0, a))\n",
    "b"
   ]
  },
  {
   "cell_type": "code",
   "execution_count": 14,
   "metadata": {},
   "outputs": [
    {
     "data": {
      "text/plain": [
       "[4, 6, 2, 8, 4, 10, 12]"
      ]
     },
     "execution_count": 14,
     "metadata": {},
     "output_type": "execute_result"
    }
   ],
   "source": [
    "#alternate way\n",
    "a = [1, 4, 6, 2, 3, 8, 4, 5, 9, 10, 11, 12]\n",
    "b = [x for x in a if x%2==0]\n",
    "b"
   ]
  },
  {
   "cell_type": "markdown",
   "metadata": {},
   "source": [
    "<b>48. Print the squares of the numbers using MAP function"
   ]
  },
  {
   "cell_type": "code",
   "execution_count": 15,
   "metadata": {},
   "outputs": [
    {
     "data": {
      "text/plain": [
       "[4, 9, 16, 25, 36, 49, 64, 81, 100]"
      ]
     },
     "execution_count": 15,
     "metadata": {},
     "output_type": "execute_result"
    }
   ],
   "source": [
    "a = [2, 3, 4, 5, 6, 7, 8, 9, 10]\n",
    "b = list(map(lambda x: x**2, a))\n",
    "b"
   ]
  },
  {
   "cell_type": "code",
   "execution_count": 18,
   "metadata": {},
   "outputs": [],
   "source": [
    "from functools import reduce"
   ]
  },
  {
   "cell_type": "markdown",
   "metadata": {},
   "source": [
    "<b>49. Return product of all elements of a tuple using REDUCE function"
   ]
  },
  {
   "cell_type": "code",
   "execution_count": 20,
   "metadata": {},
   "outputs": [
    {
     "data": {
      "text/plain": [
       "24"
      ]
     },
     "execution_count": 20,
     "metadata": {},
     "output_type": "execute_result"
    }
   ],
   "source": [
    "a = (1, 2, 3, 4)\n",
    "b = reduce(lambda x,y: x*y, a)\n",
    "b"
   ]
  },
  {
   "cell_type": "markdown",
   "metadata": {},
   "source": [
    "<b> 50. Create a function that takes one argument, and that argument will be multiplied with an unknown given number."
   ]
  },
  {
   "cell_type": "code",
   "execution_count": 21,
   "metadata": {},
   "outputs": [
    {
     "name": "stdout",
     "output_type": "stream",
     "text": [
      "Double of the given number is : 30\n"
     ]
    }
   ],
   "source": [
    "def func_compute(n):\n",
    "    return lambda x: x*n\n",
    "\n",
    "result = func_compute(2)\n",
    "print('Double of the given number is :', result(15))"
   ]
  },
  {
   "cell_type": "markdown",
   "metadata": {},
   "source": [
    "<b>51. Write a Python program to sort a list of tuples using Lambda."
   ]
  },
  {
   "cell_type": "code",
   "execution_count": 33,
   "metadata": {},
   "outputs": [
    {
     "data": {
      "text/plain": [
       "[('Social sciences', 82), ('English', 88), ('Science', 90), ('Maths', 97)]"
      ]
     },
     "execution_count": 33,
     "metadata": {},
     "output_type": "execute_result"
    }
   ],
   "source": [
    "marks = [('English', 88), ('Science', 90), ('Maths', 97), ('Social sciences', 82)]\n",
    "marks.sort(key = lambda x: x[1])\n",
    "marks"
   ]
  },
  {
   "cell_type": "markdown",
   "metadata": {},
   "source": [
    "<b>52. From a dictionary print all keys, values and also paired items"
   ]
  },
  {
   "cell_type": "code",
   "execution_count": 42,
   "metadata": {},
   "outputs": [
    {
     "name": "stdout",
     "output_type": "stream",
     "text": [
      "All keys : dict_keys([2, 1, 5, 3, 4])\n",
      "\n",
      "All values : dict_values(['rohan', 'jalan', 'tinku', 'sonu', 'ponnu'])\n",
      "\n",
      "All items : dict_items([(2, 'rohan'), (1, 'jalan'), (5, 'tinku'), (3, 'sonu'), (4, 'ponnu')])\n"
     ]
    }
   ],
   "source": [
    "a = {2:'rohan', 1:'jalan', 5:'tinku', 3:'sonu', 4:'ponnu'}\n",
    "print('All keys :', a.keys())\n",
    "print('\\nAll values :', a.values())\n",
    "print('\\nAll items :', a.items())"
   ]
  },
  {
   "cell_type": "markdown",
   "metadata": {},
   "source": [
    "<b>53. Remove an item from the dict and print its value"
   ]
  },
  {
   "cell_type": "code",
   "execution_count": 44,
   "metadata": {},
   "outputs": [
    {
     "name": "stdout",
     "output_type": "stream",
     "text": [
      "tinku\n"
     ]
    },
    {
     "data": {
      "text/plain": [
       "{2: 'rohan', 1: 'jalan', 3: 'sonu', 4: 'ponnu'}"
      ]
     },
     "execution_count": 44,
     "metadata": {},
     "output_type": "execute_result"
    }
   ],
   "source": [
    "a = {2:'rohan', 1:'jalan', 5:'tinku', 3:'sonu', 4:'ponnu'}\n",
    "print(a.pop(5))\n",
    "a"
   ]
  },
  {
   "cell_type": "markdown",
   "metadata": {},
   "source": [
    "<b>54. Remove the last item from the dict"
   ]
  },
  {
   "cell_type": "code",
   "execution_count": 45,
   "metadata": {},
   "outputs": [
    {
     "name": "stdout",
     "output_type": "stream",
     "text": [
      "(4, 'ponnu')\n"
     ]
    }
   ],
   "source": [
    "a = {2:'rohan', 1:'jalan', 5:'tinku', 3:'sonu', 4:'ponnu'}\n",
    "print(a.popitem())"
   ]
  },
  {
   "cell_type": "markdown",
   "metadata": {},
   "source": [
    "<b>55. Add item into dict using UPDATE function"
   ]
  },
  {
   "cell_type": "code",
   "execution_count": 49,
   "metadata": {},
   "outputs": [
    {
     "name": "stdout",
     "output_type": "stream",
     "text": [
      "{2: 'rohan', 1: 'jalan', 5: 'tinku', 3: 'sonu', 4: 'ponnu', 6: 'motu'}\n",
      "{2: 'rohan', 1: 'jalan', 5: 'tinku', 3: 'sonu', 4: 'ponnu', 6: 'motu', 7: 'patlu'}\n"
     ]
    }
   ],
   "source": [
    "a = {2:'rohan', 1:'jalan', 5:'tinku', 3:'sonu', 4:'ponnu'}\n",
    "a.update({6:'motu'})\n",
    "print(a)\n",
    "\n",
    "#alternate way\n",
    "a[7]='patlu'\n",
    "print(a)"
   ]
  },
  {
   "cell_type": "markdown",
   "metadata": {},
   "source": [
    "<b>56. Give an exmple of use of setdefault function of dictionary"
   ]
  },
  {
   "cell_type": "code",
   "execution_count": 55,
   "metadata": {},
   "outputs": [
    {
     "name": "stdout",
     "output_type": "stream",
     "text": [
      "Mustang\n"
     ]
    },
    {
     "data": {
      "text/plain": [
       "{'brand': 'Ford', 'model': 'Mustang', 'year': 1964}"
      ]
     },
     "execution_count": 55,
     "metadata": {},
     "output_type": "execute_result"
    }
   ],
   "source": [
    "car = {\n",
    "  \"brand\": \"Ford\",\n",
    "  \"model\": \"Mustang\",\n",
    "  \"year\": 1964\n",
    "}\n",
    "\n",
    "x = car.setdefault(\"model\", \"Bronco\")\n",
    "print(x)\n",
    "car"
   ]
  },
  {
   "cell_type": "code",
   "execution_count": 56,
   "metadata": {},
   "outputs": [
    {
     "name": "stdout",
     "output_type": "stream",
     "text": [
      "Bronco\n"
     ]
    },
    {
     "data": {
      "text/plain": [
       "{'brand': 'Ford', 'model': 'Mustang', 'year': 1964, 'tomtom': 'Bronco'}"
      ]
     },
     "execution_count": 56,
     "metadata": {},
     "output_type": "execute_result"
    }
   ],
   "source": [
    "x = car.setdefault(\"tomtom\", \"Bronco\")\n",
    "print(x)\n",
    "car"
   ]
  },
  {
   "cell_type": "markdown",
   "metadata": {},
   "source": [
    "<b> 57. Given an example of use of fromkeys function of dictionary"
   ]
  },
  {
   "cell_type": "code",
   "execution_count": 59,
   "metadata": {},
   "outputs": [
    {
     "name": "stdout",
     "output_type": "stream",
     "text": [
      "{1: 10, 2: 10, 3: 10}\n"
     ]
    }
   ],
   "source": [
    "x = (1, 2, 3)\n",
    "y = 10\n",
    "\n",
    "thisdict = dict.fromkeys(x, y)\n",
    "\n",
    "print(thisdict)"
   ]
  },
  {
   "cell_type": "markdown",
   "metadata": {},
   "source": [
    "<b>58. Copy one dictionary to another dictionary. Illustrate with 2 ways"
   ]
  },
  {
   "cell_type": "code",
   "execution_count": 60,
   "metadata": {},
   "outputs": [
    {
     "data": {
      "text/plain": [
       "{1: 'rcb', 2: 'mi', 3: 'dc'}"
      ]
     },
     "execution_count": 60,
     "metadata": {},
     "output_type": "execute_result"
    }
   ],
   "source": [
    "a = {1:'rcb', 2:'mi', 3:'dc'}\n",
    "b = a.copy()\n",
    "b"
   ]
  },
  {
   "cell_type": "code",
   "execution_count": 61,
   "metadata": {},
   "outputs": [
    {
     "name": "stdout",
     "output_type": "stream",
     "text": [
      "{1: 'rcb', 2: 'kkr', 3: 'dc'}\n",
      "{1: 'rcb', 2: 'mi', 3: 'dc'}\n"
     ]
    }
   ],
   "source": [
    "#by changing value of dict 'a' wont change dict 'b'\n",
    "a[2]='kkr'\n",
    "print(a)\n",
    "print(b)"
   ]
  },
  {
   "cell_type": "code",
   "execution_count": 62,
   "metadata": {},
   "outputs": [
    {
     "data": {
      "text/plain": [
       "{1: 'rcb', 2: 'mi', 3: 'dc'}"
      ]
     },
     "execution_count": 62,
     "metadata": {},
     "output_type": "execute_result"
    }
   ],
   "source": [
    "#another example where changing value of one dict will change for other\n",
    "a = {1:'rcb', 2:'mi', 3:'dc'}\n",
    "b = a\n",
    "b"
   ]
  },
  {
   "cell_type": "code",
   "execution_count": 63,
   "metadata": {},
   "outputs": [
    {
     "name": "stdout",
     "output_type": "stream",
     "text": [
      "{1: 'rcb', 2: 'kkr', 3: 'dc'}\n",
      "{1: 'rcb', 2: 'kkr', 3: 'dc'}\n"
     ]
    }
   ],
   "source": [
    "#by changing value of dict 'a' will change dict 'b'\n",
    "a[2]='kkr'\n",
    "print(a)\n",
    "print(b)"
   ]
  },
  {
   "cell_type": "markdown",
   "metadata": {},
   "source": [
    "<b>59. Check if the provided key and value is present in the dict"
   ]
  },
  {
   "cell_type": "code",
   "execution_count": 66,
   "metadata": {},
   "outputs": [
    {
     "name": "stdout",
     "output_type": "stream",
     "text": [
      "True\n"
     ]
    }
   ],
   "source": [
    "# checking if key is present\n",
    "a = {1:'rcb', 2:'mi', 3:'dc'}\n",
    "print(1 in a)"
   ]
  },
  {
   "cell_type": "code",
   "execution_count": 67,
   "metadata": {},
   "outputs": [
    {
     "name": "stdout",
     "output_type": "stream",
     "text": [
      "True\n"
     ]
    }
   ],
   "source": [
    "print('mi' in a.values())"
   ]
  },
  {
   "cell_type": "code",
   "execution_count": 68,
   "metadata": {},
   "outputs": [
    {
     "name": "stdout",
     "output_type": "stream",
     "text": [
      "True\n"
     ]
    }
   ],
   "source": [
    "print(1 in a.keys())"
   ]
  },
  {
   "cell_type": "markdown",
   "metadata": {},
   "source": [
    "<b> 60. Count the number of elements in list, tuple, set and dict"
   ]
  },
  {
   "cell_type": "code",
   "execution_count": 72,
   "metadata": {},
   "outputs": [
    {
     "name": "stdout",
     "output_type": "stream",
     "text": [
      "4\n"
     ]
    }
   ],
   "source": [
    "a = [1, 2, 3, 4]\n",
    "print(len(a))"
   ]
  },
  {
   "cell_type": "code",
   "execution_count": 74,
   "metadata": {},
   "outputs": [
    {
     "name": "stdout",
     "output_type": "stream",
     "text": [
      "4\n"
     ]
    }
   ],
   "source": [
    "b = (1, 2, 3, 4)\n",
    "print(len(b))"
   ]
  },
  {
   "cell_type": "code",
   "execution_count": 75,
   "metadata": {},
   "outputs": [
    {
     "name": "stdout",
     "output_type": "stream",
     "text": [
      "3\n"
     ]
    }
   ],
   "source": [
    "c = {1:'rcb', 2:'mi', 3:'dc'}\n",
    "print(len(c))"
   ]
  },
  {
   "cell_type": "markdown",
   "metadata": {},
   "source": [
    "<b>61. Count an element in a list and tuple"
   ]
  },
  {
   "cell_type": "code",
   "execution_count": 77,
   "metadata": {},
   "outputs": [
    {
     "name": "stdout",
     "output_type": "stream",
     "text": [
      "4\n"
     ]
    }
   ],
   "source": [
    "a = [1, 2, 5, 1, 7, 3, 8, 2, 1, 8, 3, 4, 2, 7, 4, 8, 5, 9, 2]\n",
    "print(a.count(2))"
   ]
  },
  {
   "cell_type": "code",
   "execution_count": 78,
   "metadata": {},
   "outputs": [
    {
     "name": "stdout",
     "output_type": "stream",
     "text": [
      "4\n"
     ]
    }
   ],
   "source": [
    "a = (1, 2, 5, 1, 7, 3, 8, 2, 1, 8, 3, 4, 2, 7, 4, 8, 5, 9, 2)\n",
    "print(a.count(2))"
   ]
  },
  {
   "cell_type": "markdown",
   "metadata": {},
   "source": [
    "<b> 62. Given 2 lists extend elements of one list to other"
   ]
  },
  {
   "cell_type": "markdown",
   "metadata": {},
   "source": [
    "a = [1, 2, 3, 4, 5]\n",
    "b = [6, 7, 8, 9, 10]\n",
    "a.extend(b)\n",
    "a"
   ]
  },
  {
   "cell_type": "markdown",
   "metadata": {},
   "source": [
    "<b>63. Given a list insert an element in the first, middle and last postition"
   ]
  },
  {
   "cell_type": "code",
   "execution_count": 80,
   "metadata": {},
   "outputs": [
    {
     "data": {
      "text/plain": [
       "[10, 1, 2, 3, 4, 5]"
      ]
     },
     "execution_count": 80,
     "metadata": {},
     "output_type": "execute_result"
    }
   ],
   "source": [
    "#insert in the first position\n",
    "a = [1, 2, 3, 4, 5]\n",
    "a.insert(0, 10)\n",
    "a"
   ]
  },
  {
   "cell_type": "code",
   "execution_count": 81,
   "metadata": {},
   "outputs": [
    {
     "data": {
      "text/plain": [
       "[10, 1, 11, 2, 3, 4, 5]"
      ]
     },
     "execution_count": 81,
     "metadata": {},
     "output_type": "execute_result"
    }
   ],
   "source": [
    "# insert in the middle position\n",
    "a.insert(2, 11)\n",
    "a"
   ]
  },
  {
   "cell_type": "code",
   "execution_count": 84,
   "metadata": {},
   "outputs": [
    {
     "data": {
      "text/plain": [
       "[10, 1, 11, 2, 3, 4, 5, 20]"
      ]
     },
     "execution_count": 84,
     "metadata": {},
     "output_type": "execute_result"
    }
   ],
   "source": [
    "# insert in the last position\n",
    "a.insert(len(a), 20)\n",
    "a"
   ]
  },
  {
   "cell_type": "markdown",
   "metadata": {},
   "source": [
    "<b> 64. Mention 2 ways of removing an elements from the list"
   ]
  },
  {
   "cell_type": "code",
   "execution_count": 88,
   "metadata": {},
   "outputs": [
    {
     "data": {
      "text/plain": [
       "[1, 3, 4, 5]"
      ]
     },
     "execution_count": 88,
     "metadata": {},
     "output_type": "execute_result"
    }
   ],
   "source": [
    "a = [1, 2, 3, 4, 5]\n",
    "a.remove(2)\n",
    "a"
   ]
  },
  {
   "cell_type": "code",
   "execution_count": 89,
   "metadata": {},
   "outputs": [
    {
     "data": {
      "text/plain": [
       "[1, 4, 5]"
      ]
     },
     "execution_count": 89,
     "metadata": {},
     "output_type": "execute_result"
    }
   ],
   "source": [
    "del a[1]\n",
    "a"
   ]
  },
  {
   "cell_type": "markdown",
   "metadata": {},
   "source": [
    "<b>65. Given a list reverse order of the list"
   ]
  },
  {
   "cell_type": "code",
   "execution_count": 93,
   "metadata": {},
   "outputs": [
    {
     "name": "stdout",
     "output_type": "stream",
     "text": [
      "Before reverse :\n",
      "[1, 2, 3, 4, 5]\n",
      "After reverse :\n",
      "[5, 4, 3, 2, 1]\n"
     ]
    }
   ],
   "source": [
    "a = [1, 2, 3, 4, 5]\n",
    "print('Before reverse :')\n",
    "print(a)\n",
    "print('After reverse :')\n",
    "a.reverse()\n",
    "print(a)"
   ]
  },
  {
   "cell_type": "markdown",
   "metadata": {},
   "source": [
    "Note : Only List has builtin function for reverse"
   ]
  },
  {
   "cell_type": "markdown",
   "metadata": {},
   "source": [
    "<b>66. Given a tuple reverse order of elements"
   ]
  },
  {
   "cell_type": "code",
   "execution_count": 98,
   "metadata": {},
   "outputs": [
    {
     "name": "stdout",
     "output_type": "stream",
     "text": [
      "(5, 4, 3, 2, 1)\n"
     ]
    }
   ],
   "source": [
    "a = (1, 2, 3, 4, 5)\n",
    "print(a[::-1])"
   ]
  },
  {
   "cell_type": "markdown",
   "metadata": {},
   "source": [
    "<b>67. Given a string reverse the characters in it. And check of original string got changed."
   ]
  },
  {
   "cell_type": "code",
   "execution_count": 100,
   "metadata": {},
   "outputs": [
    {
     "name": "stdout",
     "output_type": "stream",
     "text": [
      "noitazinagro\n"
     ]
    }
   ],
   "source": [
    "a = 'organization'\n",
    "print(a[::-1])"
   ]
  },
  {
   "cell_type": "code",
   "execution_count": 101,
   "metadata": {},
   "outputs": [
    {
     "data": {
      "text/plain": [
       "'organization'"
      ]
     },
     "execution_count": 101,
     "metadata": {},
     "output_type": "execute_result"
    }
   ],
   "source": [
    "# as string is immutable object chanracters cannot be altered\n",
    "a"
   ]
  },
  {
   "cell_type": "markdown",
   "metadata": {},
   "source": [
    "<b>68. Create a list over range with start index and increament"
   ]
  },
  {
   "cell_type": "code",
   "execution_count": 103,
   "metadata": {},
   "outputs": [
    {
     "data": {
      "text/plain": [
       "[1, 3, 5, 7, 9, 11, 13, 15, 17, 19]"
      ]
     },
     "execution_count": 103,
     "metadata": {},
     "output_type": "execute_result"
    }
   ],
   "source": [
    "a = list(range(1, 20, 2))\n",
    "a"
   ]
  },
  {
   "cell_type": "markdown",
   "metadata": {},
   "source": [
    "<b>69. Give exmaples of any() and all() for tuples"
   ]
  },
  {
   "cell_type": "code",
   "execution_count": 107,
   "metadata": {},
   "outputs": [
    {
     "name": "stdout",
     "output_type": "stream",
     "text": [
      "True\n",
      "True\n"
     ]
    }
   ],
   "source": [
    "a = (1, 2, 3, 4, 5)\n",
    "print(any(a))\n",
    "print(all(a))"
   ]
  },
  {
   "cell_type": "code",
   "execution_count": 108,
   "metadata": {},
   "outputs": [
    {
     "name": "stdout",
     "output_type": "stream",
     "text": [
      "True\n",
      "False\n"
     ]
    }
   ],
   "source": [
    "a = (0, 1, 2, 3, 4)\n",
    "print(any(a))\n",
    "print(all(a))"
   ]
  },
  {
   "cell_type": "code",
   "execution_count": 116,
   "metadata": {},
   "outputs": [
    {
     "name": "stdout",
     "output_type": "stream",
     "text": [
      "False\n",
      "True\n"
     ]
    }
   ],
   "source": [
    "b = ()\n",
    "print(any(b))\n",
    "print(all(b))"
   ]
  },
  {
   "cell_type": "markdown",
   "metadata": {},
   "source": [
    "<b>70. Give exmaples of any() and all() for lists"
   ]
  },
  {
   "cell_type": "code",
   "execution_count": 109,
   "metadata": {},
   "outputs": [
    {
     "name": "stdout",
     "output_type": "stream",
     "text": [
      "True\n",
      "False\n"
     ]
    }
   ],
   "source": [
    "a = [0, 1, 1, 0]\n",
    "print(any(a))\n",
    "print(all(a))"
   ]
  },
  {
   "cell_type": "code",
   "execution_count": 110,
   "metadata": {},
   "outputs": [
    {
     "name": "stdout",
     "output_type": "stream",
     "text": [
      "True\n",
      "True\n"
     ]
    }
   ],
   "source": [
    "a = [1, 1, 1, 1]\n",
    "print(any(a))\n",
    "print(all(a))"
   ]
  },
  {
   "cell_type": "code",
   "execution_count": 111,
   "metadata": {},
   "outputs": [
    {
     "name": "stdout",
     "output_type": "stream",
     "text": [
      "False\n",
      "False\n"
     ]
    }
   ],
   "source": [
    "a = [0, 0, 0, 0]\n",
    "print(any(a))\n",
    "print(all(a))"
   ]
  },
  {
   "cell_type": "code",
   "execution_count": 117,
   "metadata": {},
   "outputs": [
    {
     "name": "stdout",
     "output_type": "stream",
     "text": [
      "False\n",
      "True\n"
     ]
    }
   ],
   "source": [
    "b = []\n",
    "print(any(b))\n",
    "print(all(b))"
   ]
  },
  {
   "cell_type": "markdown",
   "metadata": {},
   "source": [
    "Note: For empty iterable the all() function value is TRUE"
   ]
  },
  {
   "cell_type": "markdown",
   "metadata": {},
   "source": [
    "<b>71. Find index of initial, middle and last element of the tuple"
   ]
  },
  {
   "cell_type": "code",
   "execution_count": 118,
   "metadata": {},
   "outputs": [
    {
     "name": "stdout",
     "output_type": "stream",
     "text": [
      "Index of first element : 0\n",
      "Index of first element : 2\n",
      "Index of first element : 4\n"
     ]
    }
   ],
   "source": [
    "a = (1, 2, 3, 4, 5)\n",
    "print(\"Index of first element :\", a.index(1))\n",
    "print(\"Index of first element :\", a.index(3))\n",
    "print(\"Index of first element :\", a.index(5))"
   ]
  },
  {
   "cell_type": "markdown",
   "metadata": {},
   "source": [
    "<b> 72. Give examples of enumerate() function"
   ]
  },
  {
   "cell_type": "code",
   "execution_count": 122,
   "metadata": {},
   "outputs": [
    {
     "name": "stdout",
     "output_type": "stream",
     "text": [
      "<class 'enumerate'>\n",
      "[(0, 'book'), (1, 'pen'), (2, 'pencil')]\n",
      "[(10, 'book'), (11, 'pen'), (12, 'pencil')]\n"
     ]
    }
   ],
   "source": [
    "a = ['book', 'pen', 'pencil']\n",
    "b = enumerate(a)\n",
    "print(type(b))\n",
    "print(list(b))\n",
    "c = enumerate(a, 10)\n",
    "print(list(c))"
   ]
  },
  {
   "cell_type": "markdown",
   "metadata": {},
   "source": [
    "<b>73. Give examples of usage of 'bool' function"
   ]
  },
  {
   "cell_type": "code",
   "execution_count": 123,
   "metadata": {},
   "outputs": [
    {
     "name": "stdout",
     "output_type": "stream",
     "text": [
      "[]  is  False\n",
      "[0]  is  True\n",
      "0.0  is  False\n",
      "0  is  False\n",
      "None  is  False\n",
      "True  is  True\n",
      "origin  is  True\n"
     ]
    }
   ],
   "source": [
    "a = []\n",
    "print(a, ' is ', bool(a))\n",
    "\n",
    "b = [0]\n",
    "print(b, ' is ', bool(b))\n",
    "\n",
    "c = 0.0\n",
    "print(c, ' is ', bool(c))\n",
    "\n",
    "d = 0\n",
    "print(d, ' is ', bool(d))\n",
    "\n",
    "e = None\n",
    "print(e,  ' is ', bool(e))\n",
    "\n",
    "f = True\n",
    "print(f, ' is ', bool(f))\n",
    "\n",
    "g = 'origin'\n",
    "print(g, ' is ', bool(g))"
   ]
  },
  {
   "cell_type": "markdown",
   "metadata": {},
   "source": [
    "<b>74. How filter() method works without the filter function"
   ]
  },
  {
   "cell_type": "code",
   "execution_count": 124,
   "metadata": {},
   "outputs": [
    {
     "name": "stdout",
     "output_type": "stream",
     "text": [
      "The filtered elements are:\n",
      "1\n",
      "a\n",
      "True\n",
      "0\n"
     ]
    }
   ],
   "source": [
    "a = [1, 'a', 0, False, True, '0']\n",
    "\n",
    "b = filter(None, a)\n",
    "\n",
    "print('The filtered elements are:')\n",
    "for element in b:\n",
    "    print(element)"
   ]
  },
  {
   "cell_type": "markdown",
   "metadata": {},
   "source": [
    "<b>75. Give examples for the use of 'iter' function for list, tuple and set"
   ]
  },
  {
   "cell_type": "code",
   "execution_count": 133,
   "metadata": {},
   "outputs": [
    {
     "name": "stdout",
     "output_type": "stream",
     "text": [
      "sea\n",
      "1\n",
      "[1, 2, 3]\n",
      "dolby\n",
      "2.9\n"
     ]
    }
   ],
   "source": [
    "a = ['sea', 1, [1, 2, 3], 'dolby', 2.9]\n",
    "b = iter(a)\n",
    "print(next(b))\n",
    "print(next(b))\n",
    "print(next(b))\n",
    "print(next(b))\n",
    "print(next(b))"
   ]
  },
  {
   "cell_type": "code",
   "execution_count": 134,
   "metadata": {},
   "outputs": [
    {
     "name": "stdout",
     "output_type": "stream",
     "text": [
      "1\n",
      "[1, 2, 3]\n",
      "dolby\n",
      "2.9\n"
     ]
    }
   ],
   "source": [
    "a = (1, [1, 2, 3], 'dolby', 2.9)\n",
    "b = iter(a)\n",
    "print(next(b))\n",
    "print(next(b))\n",
    "print(next(b))\n",
    "print(next(b))"
   ]
  },
  {
   "cell_type": "code",
   "execution_count": 136,
   "metadata": {},
   "outputs": [
    {
     "name": "stdout",
     "output_type": "stream",
     "text": [
      "1\n",
      "2\n",
      "dolby\n",
      "2.9\n"
     ]
    }
   ],
   "source": [
    "a = {1, 2, 'dolby', 2.9}\n",
    "b = iter(a)\n",
    "print(next(b))\n",
    "print(next(b))\n",
    "print(next(b))\n",
    "print(next(b))"
   ]
  },
  {
   "cell_type": "markdown",
   "metadata": {},
   "source": [
    "<b>76. Give exmple of min() and max() functions for list, tuple and set"
   ]
  },
  {
   "cell_type": "code",
   "execution_count": 137,
   "metadata": {},
   "outputs": [
    {
     "name": "stdout",
     "output_type": "stream",
     "text": [
      "8\n",
      "1\n"
     ]
    }
   ],
   "source": [
    "a = [1, 4, 2, 6, 3, 8, 5]\n",
    "print(max(a))\n",
    "print(min(a))"
   ]
  },
  {
   "cell_type": "code",
   "execution_count": 138,
   "metadata": {},
   "outputs": [
    {
     "name": "stdout",
     "output_type": "stream",
     "text": [
      "8\n",
      "1\n"
     ]
    }
   ],
   "source": [
    "a = (1, 4, 2, 6, 3, 8, 5)\n",
    "print(max(a))\n",
    "print(min(a))"
   ]
  },
  {
   "cell_type": "code",
   "execution_count": 139,
   "metadata": {},
   "outputs": [
    {
     "name": "stdout",
     "output_type": "stream",
     "text": [
      "8\n",
      "1\n"
     ]
    }
   ],
   "source": [
    "a = {1, 4, 2, 6, 3, 8, 5}\n",
    "print(max(a))\n",
    "print(min(a))"
   ]
  },
  {
   "cell_type": "markdown",
   "metadata": {},
   "source": [
    "<b> 77. Give examples of map() function for list, tuple and set"
   ]
  },
  {
   "cell_type": "code",
   "execution_count": 141,
   "metadata": {},
   "outputs": [
    {
     "data": {
      "text/plain": [
       "[4, 16, 36, 64, 100]"
      ]
     },
     "execution_count": 141,
     "metadata": {},
     "output_type": "execute_result"
    }
   ],
   "source": [
    "a = [2, 4, 6, 8, 10]\n",
    "b = list(map(lambda x: x**2, a))\n",
    "b"
   ]
  },
  {
   "cell_type": "code",
   "execution_count": 143,
   "metadata": {},
   "outputs": [
    {
     "data": {
      "text/plain": [
       "(4, 6, 8, 10, 12)"
      ]
     },
     "execution_count": 143,
     "metadata": {},
     "output_type": "execute_result"
    }
   ],
   "source": [
    "a = (2, 3, 4, 5, 6)\n",
    "b = tuple(map(lambda x: 2*x, a))\n",
    "b"
   ]
  },
  {
   "cell_type": "code",
   "execution_count": 145,
   "metadata": {},
   "outputs": [
    {
     "data": {
      "text/plain": [
       "{8, 27, 64, 125, 216}"
      ]
     },
     "execution_count": 145,
     "metadata": {},
     "output_type": "execute_result"
    }
   ],
   "source": [
    "a = {2, 3, 4, 5, 6}\n",
    "b = set(map(lambda x: x**3, a))\n",
    "b"
   ]
  },
  {
   "cell_type": "markdown",
   "metadata": {},
   "source": [
    "<b>78. Give examples of reversed() function for list, tuple, string and range"
   ]
  },
  {
   "cell_type": "code",
   "execution_count": 146,
   "metadata": {},
   "outputs": [
    {
     "data": {
      "text/plain": [
       "[5, 4, 3, 2, 1]"
      ]
     },
     "execution_count": 146,
     "metadata": {},
     "output_type": "execute_result"
    }
   ],
   "source": [
    "a = [1, 2, 3, 4, 5]\n",
    "b = list(reversed(a))\n",
    "b"
   ]
  },
  {
   "cell_type": "code",
   "execution_count": 147,
   "metadata": {},
   "outputs": [
    {
     "data": {
      "text/plain": [
       "('bham', 'sham', 'ram')"
      ]
     },
     "execution_count": 147,
     "metadata": {},
     "output_type": "execute_result"
    }
   ],
   "source": [
    "a = ('ram', 'sham', 'bham')\n",
    "b = tuple(reversed(a))\n",
    "b"
   ]
  },
  {
   "cell_type": "code",
   "execution_count": 150,
   "metadata": {},
   "outputs": [
    {
     "data": {
      "text/plain": [
       "'elpmaxe'"
      ]
     },
     "execution_count": 150,
     "metadata": {},
     "output_type": "execute_result"
    }
   ],
   "source": [
    "a = 'example'\n",
    "b = list(reversed(a))\n",
    "''.join(b)"
   ]
  },
  {
   "cell_type": "code",
   "execution_count": 153,
   "metadata": {},
   "outputs": [
    {
     "data": {
      "text/plain": [
       "(45, 40, 35, 30, 25, 20, 15, 10, 5)"
      ]
     },
     "execution_count": 153,
     "metadata": {},
     "output_type": "execute_result"
    }
   ],
   "source": [
    "a = range(5, 50, 5)\n",
    "b = tuple(reversed(a))\n",
    "b"
   ]
  },
  {
   "cell_type": "markdown",
   "metadata": {},
   "source": [
    "<b>79. Give exmples of slice() function for list, tuple, string etc."
   ]
  },
  {
   "cell_type": "markdown",
   "metadata": {},
   "source": [
    "The slice() function returns a slice object that can use used to slice strings, lists, tuple etc."
   ]
  },
  {
   "cell_type": "code",
   "execution_count": 155,
   "metadata": {},
   "outputs": [
    {
     "data": {
      "text/plain": [
       "'pyt'"
      ]
     },
     "execution_count": 155,
     "metadata": {},
     "output_type": "execute_result"
    }
   ],
   "source": [
    "'python'[slice(3)]"
   ]
  },
  {
   "cell_type": "code",
   "execution_count": 157,
   "metadata": {},
   "outputs": [
    {
     "name": "stdout",
     "output_type": "stream",
     "text": [
      "[6, 4, 4, 7]\n"
     ]
    }
   ],
   "source": [
    "a = [9, 6, 2, 4, 9, 4, 4, 7, 9, 4]\n",
    "b = slice(1, 8, 2)\n",
    "print(a[b])"
   ]
  },
  {
   "cell_type": "code",
   "execution_count": 158,
   "metadata": {},
   "outputs": [
    {
     "name": "stdout",
     "output_type": "stream",
     "text": [
      "(4, 9, 7, 4, 4)\n"
     ]
    }
   ],
   "source": [
    "a = (9, 6, 2, 4, 9, 4, 4, 7, 9, 4)\n",
    "b = slice(-1, -6, -1)\n",
    "print(a[b])"
   ]
  },
  {
   "cell_type": "markdown",
   "metadata": {},
   "source": [
    "<b> 80. Give examples of sorted() function for list, tuple and string"
   ]
  },
  {
   "cell_type": "code",
   "execution_count": 159,
   "metadata": {},
   "outputs": [
    {
     "name": "stdout",
     "output_type": "stream",
     "text": [
      "[2, 2, 3, 4, 5, 7, 7, 9]\n"
     ]
    }
   ],
   "source": [
    "a = [5, 2, 7, 3, 4, 9, 7, 2]\n",
    "print(sorted(a))"
   ]
  },
  {
   "cell_type": "code",
   "execution_count": 160,
   "metadata": {},
   "outputs": [
    {
     "name": "stdout",
     "output_type": "stream",
     "text": [
      "['hanuman', 'laxman', 'ram', 'ravan', 'seeta']\n"
     ]
    }
   ],
   "source": [
    "a = ['seeta', 'ram', 'laxman', 'hanuman', 'ravan']\n",
    "print(sorted(a))"
   ]
  },
  {
   "cell_type": "code",
   "execution_count": 162,
   "metadata": {},
   "outputs": [
    {
     "name": "stdout",
     "output_type": "stream",
     "text": [
      "['a', 'a', 'a', 'a', 'b', 'h', 'h', 'm', 'r', 't']\n"
     ]
    },
    {
     "data": {
      "text/plain": [
       "'aaaabhhmrt'"
      ]
     },
     "execution_count": 162,
     "metadata": {},
     "output_type": "execute_result"
    }
   ],
   "source": [
    "a = 'mahabharat'\n",
    "print(sorted(a))\n",
    "''.join(sorted(a))"
   ]
  },
  {
   "cell_type": "markdown",
   "metadata": {},
   "source": [
    "<b>81. Give exmples of 'zip' function "
   ]
  },
  {
   "cell_type": "markdown",
   "metadata": {},
   "source": [
    "The zip() function returns an iterator of tuples based on the iterable objects.\n",
    "\n",
    "    1. If we do not pass any parameter, zip() returns an empty iterator\n",
    "    2. If a single iterable is passed, zip() returns an iterator of tuples with each tuple having only one element.\n",
    "    3. If multiple iterables are passed, zip() returns an iterator of tuples with each tuple having elements from all the iterables.\n",
    "\n",
    "    4. Suppose, two iterables are passed to zip(); one iterable containing three and other containing five elements. Then, the returned iterator will contain three tuples. It's because iterator stops when the shortest iterable is exhausted.\n"
   ]
  },
  {
   "cell_type": "code",
   "execution_count": 4,
   "metadata": {},
   "outputs": [
    {
     "name": "stdout",
     "output_type": "stream",
     "text": [
      "{(5, 'e'), (2, 'b'), (1, 'a'), (3, 'c'), (4, 'd')}\n",
      "[(1, 'a'), (2, 'b'), (3, 'c'), (4, 'd'), (5, 'e')]\n"
     ]
    }
   ],
   "source": [
    "a = [1, 2, 3, 4, 5]\n",
    "b = ['a', 'b', 'c', 'd', 'e']\n",
    "result = set(zip(a, b))\n",
    "print(result)\n",
    "result = list(zip(a, b))\n",
    "print(result)"
   ]
  },
  {
   "cell_type": "markdown",
   "metadata": {},
   "source": [
    "<b>82. Create a set and add few elements"
   ]
  },
  {
   "cell_type": "code",
   "execution_count": 9,
   "metadata": {},
   "outputs": [
    {
     "name": "stdout",
     "output_type": "stream",
     "text": [
      "{1, 2, 4}\n"
     ]
    }
   ],
   "source": [
    "a = set()\n",
    "a.add(1)\n",
    "a.add(2)\n",
    "a.add(2)\n",
    "a.add(4)\n",
    "print(a)"
   ]
  },
  {
   "cell_type": "markdown",
   "metadata": {},
   "source": [
    "<b>83. Give example of 'difference' method in sets"
   ]
  },
  {
   "cell_type": "markdown",
   "metadata": {},
   "source": [
    "x-y -> Return a set that contains the items that only exist in set x, and not in set y:"
   ]
  },
  {
   "cell_type": "code",
   "execution_count": 10,
   "metadata": {},
   "outputs": [
    {
     "name": "stdout",
     "output_type": "stream",
     "text": [
      "{'cherry', 'banana'}\n"
     ]
    }
   ],
   "source": [
    "x = {\"apple\", \"banana\", \"cherry\"}\n",
    "y = {\"google\", \"microsoft\", \"apple\"}\n",
    "z = x.difference(y)\n",
    "print(z)"
   ]
  },
  {
   "cell_type": "markdown",
   "metadata": {},
   "source": [
    "<b>84. Give an example of 'difference_update' method in sets"
   ]
  },
  {
   "cell_type": "markdown",
   "metadata": {},
   "source": [
    "Remove the items that exist in both sets:"
   ]
  },
  {
   "cell_type": "code",
   "execution_count": 15,
   "metadata": {},
   "outputs": [
    {
     "name": "stdout",
     "output_type": "stream",
     "text": [
      "{'banana', 'cherry'}\n"
     ]
    }
   ],
   "source": [
    "x = {\"apple\", \"banana\", \"cherry\"}\n",
    "y = {\"google\", \"microsoft\", \"apple\"}\n",
    "x.difference_update(y)\n",
    "print(x)"
   ]
  },
  {
   "cell_type": "markdown",
   "metadata": {},
   "source": [
    "<b>85. Give example of 'discard' method in sets"
   ]
  },
  {
   "cell_type": "code",
   "execution_count": 16,
   "metadata": {},
   "outputs": [
    {
     "data": {
      "text/plain": [
       "{'krish', 'ram'}"
      ]
     },
     "execution_count": 16,
     "metadata": {},
     "output_type": "execute_result"
    }
   ],
   "source": [
    "a = {'ram', 'bhim', 'krish'}\n",
    "a.discard('bhim')\n",
    "a"
   ]
  },
  {
   "cell_type": "markdown",
   "metadata": {},
   "source": [
    "<b>86. Difference between 'intersection' and 'intersection_update' methods in sets"
   ]
  },
  {
   "cell_type": "code",
   "execution_count": 20,
   "metadata": {},
   "outputs": [
    {
     "name": "stdout",
     "output_type": "stream",
     "text": [
      "{'apple'}\n",
      "{'apple', 'orange', 'banana'}\n",
      "{'apple', 'google', 'microsoft'}\n"
     ]
    }
   ],
   "source": [
    "a = {'apple', 'banana', 'orange'}\n",
    "b = {'microsoft', 'apple', 'google'}\n",
    "print(a.intersection(b))\n",
    "print(a)\n",
    "print(b)"
   ]
  },
  {
   "cell_type": "code",
   "execution_count": 23,
   "metadata": {},
   "outputs": [
    {
     "name": "stdout",
     "output_type": "stream",
     "text": [
      "{'apple'}\n",
      "{'apple', 'google', 'microsoft'}\n"
     ]
    }
   ],
   "source": [
    "x = {\"apple\", \"banana\", \"cherry\"}\n",
    "y = {\"google\", \"microsoft\", \"apple\"}\n",
    "\n",
    "x.intersection_update(y)\n",
    "print(x) \n",
    "print(y)"
   ]
  },
  {
   "cell_type": "markdown",
   "metadata": {},
   "source": [
    "<b>87. Give example of 'isdisjoint()' method in sets"
   ]
  },
  {
   "cell_type": "markdown",
   "metadata": {},
   "source": [
    "Return True if no items in set x is present in set y"
   ]
  },
  {
   "cell_type": "code",
   "execution_count": 25,
   "metadata": {},
   "outputs": [
    {
     "name": "stdout",
     "output_type": "stream",
     "text": [
      "True\n"
     ]
    }
   ],
   "source": [
    "x = {\"apple\", \"banana\", \"cherry\"}\n",
    "y = {\"google\", \"microsoft\", \"facebook\"}\n",
    "\n",
    "z = x.isdisjoint(y)\n",
    "\n",
    "print(z) "
   ]
  },
  {
   "cell_type": "code",
   "execution_count": 26,
   "metadata": {},
   "outputs": [
    {
     "name": "stdout",
     "output_type": "stream",
     "text": [
      "False\n"
     ]
    }
   ],
   "source": [
    "x = {\"apple\", \"banana\", \"cherry\"}\n",
    "y = {\"google\", \"apple\", \"facebook\"}\n",
    "\n",
    "z = x.isdisjoint(y)\n",
    "\n",
    "print(z) "
   ]
  },
  {
   "cell_type": "markdown",
   "metadata": {},
   "source": [
    "<b>88. Give examples of 'issubset()' and 'issuperset()' methods examples"
   ]
  },
  {
   "cell_type": "code",
   "execution_count": 30,
   "metadata": {},
   "outputs": [
    {
     "name": "stdout",
     "output_type": "stream",
     "text": [
      "True\n",
      "True\n"
     ]
    }
   ],
   "source": [
    "x = {1, 'ram', 1.2, 4, 'bhim'}\n",
    "y = {1.2, 'bhim'}\n",
    "print(y.issubset(x))\n",
    "print(x.issuperset(y))"
   ]
  },
  {
   "cell_type": "code",
   "execution_count": 31,
   "metadata": {},
   "outputs": [
    {
     "name": "stdout",
     "output_type": "stream",
     "text": [
      "False\n",
      "False\n"
     ]
    }
   ],
   "source": [
    "x = {1, 2, 3, 4, 5}\n",
    "y = {10, 20}\n",
    "print(y.issubset(x))\n",
    "print(x.issuperset(y))"
   ]
  },
  {
   "cell_type": "markdown",
   "metadata": {},
   "source": [
    "<b>89.Remove a random item from the set."
   ]
  },
  {
   "cell_type": "code",
   "execution_count": 33,
   "metadata": {},
   "outputs": [
    {
     "name": "stdout",
     "output_type": "stream",
     "text": [
      "{'banana', 'cherry'}\n",
      "{'cherry'}\n"
     ]
    }
   ],
   "source": [
    "fruits = {\"apple\", \"banana\", \"cherry\"}\n",
    "\n",
    "fruits.pop()\n",
    "print(fruits) \n",
    "fruits.pop()\n",
    "print(fruits) "
   ]
  },
  {
   "cell_type": "markdown",
   "metadata": {},
   "source": [
    "<b>90. Remove specified element from the set"
   ]
  },
  {
   "cell_type": "code",
   "execution_count": 34,
   "metadata": {},
   "outputs": [
    {
     "name": "stdout",
     "output_type": "stream",
     "text": [
      "{'orange', 'mango', 'cherry'}\n"
     ]
    }
   ],
   "source": [
    "fruits = {'orange', 'mango', 'banana', 'cherry'}\n",
    "fruits.remove('banana')\n",
    "print(fruits)"
   ]
  },
  {
   "cell_type": "markdown",
   "metadata": {},
   "source": [
    "<b>91. Return a set that contains all items from both sets, except items that are present in both sets(symmetric difference)"
   ]
  },
  {
   "cell_type": "code",
   "execution_count": 35,
   "metadata": {},
   "outputs": [
    {
     "name": "stdout",
     "output_type": "stream",
     "text": [
      "{'banana', 'cherry', 'google', 'microsoft'}\n"
     ]
    }
   ],
   "source": [
    "x = {\"apple\", \"banana\", \"cherry\"}\n",
    "y = {\"google\", \"microsoft\", \"apple\"}\n",
    "\n",
    "z = x.symmetric_difference(y)\n",
    "\n",
    "print(z) "
   ]
  },
  {
   "cell_type": "markdown",
   "metadata": {},
   "source": [
    "<b>92. Remove the items that are present in both sets, AND insert the items that is not present in both sets (symmetric_difference_update)"
   ]
  },
  {
   "cell_type": "code",
   "execution_count": 37,
   "metadata": {},
   "outputs": [
    {
     "name": "stdout",
     "output_type": "stream",
     "text": [
      "{'google', 'banana', 'microsoft', 'cherry'}\n",
      "{'apple', 'google', 'microsoft'}\n"
     ]
    }
   ],
   "source": [
    "x = {\"apple\", \"banana\", \"cherry\"}\n",
    "y = {\"google\", \"microsoft\", \"apple\"}\n",
    "\n",
    "x.symmetric_difference_update(y)\n",
    "\n",
    "print(x)\n",
    "print(y)"
   ]
  },
  {
   "cell_type": "markdown",
   "metadata": {},
   "source": [
    "<b>93. Return a set that contains all items from both sets, duplicates are excluded(union)"
   ]
  },
  {
   "cell_type": "code",
   "execution_count": 38,
   "metadata": {},
   "outputs": [
    {
     "name": "stdout",
     "output_type": "stream",
     "text": [
      "{'apple', 'banana', 'microsoft', 'google', 'cherry'}\n"
     ]
    }
   ],
   "source": [
    "x = {\"apple\", \"banana\", \"cherry\"}\n",
    "y = {\"google\", \"microsoft\", \"apple\"}\n",
    "\n",
    "z = x.union(y)\n",
    "\n",
    "print(z) "
   ]
  },
  {
   "cell_type": "markdown",
   "metadata": {},
   "source": [
    "<b>94. Insert the items from set y into set x(update)"
   ]
  },
  {
   "cell_type": "code",
   "execution_count": 39,
   "metadata": {},
   "outputs": [
    {
     "name": "stdout",
     "output_type": "stream",
     "text": [
      "{'apple', 'banana', 'microsoft', 'google', 'cherry'}\n",
      "{'apple', 'google', 'microsoft'}\n"
     ]
    }
   ],
   "source": [
    "x = {\"apple\", \"banana\", \"cherry\"}\n",
    "y = {\"google\", \"microsoft\", \"apple\"}\n",
    "\n",
    "x.update(y)\n",
    "print(x)\n",
    "print(y)"
   ]
  },
  {
   "cell_type": "markdown",
   "metadata": {},
   "source": [
    "<b>95. Give an example of frozenset() method in sets"
   ]
  },
  {
   "cell_type": "code",
   "execution_count": 42,
   "metadata": {},
   "outputs": [
    {
     "name": "stdout",
     "output_type": "stream",
     "text": [
      "frozenset({1, 2, 3, 4, 5})\n",
      "{1, 2, 3, 4, 5}\n",
      "frozenset()\n"
     ]
    }
   ],
   "source": [
    "a = {1, 2, 3, 4, 5}\n",
    "b = frozenset(a)\n",
    "print(b)\n",
    "print(a)\n",
    "print(frozenset())"
   ]
  },
  {
   "cell_type": "markdown",
   "metadata": {},
   "source": [
    "<b>96. Given a list, extract all elements in step size of 2"
   ]
  },
  {
   "cell_type": "code",
   "execution_count": 2,
   "metadata": {},
   "outputs": [
    {
     "data": {
      "text/plain": [
       "[1, 3, 5, 7, 9]"
      ]
     },
     "execution_count": 2,
     "metadata": {},
     "output_type": "execute_result"
    }
   ],
   "source": [
    "a = [1, 2, 3, 4, 5, 6, 7, 8, 9, 10]\n",
    "a[::2]"
   ]
  },
  {
   "cell_type": "markdown",
   "metadata": {},
   "source": [
    "<b>97. Given a list extract all elements in reverse order with step size of 2"
   ]
  },
  {
   "cell_type": "code",
   "execution_count": 3,
   "metadata": {},
   "outputs": [
    {
     "data": {
      "text/plain": [
       "[10, 8, 6, 4, 2]"
      ]
     },
     "execution_count": 3,
     "metadata": {},
     "output_type": "execute_result"
    }
   ],
   "source": [
    "a = [1, 2, 3, 4, 5, 6, 7, 8, 9, 10]\n",
    "a[::-2]"
   ]
  },
  {
   "cell_type": "markdown",
   "metadata": {},
   "source": [
    "<b>98. Given a list, extract elements starting from position 5 to reverse order"
   ]
  },
  {
   "cell_type": "code",
   "execution_count": 4,
   "metadata": {},
   "outputs": [
    {
     "data": {
      "text/plain": [
       "[5, 4, 3, 2, 1]"
      ]
     },
     "execution_count": 4,
     "metadata": {},
     "output_type": "execute_result"
    }
   ],
   "source": [
    "a = [1, 2, 3, 4, 5, 6, 7, 8, 9, 10, 11, 12, 13, 14]\n",
    "a[4::-1]"
   ]
  },
  {
   "cell_type": "markdown",
   "metadata": {},
   "source": [
    "<b>99. Given a list shuffle randomnly"
   ]
  },
  {
   "cell_type": "code",
   "execution_count": 8,
   "metadata": {},
   "outputs": [
    {
     "data": {
      "text/plain": [
       "[10, 2, 13, 6, 14, 3, 9, 5, 7, 8, 12, 11, 4, 1]"
      ]
     },
     "execution_count": 8,
     "metadata": {},
     "output_type": "execute_result"
    }
   ],
   "source": [
    "import random\n",
    "a = [1, 2, 3, 4, 5, 6, 7, 8, 9, 10, 11, 12, 13, 14]\n",
    "random.shuffle(a)\n",
    "a"
   ]
  },
  {
   "cell_type": "markdown",
   "metadata": {},
   "source": [
    "<b>100. Given list od lists, remove last element from each list."
   ]
  },
  {
   "cell_type": "code",
   "execution_count": 15,
   "metadata": {},
   "outputs": [
    {
     "data": {
      "text/plain": [
       "[[1, 2, 3], [5, 6, 7], [9, 10, 11], [13, 14, 15]]"
      ]
     },
     "execution_count": 15,
     "metadata": {},
     "output_type": "execute_result"
    }
   ],
   "source": [
    "a = [[1, 2, 3, 4], [5, 6, 7, 8], [9, 10, 11, 12], [13, 14, 15, 16]]\n",
    "for i in range(4):\n",
    "    a[i].pop()\n",
    "a"
   ]
  },
  {
   "cell_type": "markdown",
   "metadata": {},
   "source": [
    "<b>101. Unpack sequence/string into separate variables"
   ]
  },
  {
   "cell_type": "code",
   "execution_count": 16,
   "metadata": {},
   "outputs": [
    {
     "name": "stdout",
     "output_type": "stream",
     "text": [
      "r\n",
      "o\n",
      "m\n",
      "e\n"
     ]
    }
   ],
   "source": [
    "a, b, c, d = 'rome'\n",
    "print(a)\n",
    "print(b)\n",
    "print(c)\n",
    "print(d)"
   ]
  },
  {
   "cell_type": "code",
   "execution_count": 20,
   "metadata": {},
   "outputs": [
    {
     "name": "stdout",
     "output_type": "stream",
     "text": [
      "['ram', 12, 1.5]\n",
      "True\n"
     ]
    }
   ],
   "source": [
    "*a, b = ('ram', 12, 1.5, True)\n",
    "print(a)\n",
    "print(b)"
   ]
  },
  {
   "cell_type": "code",
   "execution_count": 21,
   "metadata": {},
   "outputs": [
    {
     "name": "stdout",
     "output_type": "stream",
     "text": [
      "1\n",
      "['ram', (1, 2, 3, 4)]\n",
      "bhim\n"
     ]
    }
   ],
   "source": [
    "a, *b, c = [1, 'ram', (1, 2, 3, 4), 'bhim']\n",
    "print(a)\n",
    "print(b)\n",
    "print(c)"
   ]
  },
  {
   "cell_type": "code",
   "execution_count": 19,
   "metadata": {},
   "outputs": [
    {
     "name": "stdout",
     "output_type": "stream",
     "text": [
      "e\n"
     ]
    }
   ],
   "source": [
    "_, _, _, c = 'rome'\n",
    "print(c)"
   ]
  },
  {
   "cell_type": "markdown",
   "metadata": {},
   "source": [
    "<b>102. Write a program, given a text file/text, search for previous 5 lines for each iteration with matching pattern"
   ]
  },
  {
   "cell_type": "code",
   "execution_count": 26,
   "metadata": {},
   "outputs": [
    {
     "name": "stdout",
     "output_type": "stream",
     "text": [
      "this is sample text file\n",
      " python is a language\n",
      " --------------------\n",
      "this is sample text file\n",
      " python is a language\n",
      " java is also a old language\n",
      " but python is the latest language\n",
      " --------------------\n",
      "this is sample text file\n",
      " python is a language\n",
      " java is also a old language\n",
      " but python is the latest language\n",
      " java is not top in the market currently\n",
      " python overtook java place\n",
      " --------------------\n",
      "python is a language\n",
      " java is also a old language\n",
      " but python is the latest language\n",
      " java is not top in the market currently\n",
      " python overtook java place\n",
      " python scope increased\n",
      " --------------------\n",
      "java is also a old language\n",
      " but python is the latest language\n",
      " java is not top in the market currently\n",
      " python overtook java place\n",
      " python scope increased\n",
      " like java python is also OOPS\n",
      " --------------------\n",
      "but python is the latest language\n",
      " java is not top in the market currently\n",
      " python overtook java place\n",
      " python scope increased\n",
      " like java python is also OOPS\n",
      " python is easy language\n",
      " --------------------\n",
      "python overtook java place\n",
      " python scope increased\n",
      " like java python is also OOPS\n",
      " python is easy language\n",
      " java has more security\n",
      " python is less security --------------------\n"
     ]
    }
   ],
   "source": [
    "from collections import deque\n",
    "\n",
    "def search(lines, pattern, history=5):\n",
    "    previous_lines = deque(maxlen=history)\n",
    "    for line in lines:\n",
    "        if pattern in line:\n",
    "            yield line, previous_lines\n",
    "        previous_lines.append(line)\n",
    "        \n",
    "if __name__ =='__main__':\n",
    "    with open('102_data.txt') as f:\n",
    "        for line, prevlines in search(f, 'python', 5):\n",
    "            for pline in prevlines:\n",
    "                print(pline, end=' ')\n",
    "            print(line, end=' ')\n",
    "            print('-'*20)"
   ]
  },
  {
   "cell_type": "markdown",
   "metadata": {},
   "source": [
    "<b>103. Find the Largest and Smallest N items from the list"
   ]
  },
  {
   "cell_type": "code",
   "execution_count": 3,
   "metadata": {},
   "outputs": [
    {
     "name": "stdout",
     "output_type": "stream",
     "text": [
      "Smallest 5 numbers are : [2, 4, 5, 6, 7]\n",
      "Largest 5 numbers are : [21, 18, 15, 12, 10]\n"
     ]
    }
   ],
   "source": [
    "import heapq\n",
    "\n",
    "nums = [9, 18, 5, 4, 2, 6, 21, 7, 10, 15, 12]\n",
    "print('Smallest 5 numbers are :', heapq.nsmallest(5, nums))\n",
    "print('Largest 5 numbers are :', heapq.nlargest(5, nums))"
   ]
  },
  {
   "cell_type": "markdown",
   "metadata": {},
   "source": [
    "<b>104. Matching text at the start and end of the text"
   ]
  },
  {
   "cell_type": "code",
   "execution_count": 4,
   "metadata": {},
   "outputs": [
    {
     "name": "stdout",
     "output_type": "stream",
     "text": [
      "True\n",
      "True\n"
     ]
    }
   ],
   "source": [
    "a = 'samplefile.txt'\n",
    "print(a.startswith('sample'))\n",
    "print(a.endswith('.txt'))"
   ]
  },
  {
   "cell_type": "code",
   "execution_count": 6,
   "metadata": {},
   "outputs": [
    {
     "data": {
      "text/plain": [
       "['102_data.txt', 'result.txt', 'sample.txt']"
      ]
     },
     "execution_count": 6,
     "metadata": {},
     "output_type": "execute_result"
    }
   ],
   "source": [
    "import os\n",
    "\n",
    "filenames = os.listdir('.')\n",
    "[name for name in filenames if name.endswith('.txt')]"
   ]
  },
  {
   "cell_type": "code",
   "execution_count": 8,
   "metadata": {},
   "outputs": [
    {
     "data": {
      "text/plain": [
       "True"
      ]
     },
     "execution_count": 8,
     "metadata": {},
     "output_type": "execute_result"
    }
   ],
   "source": [
    "any(name.endswith('.txt') for name in filenames)"
   ]
  },
  {
   "cell_type": "markdown",
   "metadata": {},
   "source": [
    "<b>105. Perform below operations,\n",
    "1. Load a variable with sentences\n",
    "2. Initialize dictionary object\n",
    "3. Perform word count\n",
    "4. Print output"
   ]
  },
  {
   "cell_type": "code",
   "execution_count": 1,
   "metadata": {},
   "outputs": [
    {
     "name": "stdout",
     "output_type": "stream",
     "text": [
      "{'I': 1, 'am': 1, 'going': 1, 'to': 2, 'demnstrate': 1, 'how': 1, 'count': 2, 'words': 2, 'in': 1, 'a': 1, 'sentence': 1, 'using': 2, 'dictionary': 3, 'provided': 1, 'sentece': 1, 'for': 1}\n"
     ]
    }
   ],
   "source": [
    "sentence = \" I am going to demnstrate how to count words \\\n",
    "in a sentence using dictionary provided sentece dictionary \\\n",
    "words using dictionary for count\"\n",
    "\n",
    "word_count = {}\n",
    "\n",
    "for word in sentence.split():\n",
    "    if word not in word_count:\n",
    "        word_count[word] = 1\n",
    "    else:\n",
    "        word_count[word]+=1\n",
    "        \n",
    "print(word_count)"
   ]
  },
  {
   "cell_type": "code",
   "execution_count": 2,
   "metadata": {},
   "outputs": [
    {
     "data": {
      "text/plain": [
       "Counter({'I': 1,\n",
       "         'am': 1,\n",
       "         'going': 1,\n",
       "         'to': 2,\n",
       "         'demnstrate': 1,\n",
       "         'how': 1,\n",
       "         'count': 2,\n",
       "         'words': 2,\n",
       "         'in': 1,\n",
       "         'a': 1,\n",
       "         'sentence': 1,\n",
       "         'using': 2,\n",
       "         'dictionary': 3,\n",
       "         'provided': 1,\n",
       "         'sentece': 1,\n",
       "         'for': 1})"
      ]
     },
     "execution_count": 2,
     "metadata": {},
     "output_type": "execute_result"
    }
   ],
   "source": [
    "# Alternate way using 'Counter' library\n",
    "from collections import Counter\n",
    "\n",
    "sentence = \" I am going to demnstrate how to count words \\\n",
    "in a sentence using dictionary provided sentece dictionary \\\n",
    "words using dictionary for count\"\n",
    "\n",
    "words = sentence.split()\n",
    "\n",
    "word_count = Counter(words)\n",
    "\n",
    "word_count"
   ]
  },
  {
   "cell_type": "markdown",
   "metadata": {},
   "source": [
    "<b>106. Write a python program to compress a string.<br></b>\n",
    "Input : \"aabbbccc\"<br>\n",
    "Output: 2a3b3c<br>"
   ]
  },
  {
   "cell_type": "code",
   "execution_count": 1,
   "metadata": {},
   "outputs": [
    {
     "name": "stdout",
     "output_type": "stream",
     "text": [
      "a2b3c3"
     ]
    }
   ],
   "source": [
    "a = 'aabbbccc'\n",
    "b = dict()\n",
    "for i in a:\n",
    "    if i not in b.keys():\n",
    "        b[i]=1\n",
    "    else:\n",
    "        b[i]=b[i]+1\n",
    "for i in b:\n",
    "    print(i+str(b[i]), end='')"
   ]
  },
  {
   "cell_type": "markdown",
   "metadata": {},
   "source": [
    "<b>107. Difference between @classmethod, @staticmethod and instance method</b>"
   ]
  },
  {
   "cell_type": "code",
   "execution_count": 4,
   "metadata": {},
   "outputs": [],
   "source": [
    "class MyClass:\n",
    "    def __init__(self, a, b):\n",
    "        self.a = a\n",
    "        self.b = b\n",
    "        \n",
    "    @classmethod  \n",
    "    def add(cls, a, b):\n",
    "        return a + b\n",
    "    \n",
    "    @staticmethod\n",
    "    def subtract(a, b):\n",
    "        return a - b\n",
    "\n",
    "    def multiply(self):\n",
    "        return self.a * self.b"
   ]
  },
  {
   "cell_type": "code",
   "execution_count": 3,
   "metadata": {},
   "outputs": [
    {
     "name": "stdout",
     "output_type": "stream",
     "text": [
      "12\n",
      "8\n"
     ]
    }
   ],
   "source": [
    "p = MyClass(2, 4)\n",
    "print(p.add(4, 8))\n",
    "print(p.multiply())"
   ]
  },
  {
   "cell_type": "code",
   "execution_count": 5,
   "metadata": {},
   "outputs": [
    {
     "name": "stdout",
     "output_type": "stream",
     "text": [
      "12\n",
      "5\n",
      "8\n"
     ]
    }
   ],
   "source": [
    "p = MyClass(2, 4)\n",
    "print(p.add(4, 8))\n",
    "print(p.subtract(10, 5))\n",
    "print(p.multiply())"
   ]
  },
  {
   "cell_type": "markdown",
   "metadata": {},
   "source": [
    "<b>108. Let's learn about list comprehensions! You are given three integers  X, Y and Z representing the dimensions of a cuboid along with an integer N. You have to print a list of all possible coordinates given by (i,j,k) on a 3D grid where the sum of  i+j+k is not equal to N."
   ]
  },
  {
   "cell_type": "code",
   "execution_count": 1,
   "metadata": {},
   "outputs": [
    {
     "name": "stdout",
     "output_type": "stream",
     "text": [
      "2\n",
      "2\n",
      "2\n",
      "4\n",
      "[[0, 0, 0], [0, 0, 1], [0, 0, 2], [0, 1, 0], [0, 1, 1], [0, 1, 2], [0, 2, 0], [0, 2, 1], [1, 0, 0], [1, 0, 1], [1, 0, 2], [1, 1, 0], [1, 1, 1], [1, 2, 0], [1, 2, 2], [2, 0, 0], [2, 0, 1], [2, 1, 0], [2, 1, 2], [2, 2, 1], [2, 2, 2]]\n"
     ]
    }
   ],
   "source": [
    "x, y, z, n = int(input()), int(input()), int(input()), int(input())\n",
    "print([[a, b, c] for a in range(0, x+1) for b in range(0, y+1) for c in range(0, z+1) if a+b+c!=n])"
   ]
  },
  {
   "cell_type": "markdown",
   "metadata": {},
   "source": [
    "<b>109. Given the participants' score sheet for your University Sports Day, you are required to find the runner-up score. You are given n scores. Store them in a list and find the score of the runner-up.<br>\n",
    "</b><br>\n",
    "Input Format : <br>\n",
    "<br>\n",
    "The first line contains n. The second line contains an array A[]  of n integers each separated by a space.\n",
    "<br>\n",
    "Sample Input :<br>\n",
    "5<br>\n",
    "2 3 6 6 5<br>\n",
    "<br>\n",
    "Sample Output :<br>\n",
    "5"
   ]
  },
  {
   "cell_type": "code",
   "execution_count": 2,
   "metadata": {},
   "outputs": [
    {
     "name": "stdout",
     "output_type": "stream",
     "text": [
      "5\n",
      "2 3 6 6 5\n",
      "5\n"
     ]
    }
   ],
   "source": [
    "n = int(input())\n",
    "arr = list(map(int, input().split()))\n",
    "listnew = []\n",
    "\n",
    "for i in arr:\n",
    "    if i not in listnew:\n",
    "        listnew.append(i)\n",
    "        \n",
    "listnew.sort(reverse=True)\n",
    "print(listnew[1])"
   ]
  },
  {
   "cell_type": "markdown",
   "metadata": {},
   "source": [
    "<b>110. Print the name(s) of any student(s) having the second lowest grade in Physics; if there are multiple students, order their names alphabetically and print each one on a new line.</b><br>\n",
    "\n",
    "<b>Sample Input :</b><br>\n",
    "5<br>\n",
    "Harry<br>\n",
    "37.21<br>\n",
    "Berry<br>\n",
    "37.21<br>\n",
    "Tina<br>\n",
    "37.2<br>\n",
    "Akriti<br>\n",
    "41<br>\n",
    "Harsh<br>\n",
    "39<br>\n",
    "<br>\n",
    "<b>Sample Output :</b><br>\n",
    "Berry<br>\n",
    "Harry<br>"
   ]
  },
  {
   "cell_type": "code",
   "execution_count": 8,
   "metadata": {},
   "outputs": [
    {
     "name": "stdout",
     "output_type": "stream",
     "text": [
      "5\n",
      "ram\n",
      "90\n",
      "bhim\n",
      "88\n",
      "laila\n",
      "90\n",
      "john\n",
      "80\n",
      "Krish\n",
      "80\n",
      "bhim\n"
     ]
    }
   ],
   "source": [
    "marksheet = []\n",
    "scorelist = []\n",
    "\n",
    "if __name__ == '__main__':\n",
    "    for _ in range(int(input())):\n",
    "        name = input()\n",
    "        score = float(input())\n",
    "        marksheet+=[[name, score]]\n",
    "        scorelist+=[score]\n",
    "    b = sorted(list(set(scorelist)))[1]\n",
    "    \n",
    "    for a, c in sorted(marksheet):\n",
    "        if c==b:\n",
    "            print(a)"
   ]
  },
  {
   "cell_type": "markdown",
   "metadata": {},
   "source": [
    "<b>111. Find numbers whose product is maximum in a list</b>"
   ]
  },
  {
   "cell_type": "code",
   "execution_count": 1,
   "metadata": {},
   "outputs": [
    {
     "name": "stdout",
     "output_type": "stream",
     "text": [
      "Maximum product :  54\n",
      "Elements :  [8, 8]\n"
     ]
    }
   ],
   "source": [
    "a = [5, 2, 7, 1, 2, 4, 8, 7]\n",
    "b = list()\n",
    "c = list()\n",
    "for i in a:\n",
    "    for j in a:\n",
    "        c.append(i*j)\n",
    "        b.append([i,j])\n",
    "print('Maximum product : ', c.index(max(c)))\n",
    "print('Elements : ', b[54])"
   ]
  },
  {
   "cell_type": "markdown",
   "metadata": {},
   "source": [
    "<b>112. Sort a binary numbers without sort function</b>"
   ]
  },
  {
   "cell_type": "code",
   "execution_count": 2,
   "metadata": {},
   "outputs": [
    {
     "data": {
      "text/plain": [
       "[0, 0, 0, 0, 1, 1, 1, 1]"
      ]
     },
     "execution_count": 2,
     "metadata": {},
     "output_type": "execute_result"
    }
   ],
   "source": [
    "a = [1, 0, 1, 1, 0, 0, 1, 0]\n",
    "j = -1\n",
    "for i in range(len(a)):\n",
    "    if a[i] < 1:\n",
    "        j = j+1\n",
    "        a[i], a[j] = a[j], a[i]\n",
    "a"
   ]
  },
  {
   "cell_type": "markdown",
   "metadata": {},
   "source": [
    "<b>113. Find maximum element in an array</b>"
   ]
  },
  {
   "cell_type": "code",
   "execution_count": 1,
   "metadata": {},
   "outputs": [
    {
     "name": "stdout",
     "output_type": "stream",
     "text": [
      "9\n"
     ]
    }
   ],
   "source": [
    "a = [1, 6, 2, 8, 4, 9]\n",
    "print(max(a))"
   ]
  },
  {
   "cell_type": "markdown",
   "metadata": {},
   "source": [
    "<b>114. Reverse elements in list/array</b>"
   ]
  },
  {
   "cell_type": "code",
   "execution_count": 2,
   "metadata": {},
   "outputs": [
    {
     "name": "stdout",
     "output_type": "stream",
     "text": [
      "[9, 4, 8, 2, 6, 1]\n"
     ]
    }
   ],
   "source": [
    "a = [1, 6, 2, 8, 4, 9]\n",
    "print(a[::-1])"
   ]
  },
  {
   "cell_type": "markdown",
   "metadata": {},
   "source": [
    "<b>115. There is a given an array and split it from a specified position, and move the first part of array add to the end.</b>"
   ]
  },
  {
   "cell_type": "code",
   "execution_count": 14,
   "metadata": {},
   "outputs": [
    {
     "data": {
      "text/plain": [
       "[7, 1, 8, 9, 55, 21, 2, 5]"
      ]
     },
     "execution_count": 14,
     "metadata": {},
     "output_type": "execute_result"
    }
   ],
   "source": [
    "def pos(lst, n):\n",
    "    for i in range(n):\n",
    "        temp = lst[0]\n",
    "        for j in range(len(lst)-1):\n",
    "            lst[j] = lst[j+1]\n",
    "        lst[len(lst)-1] = temp\n",
    "    return lst\n",
    "pos([2, 5, 7, 1, 8, 9, 55, 21], 2)"
   ]
  },
  {
   "cell_type": "markdown",
   "metadata": {},
   "source": [
    "<b>116. Check if the elements in a list are monotonic</b>"
   ]
  },
  {
   "cell_type": "code",
   "execution_count": 20,
   "metadata": {},
   "outputs": [],
   "source": [
    "def is_monotonic(lst):\n",
    "    return (all(a[i] <= a[i+1] for i in range(len(a) - 1)) or all(a[i] >= a[i+1] for i in range(len(a) - 1)))"
   ]
  },
  {
   "cell_type": "code",
   "execution_count": 21,
   "metadata": {},
   "outputs": [
    {
     "name": "stdout",
     "output_type": "stream",
     "text": [
      "True\n"
     ]
    }
   ],
   "source": [
    "a = [1, 2, 3, 4, 5]\n",
    "print(is_monotonic(a))"
   ]
  },
  {
   "cell_type": "code",
   "execution_count": 22,
   "metadata": {},
   "outputs": [
    {
     "name": "stdout",
     "output_type": "stream",
     "text": [
      "False\n"
     ]
    }
   ],
   "source": [
    "a = [1, 2, 6, 3, 7, 5]\n",
    "print(is_monotonic(a))"
   ]
  },
  {
   "cell_type": "markdown",
   "metadata": {},
   "source": [
    "<b>117. Remove nth occurance of a given word</b>"
   ]
  },
  {
   "cell_type": "code",
   "execution_count": 29,
   "metadata": {},
   "outputs": [
    {
     "data": {
      "text/plain": [
       "['abc', 'ghi', 'jkl', 'mno']"
      ]
     },
     "execution_count": 29,
     "metadata": {},
     "output_type": "execute_result"
    }
   ],
   "source": [
    "def remove_nth(lst, n):\n",
    "    del lst[n-1]\n",
    "    return lst\n",
    "remove_nth(['abc', 'def', 'ghi', 'jkl', 'mno'], 2)"
   ]
  },
  {
   "cell_type": "markdown",
   "metadata": {},
   "source": [
    "<b>118. Count occurrences of an element in a list</b>"
   ]
  },
  {
   "cell_type": "code",
   "execution_count": 30,
   "metadata": {},
   "outputs": [
    {
     "name": "stdout",
     "output_type": "stream",
     "text": [
      "4\n"
     ]
    }
   ],
   "source": [
    "a = [1, 2, 3, 4, 5, 2, 10, 6, 2, 11, 9, 8, 2, 6]\n",
    "def count_element(lst, n):\n",
    "    count = 0\n",
    "    for i in a:\n",
    "        if n==i:\n",
    "            count+=1\n",
    "    return count\n",
    "print(count_element(a, 2))"
   ]
  },
  {
   "cell_type": "markdown",
   "metadata": {},
   "source": [
    "<b>119. Find sum of elements in list</b>"
   ]
  },
  {
   "cell_type": "code",
   "execution_count": 31,
   "metadata": {},
   "outputs": [
    {
     "data": {
      "text/plain": [
       "30"
      ]
     },
     "execution_count": 31,
     "metadata": {},
     "output_type": "execute_result"
    }
   ],
   "source": [
    "import functools\n",
    "a = [1, 6, 2, 8, 4, 9]\n",
    "b = functools.reduce(lambda x, y: x+y, a)\n",
    "b"
   ]
  },
  {
   "cell_type": "markdown",
   "metadata": {},
   "source": [
    "<b>120. Find second largest element in a list</b>"
   ]
  },
  {
   "cell_type": "code",
   "execution_count": 32,
   "metadata": {},
   "outputs": [
    {
     "data": {
      "text/plain": [
       "8"
      ]
     },
     "execution_count": 32,
     "metadata": {},
     "output_type": "execute_result"
    }
   ],
   "source": [
    "a = [1, 6, 2, 8, 4, 9, 5, 4, 2, 3]\n",
    "def second_largest(a):\n",
    "    b = sorted(a)\n",
    "    return b[len(a)-2]\n",
    "second_largest(a)"
   ]
  },
  {
   "cell_type": "markdown",
   "metadata": {},
   "source": [
    "<b>121. Count number of times substring occured in a string</b>"
   ]
  },
  {
   "cell_type": "code",
   "execution_count": 33,
   "metadata": {},
   "outputs": [
    {
     "name": "stdout",
     "output_type": "stream",
     "text": [
      "2\n"
     ]
    }
   ],
   "source": [
    "a = \"Hi how are you doing hi hello Hi fine hi\"\n",
    "print(a.count('hi'))"
   ]
  },
  {
   "cell_type": "code",
   "execution_count": null,
   "metadata": {},
   "outputs": [],
   "source": []
  }
 ],
 "metadata": {
  "kernelspec": {
   "display_name": "Python 3",
   "language": "python",
   "name": "python3"
  },
  "language_info": {
   "codemirror_mode": {
    "name": "ipython",
    "version": 3
   },
   "file_extension": ".py",
   "mimetype": "text/x-python",
   "name": "python",
   "nbconvert_exporter": "python",
   "pygments_lexer": "ipython3",
   "version": "3.6.5"
  }
 },
 "nbformat": 4,
 "nbformat_minor": 2
}
